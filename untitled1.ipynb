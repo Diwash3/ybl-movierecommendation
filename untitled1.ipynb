{
  "nbformat": 4,
  "nbformat_minor": 0,
  "metadata": {
    "colab": {
      "provenance": [],
      "authorship_tag": "ABX9TyNbJhhT1R0UXz+nKiYXa6vk",
      "include_colab_link": true
    },
    "kernelspec": {
      "name": "python3",
      "display_name": "Python 3"
    },
    "language_info": {
      "name": "python"
    }
  },
  "cells": [
    {
      "cell_type": "markdown",
      "metadata": {
        "id": "view-in-github",
        "colab_type": "text"
      },
      "source": [
        "<a href=\"https://colab.research.google.com/github/Diwash3/ybl-movierecommendation/blob/main/untitled1.ipynb\" target=\"_parent\"><img src=\"https://colab.research.google.com/assets/colab-badge.svg\" alt=\"Open In Colab\"/></a>"
      ]
    },
    {
      "cell_type": "markdown",
      "source": [
        "# Movie_Recommendation\n",
        "# Import Library"
      ],
      "metadata": {
        "id": "JQh3-vOJayY0"
      }
    },
    {
      "cell_type": "code",
      "source": [
        "\n",
        "import pandas as pd"
      ],
      "metadata": {
        "id": "YnsL9HX6a7h8"
      },
      "execution_count": null,
      "outputs": []
    },
    {
      "cell_type": "code",
      "source": [
        "import numpy as np\n"
      ],
      "metadata": {
        "id": "KCi2FK3ca_v_"
      },
      "execution_count": null,
      "outputs": []
    },
    {
      "cell_type": "markdown",
      "source": [
        "# Import Dataset"
      ],
      "metadata": {
        "id": "fFPSzEQsbC9I"
      }
    },
    {
      "cell_type": "code",
      "source": [
        "df = pd.read_csv('https://raw.githubusercontent.com/Lorddhaval/Dataset/main/Movies%20Recommendation.csv')"
      ],
      "metadata": {
        "id": "AfHmMYdRbN96"
      },
      "execution_count": null,
      "outputs": []
    },
    {
      "cell_type": "code",
      "source": [
        "df.head()"
      ],
      "metadata": {
        "colab": {
          "base_uri": "https://localhost:8080/",
          "height": 672
        },
        "id": "GQX3CaSlbSAq",
        "outputId": "7006b46c-174c-4d0c-c8e0-75112fc7279e"
      },
      "execution_count": null,
      "outputs": [
        {
          "output_type": "execute_result",
          "data": {
            "text/plain": [
              "   Movie_ID      Movie_Title                       Movie_Genre Movie_Language  \\\n",
              "0         1       Four Rooms                      Crime Comedy             en   \n",
              "1         2        Star Wars  Adventure Action Science Fiction             en   \n",
              "2         3     Finding Nemo                  Animation Family             en   \n",
              "3         4     Forrest Gump              Comedy Drama Romance             en   \n",
              "4         5  American Beauty                             Drama             en   \n",
              "\n",
              "   Movie_Budget  Movie_Popularity Movie_Release_Date  Movie_Revenue  \\\n",
              "0       4000000         22.876230         09-12-1995        4300000   \n",
              "1      11000000        126.393695         25-05-1977      775398007   \n",
              "2      94000000         85.688789         30-05-2003      940335536   \n",
              "3      55000000        138.133331         06-07-1994      677945399   \n",
              "4      15000000         80.878605         15-09-1999      356296601   \n",
              "\n",
              "   Movie_Runtime  Movie_Vote  ...  \\\n",
              "0           98.0         6.5  ...   \n",
              "1          121.0         8.1  ...   \n",
              "2          100.0         7.6  ...   \n",
              "3          142.0         8.2  ...   \n",
              "4          122.0         7.9  ...   \n",
              "\n",
              "                                      Movie_Homepage  \\\n",
              "0                                                NaN   \n",
              "1  http://www.starwars.com/films/star-wars-episod...   \n",
              "2              http://movies.disney.com/finding-nemo   \n",
              "3                                                NaN   \n",
              "4                      http://www.dreamworks.com/ab/   \n",
              "\n",
              "                                      Movie_Keywords  \\\n",
              "0          hotel new year's eve witch bet hotel room   \n",
              "1        android galaxy hermit death star lightsaber   \n",
              "2  father son relationship harbor underwater fish...   \n",
              "3  vietnam veteran hippie mentally disabled runni...   \n",
              "4  male nudity female nudity adultery midlife cri...   \n",
              "\n",
              "                                      Movie_Overview  \\\n",
              "0  It's Ted the Bellhop's first night on the job....   \n",
              "1  Princess Leia is captured and held hostage by ...   \n",
              "2  Nemo, an adventurous young clownfish, is unexp...   \n",
              "3  A man with a low IQ has accomplished great thi...   \n",
              "4  Lester Burnham, a depressed suburban father in...   \n",
              "\n",
              "                              Movie_Production_House  \\\n",
              "0  [{\"name\": \"Miramax Films\", \"id\": 14}, {\"name\":...   \n",
              "1  [{\"name\": \"Lucasfilm\", \"id\": 1}, {\"name\": \"Twe...   \n",
              "2     [{\"name\": \"Pixar Animation Studios\", \"id\": 3}]   \n",
              "3          [{\"name\": \"Paramount Pictures\", \"id\": 4}]   \n",
              "4  [{\"name\": \"DreamWorks SKG\", \"id\": 27}, {\"name\"...   \n",
              "\n",
              "                            Movie_Production_Country  \\\n",
              "0  [{\"iso_3166_1\": \"US\", \"name\": \"United States o...   \n",
              "1  [{\"iso_3166_1\": \"US\", \"name\": \"United States o...   \n",
              "2  [{\"iso_3166_1\": \"US\", \"name\": \"United States o...   \n",
              "3  [{\"iso_3166_1\": \"US\", \"name\": \"United States o...   \n",
              "4  [{\"iso_3166_1\": \"US\", \"name\": \"United States o...   \n",
              "\n",
              "                      Movie_Spoken_Language  \\\n",
              "0  [{\"iso_639_1\": \"en\", \"name\": \"English\"}]   \n",
              "1  [{\"iso_639_1\": \"en\", \"name\": \"English\"}]   \n",
              "2  [{\"iso_639_1\": \"en\", \"name\": \"English\"}]   \n",
              "3  [{\"iso_639_1\": \"en\", \"name\": \"English\"}]   \n",
              "4  [{\"iso_639_1\": \"en\", \"name\": \"English\"}]   \n",
              "\n",
              "                                       Movie_Tagline  \\\n",
              "0  Twelve outrageous guests. Four scandalous requ...   \n",
              "1       A long time ago in a galaxy far, far away...   \n",
              "2  There are 3.7 trillion fish in the ocean, they...   \n",
              "3  The world will never be the same, once you've ...   \n",
              "4                                       Look closer.   \n",
              "\n",
              "                                          Movie_Cast  \\\n",
              "0  Tim Roth Antonio Banderas Jennifer Beals Madon...   \n",
              "1  Mark Hamill Harrison Ford Carrie Fisher Peter ...   \n",
              "2  Albert Brooks Ellen DeGeneres Alexander Gould ...   \n",
              "3  Tom Hanks Robin Wright Gary Sinise Mykelti Wil...   \n",
              "4  Kevin Spacey Annette Bening Thora Birch Wes Be...   \n",
              "\n",
              "                                          Movie_Crew   Movie_Director  \n",
              "0  [{'name': 'Allison Anders', 'gender': 1, 'depa...   Allison Anders  \n",
              "1  [{'name': 'George Lucas', 'gender': 2, 'depart...     George Lucas  \n",
              "2  [{'name': 'Andrew Stanton', 'gender': 2, 'depa...   Andrew Stanton  \n",
              "3  [{'name': 'Alan Silvestri', 'gender': 2, 'depa...  Robert Zemeckis  \n",
              "4  [{'name': 'Thomas Newman', 'gender': 2, 'depar...       Sam Mendes  \n",
              "\n",
              "[5 rows x 21 columns]"
            ],
            "text/html": [
              "\n",
              "  <div id=\"df-fe85a421-cce8-4a13-99e4-8edf92104d5f\" class=\"colab-df-container\">\n",
              "    <div>\n",
              "<style scoped>\n",
              "    .dataframe tbody tr th:only-of-type {\n",
              "        vertical-align: middle;\n",
              "    }\n",
              "\n",
              "    .dataframe tbody tr th {\n",
              "        vertical-align: top;\n",
              "    }\n",
              "\n",
              "    .dataframe thead th {\n",
              "        text-align: right;\n",
              "    }\n",
              "</style>\n",
              "<table border=\"1\" class=\"dataframe\">\n",
              "  <thead>\n",
              "    <tr style=\"text-align: right;\">\n",
              "      <th></th>\n",
              "      <th>Movie_ID</th>\n",
              "      <th>Movie_Title</th>\n",
              "      <th>Movie_Genre</th>\n",
              "      <th>Movie_Language</th>\n",
              "      <th>Movie_Budget</th>\n",
              "      <th>Movie_Popularity</th>\n",
              "      <th>Movie_Release_Date</th>\n",
              "      <th>Movie_Revenue</th>\n",
              "      <th>Movie_Runtime</th>\n",
              "      <th>Movie_Vote</th>\n",
              "      <th>...</th>\n",
              "      <th>Movie_Homepage</th>\n",
              "      <th>Movie_Keywords</th>\n",
              "      <th>Movie_Overview</th>\n",
              "      <th>Movie_Production_House</th>\n",
              "      <th>Movie_Production_Country</th>\n",
              "      <th>Movie_Spoken_Language</th>\n",
              "      <th>Movie_Tagline</th>\n",
              "      <th>Movie_Cast</th>\n",
              "      <th>Movie_Crew</th>\n",
              "      <th>Movie_Director</th>\n",
              "    </tr>\n",
              "  </thead>\n",
              "  <tbody>\n",
              "    <tr>\n",
              "      <th>0</th>\n",
              "      <td>1</td>\n",
              "      <td>Four Rooms</td>\n",
              "      <td>Crime Comedy</td>\n",
              "      <td>en</td>\n",
              "      <td>4000000</td>\n",
              "      <td>22.876230</td>\n",
              "      <td>09-12-1995</td>\n",
              "      <td>4300000</td>\n",
              "      <td>98.0</td>\n",
              "      <td>6.5</td>\n",
              "      <td>...</td>\n",
              "      <td>NaN</td>\n",
              "      <td>hotel new year's eve witch bet hotel room</td>\n",
              "      <td>It's Ted the Bellhop's first night on the job....</td>\n",
              "      <td>[{\"name\": \"Miramax Films\", \"id\": 14}, {\"name\":...</td>\n",
              "      <td>[{\"iso_3166_1\": \"US\", \"name\": \"United States o...</td>\n",
              "      <td>[{\"iso_639_1\": \"en\", \"name\": \"English\"}]</td>\n",
              "      <td>Twelve outrageous guests. Four scandalous requ...</td>\n",
              "      <td>Tim Roth Antonio Banderas Jennifer Beals Madon...</td>\n",
              "      <td>[{'name': 'Allison Anders', 'gender': 1, 'depa...</td>\n",
              "      <td>Allison Anders</td>\n",
              "    </tr>\n",
              "    <tr>\n",
              "      <th>1</th>\n",
              "      <td>2</td>\n",
              "      <td>Star Wars</td>\n",
              "      <td>Adventure Action Science Fiction</td>\n",
              "      <td>en</td>\n",
              "      <td>11000000</td>\n",
              "      <td>126.393695</td>\n",
              "      <td>25-05-1977</td>\n",
              "      <td>775398007</td>\n",
              "      <td>121.0</td>\n",
              "      <td>8.1</td>\n",
              "      <td>...</td>\n",
              "      <td>http://www.starwars.com/films/star-wars-episod...</td>\n",
              "      <td>android galaxy hermit death star lightsaber</td>\n",
              "      <td>Princess Leia is captured and held hostage by ...</td>\n",
              "      <td>[{\"name\": \"Lucasfilm\", \"id\": 1}, {\"name\": \"Twe...</td>\n",
              "      <td>[{\"iso_3166_1\": \"US\", \"name\": \"United States o...</td>\n",
              "      <td>[{\"iso_639_1\": \"en\", \"name\": \"English\"}]</td>\n",
              "      <td>A long time ago in a galaxy far, far away...</td>\n",
              "      <td>Mark Hamill Harrison Ford Carrie Fisher Peter ...</td>\n",
              "      <td>[{'name': 'George Lucas', 'gender': 2, 'depart...</td>\n",
              "      <td>George Lucas</td>\n",
              "    </tr>\n",
              "    <tr>\n",
              "      <th>2</th>\n",
              "      <td>3</td>\n",
              "      <td>Finding Nemo</td>\n",
              "      <td>Animation Family</td>\n",
              "      <td>en</td>\n",
              "      <td>94000000</td>\n",
              "      <td>85.688789</td>\n",
              "      <td>30-05-2003</td>\n",
              "      <td>940335536</td>\n",
              "      <td>100.0</td>\n",
              "      <td>7.6</td>\n",
              "      <td>...</td>\n",
              "      <td>http://movies.disney.com/finding-nemo</td>\n",
              "      <td>father son relationship harbor underwater fish...</td>\n",
              "      <td>Nemo, an adventurous young clownfish, is unexp...</td>\n",
              "      <td>[{\"name\": \"Pixar Animation Studios\", \"id\": 3}]</td>\n",
              "      <td>[{\"iso_3166_1\": \"US\", \"name\": \"United States o...</td>\n",
              "      <td>[{\"iso_639_1\": \"en\", \"name\": \"English\"}]</td>\n",
              "      <td>There are 3.7 trillion fish in the ocean, they...</td>\n",
              "      <td>Albert Brooks Ellen DeGeneres Alexander Gould ...</td>\n",
              "      <td>[{'name': 'Andrew Stanton', 'gender': 2, 'depa...</td>\n",
              "      <td>Andrew Stanton</td>\n",
              "    </tr>\n",
              "    <tr>\n",
              "      <th>3</th>\n",
              "      <td>4</td>\n",
              "      <td>Forrest Gump</td>\n",
              "      <td>Comedy Drama Romance</td>\n",
              "      <td>en</td>\n",
              "      <td>55000000</td>\n",
              "      <td>138.133331</td>\n",
              "      <td>06-07-1994</td>\n",
              "      <td>677945399</td>\n",
              "      <td>142.0</td>\n",
              "      <td>8.2</td>\n",
              "      <td>...</td>\n",
              "      <td>NaN</td>\n",
              "      <td>vietnam veteran hippie mentally disabled runni...</td>\n",
              "      <td>A man with a low IQ has accomplished great thi...</td>\n",
              "      <td>[{\"name\": \"Paramount Pictures\", \"id\": 4}]</td>\n",
              "      <td>[{\"iso_3166_1\": \"US\", \"name\": \"United States o...</td>\n",
              "      <td>[{\"iso_639_1\": \"en\", \"name\": \"English\"}]</td>\n",
              "      <td>The world will never be the same, once you've ...</td>\n",
              "      <td>Tom Hanks Robin Wright Gary Sinise Mykelti Wil...</td>\n",
              "      <td>[{'name': 'Alan Silvestri', 'gender': 2, 'depa...</td>\n",
              "      <td>Robert Zemeckis</td>\n",
              "    </tr>\n",
              "    <tr>\n",
              "      <th>4</th>\n",
              "      <td>5</td>\n",
              "      <td>American Beauty</td>\n",
              "      <td>Drama</td>\n",
              "      <td>en</td>\n",
              "      <td>15000000</td>\n",
              "      <td>80.878605</td>\n",
              "      <td>15-09-1999</td>\n",
              "      <td>356296601</td>\n",
              "      <td>122.0</td>\n",
              "      <td>7.9</td>\n",
              "      <td>...</td>\n",
              "      <td>http://www.dreamworks.com/ab/</td>\n",
              "      <td>male nudity female nudity adultery midlife cri...</td>\n",
              "      <td>Lester Burnham, a depressed suburban father in...</td>\n",
              "      <td>[{\"name\": \"DreamWorks SKG\", \"id\": 27}, {\"name\"...</td>\n",
              "      <td>[{\"iso_3166_1\": \"US\", \"name\": \"United States o...</td>\n",
              "      <td>[{\"iso_639_1\": \"en\", \"name\": \"English\"}]</td>\n",
              "      <td>Look closer.</td>\n",
              "      <td>Kevin Spacey Annette Bening Thora Birch Wes Be...</td>\n",
              "      <td>[{'name': 'Thomas Newman', 'gender': 2, 'depar...</td>\n",
              "      <td>Sam Mendes</td>\n",
              "    </tr>\n",
              "  </tbody>\n",
              "</table>\n",
              "<p>5 rows × 21 columns</p>\n",
              "</div>\n",
              "    <div class=\"colab-df-buttons\">\n",
              "\n",
              "  <div class=\"colab-df-container\">\n",
              "    <button class=\"colab-df-convert\" onclick=\"convertToInteractive('df-fe85a421-cce8-4a13-99e4-8edf92104d5f')\"\n",
              "            title=\"Convert this dataframe to an interactive table.\"\n",
              "            style=\"display:none;\">\n",
              "\n",
              "  <svg xmlns=\"http://www.w3.org/2000/svg\" height=\"24px\" viewBox=\"0 -960 960 960\">\n",
              "    <path d=\"M120-120v-720h720v720H120Zm60-500h600v-160H180v160Zm220 220h160v-160H400v160Zm0 220h160v-160H400v160ZM180-400h160v-160H180v160Zm440 0h160v-160H620v160ZM180-180h160v-160H180v160Zm440 0h160v-160H620v160Z\"/>\n",
              "  </svg>\n",
              "    </button>\n",
              "\n",
              "  <style>\n",
              "    .colab-df-container {\n",
              "      display:flex;\n",
              "      gap: 12px;\n",
              "    }\n",
              "\n",
              "    .colab-df-convert {\n",
              "      background-color: #E8F0FE;\n",
              "      border: none;\n",
              "      border-radius: 50%;\n",
              "      cursor: pointer;\n",
              "      display: none;\n",
              "      fill: #1967D2;\n",
              "      height: 32px;\n",
              "      padding: 0 0 0 0;\n",
              "      width: 32px;\n",
              "    }\n",
              "\n",
              "    .colab-df-convert:hover {\n",
              "      background-color: #E2EBFA;\n",
              "      box-shadow: 0px 1px 2px rgba(60, 64, 67, 0.3), 0px 1px 3px 1px rgba(60, 64, 67, 0.15);\n",
              "      fill: #174EA6;\n",
              "    }\n",
              "\n",
              "    .colab-df-buttons div {\n",
              "      margin-bottom: 4px;\n",
              "    }\n",
              "\n",
              "    [theme=dark] .colab-df-convert {\n",
              "      background-color: #3B4455;\n",
              "      fill: #D2E3FC;\n",
              "    }\n",
              "\n",
              "    [theme=dark] .colab-df-convert:hover {\n",
              "      background-color: #434B5C;\n",
              "      box-shadow: 0px 1px 3px 1px rgba(0, 0, 0, 0.15);\n",
              "      filter: drop-shadow(0px 1px 2px rgba(0, 0, 0, 0.3));\n",
              "      fill: #FFFFFF;\n",
              "    }\n",
              "  </style>\n",
              "\n",
              "    <script>\n",
              "      const buttonEl =\n",
              "        document.querySelector('#df-fe85a421-cce8-4a13-99e4-8edf92104d5f button.colab-df-convert');\n",
              "      buttonEl.style.display =\n",
              "        google.colab.kernel.accessAllowed ? 'block' : 'none';\n",
              "\n",
              "      async function convertToInteractive(key) {\n",
              "        const element = document.querySelector('#df-fe85a421-cce8-4a13-99e4-8edf92104d5f');\n",
              "        const dataTable =\n",
              "          await google.colab.kernel.invokeFunction('convertToInteractive',\n",
              "                                                    [key], {});\n",
              "        if (!dataTable) return;\n",
              "\n",
              "        const docLinkHtml = 'Like what you see? Visit the ' +\n",
              "          '<a target=\"_blank\" href=https://colab.research.google.com/notebooks/data_table.ipynb>data table notebook</a>'\n",
              "          + ' to learn more about interactive tables.';\n",
              "        element.innerHTML = '';\n",
              "        dataTable['output_type'] = 'display_data';\n",
              "        await google.colab.output.renderOutput(dataTable, element);\n",
              "        const docLink = document.createElement('div');\n",
              "        docLink.innerHTML = docLinkHtml;\n",
              "        element.appendChild(docLink);\n",
              "      }\n",
              "    </script>\n",
              "  </div>\n",
              "\n",
              "\n",
              "<div id=\"df-a0def888-1fcf-4bb7-b59d-49732a98eeb5\">\n",
              "  <button class=\"colab-df-quickchart\" onclick=\"quickchart('df-a0def888-1fcf-4bb7-b59d-49732a98eeb5')\"\n",
              "            title=\"Suggest charts.\"\n",
              "            style=\"display:none;\">\n",
              "\n",
              "<svg xmlns=\"http://www.w3.org/2000/svg\" height=\"24px\"viewBox=\"0 0 24 24\"\n",
              "     width=\"24px\">\n",
              "    <g>\n",
              "        <path d=\"M19 3H5c-1.1 0-2 .9-2 2v14c0 1.1.9 2 2 2h14c1.1 0 2-.9 2-2V5c0-1.1-.9-2-2-2zM9 17H7v-7h2v7zm4 0h-2V7h2v10zm4 0h-2v-4h2v4z\"/>\n",
              "    </g>\n",
              "</svg>\n",
              "  </button>\n",
              "\n",
              "<style>\n",
              "  .colab-df-quickchart {\n",
              "      --bg-color: #E8F0FE;\n",
              "      --fill-color: #1967D2;\n",
              "      --hover-bg-color: #E2EBFA;\n",
              "      --hover-fill-color: #174EA6;\n",
              "      --disabled-fill-color: #AAA;\n",
              "      --disabled-bg-color: #DDD;\n",
              "  }\n",
              "\n",
              "  [theme=dark] .colab-df-quickchart {\n",
              "      --bg-color: #3B4455;\n",
              "      --fill-color: #D2E3FC;\n",
              "      --hover-bg-color: #434B5C;\n",
              "      --hover-fill-color: #FFFFFF;\n",
              "      --disabled-bg-color: #3B4455;\n",
              "      --disabled-fill-color: #666;\n",
              "  }\n",
              "\n",
              "  .colab-df-quickchart {\n",
              "    background-color: var(--bg-color);\n",
              "    border: none;\n",
              "    border-radius: 50%;\n",
              "    cursor: pointer;\n",
              "    display: none;\n",
              "    fill: var(--fill-color);\n",
              "    height: 32px;\n",
              "    padding: 0;\n",
              "    width: 32px;\n",
              "  }\n",
              "\n",
              "  .colab-df-quickchart:hover {\n",
              "    background-color: var(--hover-bg-color);\n",
              "    box-shadow: 0 1px 2px rgba(60, 64, 67, 0.3), 0 1px 3px 1px rgba(60, 64, 67, 0.15);\n",
              "    fill: var(--button-hover-fill-color);\n",
              "  }\n",
              "\n",
              "  .colab-df-quickchart-complete:disabled,\n",
              "  .colab-df-quickchart-complete:disabled:hover {\n",
              "    background-color: var(--disabled-bg-color);\n",
              "    fill: var(--disabled-fill-color);\n",
              "    box-shadow: none;\n",
              "  }\n",
              "\n",
              "  .colab-df-spinner {\n",
              "    border: 2px solid var(--fill-color);\n",
              "    border-color: transparent;\n",
              "    border-bottom-color: var(--fill-color);\n",
              "    animation:\n",
              "      spin 1s steps(1) infinite;\n",
              "  }\n",
              "\n",
              "  @keyframes spin {\n",
              "    0% {\n",
              "      border-color: transparent;\n",
              "      border-bottom-color: var(--fill-color);\n",
              "      border-left-color: var(--fill-color);\n",
              "    }\n",
              "    20% {\n",
              "      border-color: transparent;\n",
              "      border-left-color: var(--fill-color);\n",
              "      border-top-color: var(--fill-color);\n",
              "    }\n",
              "    30% {\n",
              "      border-color: transparent;\n",
              "      border-left-color: var(--fill-color);\n",
              "      border-top-color: var(--fill-color);\n",
              "      border-right-color: var(--fill-color);\n",
              "    }\n",
              "    40% {\n",
              "      border-color: transparent;\n",
              "      border-right-color: var(--fill-color);\n",
              "      border-top-color: var(--fill-color);\n",
              "    }\n",
              "    60% {\n",
              "      border-color: transparent;\n",
              "      border-right-color: var(--fill-color);\n",
              "    }\n",
              "    80% {\n",
              "      border-color: transparent;\n",
              "      border-right-color: var(--fill-color);\n",
              "      border-bottom-color: var(--fill-color);\n",
              "    }\n",
              "    90% {\n",
              "      border-color: transparent;\n",
              "      border-bottom-color: var(--fill-color);\n",
              "    }\n",
              "  }\n",
              "</style>\n",
              "\n",
              "  <script>\n",
              "    async function quickchart(key) {\n",
              "      const quickchartButtonEl =\n",
              "        document.querySelector('#' + key + ' button');\n",
              "      quickchartButtonEl.disabled = true;  // To prevent multiple clicks.\n",
              "      quickchartButtonEl.classList.add('colab-df-spinner');\n",
              "      try {\n",
              "        const charts = await google.colab.kernel.invokeFunction(\n",
              "            'suggestCharts', [key], {});\n",
              "      } catch (error) {\n",
              "        console.error('Error during call to suggestCharts:', error);\n",
              "      }\n",
              "      quickchartButtonEl.classList.remove('colab-df-spinner');\n",
              "      quickchartButtonEl.classList.add('colab-df-quickchart-complete');\n",
              "    }\n",
              "    (() => {\n",
              "      let quickchartButtonEl =\n",
              "        document.querySelector('#df-a0def888-1fcf-4bb7-b59d-49732a98eeb5 button');\n",
              "      quickchartButtonEl.style.display =\n",
              "        google.colab.kernel.accessAllowed ? 'block' : 'none';\n",
              "    })();\n",
              "  </script>\n",
              "</div>\n",
              "    </div>\n",
              "  </div>\n"
            ]
          },
          "metadata": {},
          "execution_count": 7
        }
      ]
    },
    {
      "cell_type": "code",
      "source": [
        "df.info()"
      ],
      "metadata": {
        "colab": {
          "base_uri": "https://localhost:8080/"
        },
        "id": "aXjoeb-pbV4_",
        "outputId": "8bccd78c-1802-410c-aabe-386527fe2d9d"
      },
      "execution_count": null,
      "outputs": [
        {
          "output_type": "stream",
          "name": "stdout",
          "text": [
            "<class 'pandas.core.frame.DataFrame'>\n",
            "RangeIndex: 4760 entries, 0 to 4759\n",
            "Data columns (total 21 columns):\n",
            " #   Column                    Non-Null Count  Dtype  \n",
            "---  ------                    --------------  -----  \n",
            " 0   Movie_ID                  4760 non-null   int64  \n",
            " 1   Movie_Title               4760 non-null   object \n",
            " 2   Movie_Genre               4760 non-null   object \n",
            " 3   Movie_Language            4760 non-null   object \n",
            " 4   Movie_Budget              4760 non-null   int64  \n",
            " 5   Movie_Popularity          4760 non-null   float64\n",
            " 6   Movie_Release_Date        4760 non-null   object \n",
            " 7   Movie_Revenue             4760 non-null   int64  \n",
            " 8   Movie_Runtime             4758 non-null   float64\n",
            " 9   Movie_Vote                4760 non-null   float64\n",
            " 10  Movie_Vote_Count          4760 non-null   int64  \n",
            " 11  Movie_Homepage            1699 non-null   object \n",
            " 12  Movie_Keywords            4373 non-null   object \n",
            " 13  Movie_Overview            4757 non-null   object \n",
            " 14  Movie_Production_House    4760 non-null   object \n",
            " 15  Movie_Production_Country  4760 non-null   object \n",
            " 16  Movie_Spoken_Language     4760 non-null   object \n",
            " 17  Movie_Tagline             3942 non-null   object \n",
            " 18  Movie_Cast                4733 non-null   object \n",
            " 19  Movie_Crew                4760 non-null   object \n",
            " 20  Movie_Director            4738 non-null   object \n",
            "dtypes: float64(3), int64(4), object(14)\n",
            "memory usage: 781.1+ KB\n"
          ]
        }
      ]
    },
    {
      "cell_type": "code",
      "source": [
        "\n",
        "\n",
        "df.shape"
      ],
      "metadata": {
        "colab": {
          "base_uri": "https://localhost:8080/"
        },
        "id": "nMLX5jh-bY6s",
        "outputId": "257f8830-b966-4f7b-96e5-476cf51902fe"
      },
      "execution_count": null,
      "outputs": [
        {
          "output_type": "execute_result",
          "data": {
            "text/plain": [
              "(4760, 21)"
            ]
          },
          "metadata": {},
          "execution_count": 9
        }
      ]
    },
    {
      "cell_type": "code",
      "source": [
        "df.columns\n"
      ],
      "metadata": {
        "colab": {
          "base_uri": "https://localhost:8080/"
        },
        "id": "Y5JveXJPbajk",
        "outputId": "38b8f1f1-296c-4aa4-9ca6-48082203ebdd"
      },
      "execution_count": null,
      "outputs": [
        {
          "output_type": "execute_result",
          "data": {
            "text/plain": [
              "Index(['Movie_ID', 'Movie_Title', 'Movie_Genre', 'Movie_Language',\n",
              "       'Movie_Budget', 'Movie_Popularity', 'Movie_Release_Date',\n",
              "       'Movie_Revenue', 'Movie_Runtime', 'Movie_Vote', 'Movie_Vote_Count',\n",
              "       'Movie_Homepage', 'Movie_Keywords', 'Movie_Overview',\n",
              "       'Movie_Production_House', 'Movie_Production_Country',\n",
              "       'Movie_Spoken_Language', 'Movie_Tagline', 'Movie_Cast', 'Movie_Crew',\n",
              "       'Movie_Director'],\n",
              "      dtype='object')"
            ]
          },
          "metadata": {},
          "execution_count": 10
        }
      ]
    },
    {
      "cell_type": "code",
      "source": [
        "df_features = df[['Movie_Genre','Movie_Keywords','Movie_Tagline','Movie_Cast','Movie_Director']].fillna('')"
      ],
      "metadata": {
        "id": "Es7QyUiDbelq"
      },
      "execution_count": null,
      "outputs": []
    },
    {
      "cell_type": "code",
      "source": [
        "df_features.shape\n"
      ],
      "metadata": {
        "colab": {
          "base_uri": "https://localhost:8080/"
        },
        "id": "X7HHdtAQbjJy",
        "outputId": "b91936f0-f866-4950-8ce9-ef2cd24982de"
      },
      "execution_count": null,
      "outputs": [
        {
          "output_type": "execute_result",
          "data": {
            "text/plain": [
              "(4760, 5)"
            ]
          },
          "metadata": {},
          "execution_count": 12
        }
      ]
    },
    {
      "cell_type": "code",
      "source": [
        "df_features"
      ],
      "metadata": {
        "colab": {
          "base_uri": "https://localhost:8080/",
          "height": 579
        },
        "id": "bc9-PxWebk8I",
        "outputId": "32ae08f5-9a5d-45df-95bc-6bde46bef29b"
      },
      "execution_count": null,
      "outputs": [
        {
          "output_type": "execute_result",
          "data": {
            "text/plain": [
              "                           Movie_Genre  \\\n",
              "0                         Crime Comedy   \n",
              "1     Adventure Action Science Fiction   \n",
              "2                     Animation Family   \n",
              "3                 Comedy Drama Romance   \n",
              "4                                Drama   \n",
              "...                                ...   \n",
              "4755                            Horror   \n",
              "4756               Comedy Family Drama   \n",
              "4757                    Thriller Drama   \n",
              "4758                            Family   \n",
              "4759                       Documentary   \n",
              "\n",
              "                                         Movie_Keywords  \\\n",
              "0             hotel new year's eve witch bet hotel room   \n",
              "1           android galaxy hermit death star lightsaber   \n",
              "2     father son relationship harbor underwater fish...   \n",
              "3     vietnam veteran hippie mentally disabled runni...   \n",
              "4     male nudity female nudity adultery midlife cri...   \n",
              "...                                                 ...   \n",
              "4755                                                      \n",
              "4756                                                      \n",
              "4757                     christian film sex trafficking   \n",
              "4758                                                      \n",
              "4759  music actors legendary perfomer classic hollyw...   \n",
              "\n",
              "                                          Movie_Tagline  \\\n",
              "0     Twelve outrageous guests. Four scandalous requ...   \n",
              "1          A long time ago in a galaxy far, far away...   \n",
              "2     There are 3.7 trillion fish in the ocean, they...   \n",
              "3     The world will never be the same, once you've ...   \n",
              "4                                          Look closer.   \n",
              "...                                                 ...   \n",
              "4755                The hot spot where Satan's waitin'.   \n",
              "4756           It’s better to stand out than to fit in.   \n",
              "4757           She never knew it could happen to her...   \n",
              "4758                                                      \n",
              "4759                                                      \n",
              "\n",
              "                                             Movie_Cast     Movie_Director  \n",
              "0     Tim Roth Antonio Banderas Jennifer Beals Madon...     Allison Anders  \n",
              "1     Mark Hamill Harrison Ford Carrie Fisher Peter ...       George Lucas  \n",
              "2     Albert Brooks Ellen DeGeneres Alexander Gould ...     Andrew Stanton  \n",
              "3     Tom Hanks Robin Wright Gary Sinise Mykelti Wil...    Robert Zemeckis  \n",
              "4     Kevin Spacey Annette Bening Thora Birch Wes Be...         Sam Mendes  \n",
              "...                                                 ...                ...  \n",
              "4755  Lisa Hart Carroll Michael Des Barres Paul Drak...         Pece Dingo  \n",
              "4756  Roni Akurati Brighton Sharbino Jason Lee Anjul...       Frank Lotito  \n",
              "4757  Nicole Smolen Kim Baldwin Ariana Stephens Brys...       Jaco Booyens  \n",
              "4758                                                                        \n",
              "4759                                    Tony Oppedisano  Simon Napier-Bell  \n",
              "\n",
              "[4760 rows x 5 columns]"
            ],
            "text/html": [
              "\n",
              "  <div id=\"df-45eb0921-c1ab-461c-879a-5ef8aec8429b\" class=\"colab-df-container\">\n",
              "    <div>\n",
              "<style scoped>\n",
              "    .dataframe tbody tr th:only-of-type {\n",
              "        vertical-align: middle;\n",
              "    }\n",
              "\n",
              "    .dataframe tbody tr th {\n",
              "        vertical-align: top;\n",
              "    }\n",
              "\n",
              "    .dataframe thead th {\n",
              "        text-align: right;\n",
              "    }\n",
              "</style>\n",
              "<table border=\"1\" class=\"dataframe\">\n",
              "  <thead>\n",
              "    <tr style=\"text-align: right;\">\n",
              "      <th></th>\n",
              "      <th>Movie_Genre</th>\n",
              "      <th>Movie_Keywords</th>\n",
              "      <th>Movie_Tagline</th>\n",
              "      <th>Movie_Cast</th>\n",
              "      <th>Movie_Director</th>\n",
              "    </tr>\n",
              "  </thead>\n",
              "  <tbody>\n",
              "    <tr>\n",
              "      <th>0</th>\n",
              "      <td>Crime Comedy</td>\n",
              "      <td>hotel new year's eve witch bet hotel room</td>\n",
              "      <td>Twelve outrageous guests. Four scandalous requ...</td>\n",
              "      <td>Tim Roth Antonio Banderas Jennifer Beals Madon...</td>\n",
              "      <td>Allison Anders</td>\n",
              "    </tr>\n",
              "    <tr>\n",
              "      <th>1</th>\n",
              "      <td>Adventure Action Science Fiction</td>\n",
              "      <td>android galaxy hermit death star lightsaber</td>\n",
              "      <td>A long time ago in a galaxy far, far away...</td>\n",
              "      <td>Mark Hamill Harrison Ford Carrie Fisher Peter ...</td>\n",
              "      <td>George Lucas</td>\n",
              "    </tr>\n",
              "    <tr>\n",
              "      <th>2</th>\n",
              "      <td>Animation Family</td>\n",
              "      <td>father son relationship harbor underwater fish...</td>\n",
              "      <td>There are 3.7 trillion fish in the ocean, they...</td>\n",
              "      <td>Albert Brooks Ellen DeGeneres Alexander Gould ...</td>\n",
              "      <td>Andrew Stanton</td>\n",
              "    </tr>\n",
              "    <tr>\n",
              "      <th>3</th>\n",
              "      <td>Comedy Drama Romance</td>\n",
              "      <td>vietnam veteran hippie mentally disabled runni...</td>\n",
              "      <td>The world will never be the same, once you've ...</td>\n",
              "      <td>Tom Hanks Robin Wright Gary Sinise Mykelti Wil...</td>\n",
              "      <td>Robert Zemeckis</td>\n",
              "    </tr>\n",
              "    <tr>\n",
              "      <th>4</th>\n",
              "      <td>Drama</td>\n",
              "      <td>male nudity female nudity adultery midlife cri...</td>\n",
              "      <td>Look closer.</td>\n",
              "      <td>Kevin Spacey Annette Bening Thora Birch Wes Be...</td>\n",
              "      <td>Sam Mendes</td>\n",
              "    </tr>\n",
              "    <tr>\n",
              "      <th>...</th>\n",
              "      <td>...</td>\n",
              "      <td>...</td>\n",
              "      <td>...</td>\n",
              "      <td>...</td>\n",
              "      <td>...</td>\n",
              "    </tr>\n",
              "    <tr>\n",
              "      <th>4755</th>\n",
              "      <td>Horror</td>\n",
              "      <td></td>\n",
              "      <td>The hot spot where Satan's waitin'.</td>\n",
              "      <td>Lisa Hart Carroll Michael Des Barres Paul Drak...</td>\n",
              "      <td>Pece Dingo</td>\n",
              "    </tr>\n",
              "    <tr>\n",
              "      <th>4756</th>\n",
              "      <td>Comedy Family Drama</td>\n",
              "      <td></td>\n",
              "      <td>It’s better to stand out than to fit in.</td>\n",
              "      <td>Roni Akurati Brighton Sharbino Jason Lee Anjul...</td>\n",
              "      <td>Frank Lotito</td>\n",
              "    </tr>\n",
              "    <tr>\n",
              "      <th>4757</th>\n",
              "      <td>Thriller Drama</td>\n",
              "      <td>christian film sex trafficking</td>\n",
              "      <td>She never knew it could happen to her...</td>\n",
              "      <td>Nicole Smolen Kim Baldwin Ariana Stephens Brys...</td>\n",
              "      <td>Jaco Booyens</td>\n",
              "    </tr>\n",
              "    <tr>\n",
              "      <th>4758</th>\n",
              "      <td>Family</td>\n",
              "      <td></td>\n",
              "      <td></td>\n",
              "      <td></td>\n",
              "      <td></td>\n",
              "    </tr>\n",
              "    <tr>\n",
              "      <th>4759</th>\n",
              "      <td>Documentary</td>\n",
              "      <td>music actors legendary perfomer classic hollyw...</td>\n",
              "      <td></td>\n",
              "      <td>Tony Oppedisano</td>\n",
              "      <td>Simon Napier-Bell</td>\n",
              "    </tr>\n",
              "  </tbody>\n",
              "</table>\n",
              "<p>4760 rows × 5 columns</p>\n",
              "</div>\n",
              "    <div class=\"colab-df-buttons\">\n",
              "\n",
              "  <div class=\"colab-df-container\">\n",
              "    <button class=\"colab-df-convert\" onclick=\"convertToInteractive('df-45eb0921-c1ab-461c-879a-5ef8aec8429b')\"\n",
              "            title=\"Convert this dataframe to an interactive table.\"\n",
              "            style=\"display:none;\">\n",
              "\n",
              "  <svg xmlns=\"http://www.w3.org/2000/svg\" height=\"24px\" viewBox=\"0 -960 960 960\">\n",
              "    <path d=\"M120-120v-720h720v720H120Zm60-500h600v-160H180v160Zm220 220h160v-160H400v160Zm0 220h160v-160H400v160ZM180-400h160v-160H180v160Zm440 0h160v-160H620v160ZM180-180h160v-160H180v160Zm440 0h160v-160H620v160Z\"/>\n",
              "  </svg>\n",
              "    </button>\n",
              "\n",
              "  <style>\n",
              "    .colab-df-container {\n",
              "      display:flex;\n",
              "      gap: 12px;\n",
              "    }\n",
              "\n",
              "    .colab-df-convert {\n",
              "      background-color: #E8F0FE;\n",
              "      border: none;\n",
              "      border-radius: 50%;\n",
              "      cursor: pointer;\n",
              "      display: none;\n",
              "      fill: #1967D2;\n",
              "      height: 32px;\n",
              "      padding: 0 0 0 0;\n",
              "      width: 32px;\n",
              "    }\n",
              "\n",
              "    .colab-df-convert:hover {\n",
              "      background-color: #E2EBFA;\n",
              "      box-shadow: 0px 1px 2px rgba(60, 64, 67, 0.3), 0px 1px 3px 1px rgba(60, 64, 67, 0.15);\n",
              "      fill: #174EA6;\n",
              "    }\n",
              "\n",
              "    .colab-df-buttons div {\n",
              "      margin-bottom: 4px;\n",
              "    }\n",
              "\n",
              "    [theme=dark] .colab-df-convert {\n",
              "      background-color: #3B4455;\n",
              "      fill: #D2E3FC;\n",
              "    }\n",
              "\n",
              "    [theme=dark] .colab-df-convert:hover {\n",
              "      background-color: #434B5C;\n",
              "      box-shadow: 0px 1px 3px 1px rgba(0, 0, 0, 0.15);\n",
              "      filter: drop-shadow(0px 1px 2px rgba(0, 0, 0, 0.3));\n",
              "      fill: #FFFFFF;\n",
              "    }\n",
              "  </style>\n",
              "\n",
              "    <script>\n",
              "      const buttonEl =\n",
              "        document.querySelector('#df-45eb0921-c1ab-461c-879a-5ef8aec8429b button.colab-df-convert');\n",
              "      buttonEl.style.display =\n",
              "        google.colab.kernel.accessAllowed ? 'block' : 'none';\n",
              "\n",
              "      async function convertToInteractive(key) {\n",
              "        const element = document.querySelector('#df-45eb0921-c1ab-461c-879a-5ef8aec8429b');\n",
              "        const dataTable =\n",
              "          await google.colab.kernel.invokeFunction('convertToInteractive',\n",
              "                                                    [key], {});\n",
              "        if (!dataTable) return;\n",
              "\n",
              "        const docLinkHtml = 'Like what you see? Visit the ' +\n",
              "          '<a target=\"_blank\" href=https://colab.research.google.com/notebooks/data_table.ipynb>data table notebook</a>'\n",
              "          + ' to learn more about interactive tables.';\n",
              "        element.innerHTML = '';\n",
              "        dataTable['output_type'] = 'display_data';\n",
              "        await google.colab.output.renderOutput(dataTable, element);\n",
              "        const docLink = document.createElement('div');\n",
              "        docLink.innerHTML = docLinkHtml;\n",
              "        element.appendChild(docLink);\n",
              "      }\n",
              "    </script>\n",
              "  </div>\n",
              "\n",
              "\n",
              "<div id=\"df-d50e1311-74bf-4a2b-8830-dade9631d814\">\n",
              "  <button class=\"colab-df-quickchart\" onclick=\"quickchart('df-d50e1311-74bf-4a2b-8830-dade9631d814')\"\n",
              "            title=\"Suggest charts.\"\n",
              "            style=\"display:none;\">\n",
              "\n",
              "<svg xmlns=\"http://www.w3.org/2000/svg\" height=\"24px\"viewBox=\"0 0 24 24\"\n",
              "     width=\"24px\">\n",
              "    <g>\n",
              "        <path d=\"M19 3H5c-1.1 0-2 .9-2 2v14c0 1.1.9 2 2 2h14c1.1 0 2-.9 2-2V5c0-1.1-.9-2-2-2zM9 17H7v-7h2v7zm4 0h-2V7h2v10zm4 0h-2v-4h2v4z\"/>\n",
              "    </g>\n",
              "</svg>\n",
              "  </button>\n",
              "\n",
              "<style>\n",
              "  .colab-df-quickchart {\n",
              "      --bg-color: #E8F0FE;\n",
              "      --fill-color: #1967D2;\n",
              "      --hover-bg-color: #E2EBFA;\n",
              "      --hover-fill-color: #174EA6;\n",
              "      --disabled-fill-color: #AAA;\n",
              "      --disabled-bg-color: #DDD;\n",
              "  }\n",
              "\n",
              "  [theme=dark] .colab-df-quickchart {\n",
              "      --bg-color: #3B4455;\n",
              "      --fill-color: #D2E3FC;\n",
              "      --hover-bg-color: #434B5C;\n",
              "      --hover-fill-color: #FFFFFF;\n",
              "      --disabled-bg-color: #3B4455;\n",
              "      --disabled-fill-color: #666;\n",
              "  }\n",
              "\n",
              "  .colab-df-quickchart {\n",
              "    background-color: var(--bg-color);\n",
              "    border: none;\n",
              "    border-radius: 50%;\n",
              "    cursor: pointer;\n",
              "    display: none;\n",
              "    fill: var(--fill-color);\n",
              "    height: 32px;\n",
              "    padding: 0;\n",
              "    width: 32px;\n",
              "  }\n",
              "\n",
              "  .colab-df-quickchart:hover {\n",
              "    background-color: var(--hover-bg-color);\n",
              "    box-shadow: 0 1px 2px rgba(60, 64, 67, 0.3), 0 1px 3px 1px rgba(60, 64, 67, 0.15);\n",
              "    fill: var(--button-hover-fill-color);\n",
              "  }\n",
              "\n",
              "  .colab-df-quickchart-complete:disabled,\n",
              "  .colab-df-quickchart-complete:disabled:hover {\n",
              "    background-color: var(--disabled-bg-color);\n",
              "    fill: var(--disabled-fill-color);\n",
              "    box-shadow: none;\n",
              "  }\n",
              "\n",
              "  .colab-df-spinner {\n",
              "    border: 2px solid var(--fill-color);\n",
              "    border-color: transparent;\n",
              "    border-bottom-color: var(--fill-color);\n",
              "    animation:\n",
              "      spin 1s steps(1) infinite;\n",
              "  }\n",
              "\n",
              "  @keyframes spin {\n",
              "    0% {\n",
              "      border-color: transparent;\n",
              "      border-bottom-color: var(--fill-color);\n",
              "      border-left-color: var(--fill-color);\n",
              "    }\n",
              "    20% {\n",
              "      border-color: transparent;\n",
              "      border-left-color: var(--fill-color);\n",
              "      border-top-color: var(--fill-color);\n",
              "    }\n",
              "    30% {\n",
              "      border-color: transparent;\n",
              "      border-left-color: var(--fill-color);\n",
              "      border-top-color: var(--fill-color);\n",
              "      border-right-color: var(--fill-color);\n",
              "    }\n",
              "    40% {\n",
              "      border-color: transparent;\n",
              "      border-right-color: var(--fill-color);\n",
              "      border-top-color: var(--fill-color);\n",
              "    }\n",
              "    60% {\n",
              "      border-color: transparent;\n",
              "      border-right-color: var(--fill-color);\n",
              "    }\n",
              "    80% {\n",
              "      border-color: transparent;\n",
              "      border-right-color: var(--fill-color);\n",
              "      border-bottom-color: var(--fill-color);\n",
              "    }\n",
              "    90% {\n",
              "      border-color: transparent;\n",
              "      border-bottom-color: var(--fill-color);\n",
              "    }\n",
              "  }\n",
              "</style>\n",
              "\n",
              "  <script>\n",
              "    async function quickchart(key) {\n",
              "      const quickchartButtonEl =\n",
              "        document.querySelector('#' + key + ' button');\n",
              "      quickchartButtonEl.disabled = true;  // To prevent multiple clicks.\n",
              "      quickchartButtonEl.classList.add('colab-df-spinner');\n",
              "      try {\n",
              "        const charts = await google.colab.kernel.invokeFunction(\n",
              "            'suggestCharts', [key], {});\n",
              "      } catch (error) {\n",
              "        console.error('Error during call to suggestCharts:', error);\n",
              "      }\n",
              "      quickchartButtonEl.classList.remove('colab-df-spinner');\n",
              "      quickchartButtonEl.classList.add('colab-df-quickchart-complete');\n",
              "    }\n",
              "    (() => {\n",
              "      let quickchartButtonEl =\n",
              "        document.querySelector('#df-d50e1311-74bf-4a2b-8830-dade9631d814 button');\n",
              "      quickchartButtonEl.style.display =\n",
              "        google.colab.kernel.accessAllowed ? 'block' : 'none';\n",
              "    })();\n",
              "  </script>\n",
              "</div>\n",
              "    </div>\n",
              "  </div>\n"
            ]
          },
          "metadata": {},
          "execution_count": 13
        }
      ]
    },
    {
      "cell_type": "code",
      "source": [
        "x = df_features['Movie_Genre'] + ' ' + df_features['Movie_Keywords'] + ' ' + df_features['Movie_Tagline'] + ' ' + df_features['Movie_Cast']+ ' ' + df_features['Movie_Director']\n"
      ],
      "metadata": {
        "id": "kLqoZ2GTbqtS"
      },
      "execution_count": null,
      "outputs": []
    },
    {
      "cell_type": "code",
      "source": [
        "x.shape\n"
      ],
      "metadata": {
        "colab": {
          "base_uri": "https://localhost:8080/"
        },
        "id": "VARuy0vtb4Pk",
        "outputId": "6a9abefa-4644-4d3d-8274-7ea4a2b397eb"
      },
      "execution_count": null,
      "outputs": [
        {
          "output_type": "execute_result",
          "data": {
            "text/plain": [
              "(4760,)"
            ]
          },
          "metadata": {},
          "execution_count": 15
        }
      ]
    },
    {
      "cell_type": "markdown",
      "source": [
        "Get Features Text Conversion to Tokens"
      ],
      "metadata": {
        "id": "KM1iLWQkb6M_"
      }
    },
    {
      "cell_type": "code",
      "source": [
        "from sklearn.feature_extraction.text import TfidfVectorizer"
      ],
      "metadata": {
        "id": "LnW5KbXdb8wX"
      },
      "execution_count": null,
      "outputs": []
    },
    {
      "cell_type": "code",
      "source": [
        "\n",
        "tfidf = TfidfVectorizer()"
      ],
      "metadata": {
        "id": "hzNzM1RHcA8_"
      },
      "execution_count": null,
      "outputs": []
    },
    {
      "cell_type": "code",
      "source": [
        "\n",
        "x = tfidf.fit_transform(x)"
      ],
      "metadata": {
        "id": "5bDE7wL9cD2a"
      },
      "execution_count": null,
      "outputs": []
    },
    {
      "cell_type": "code",
      "source": [
        "\n",
        "x.shape"
      ],
      "metadata": {
        "colab": {
          "base_uri": "https://localhost:8080/"
        },
        "id": "OPnQywO_cGJM",
        "outputId": "069a5dd2-8c45-4701-9d2c-5e1a4ee864b0"
      },
      "execution_count": null,
      "outputs": [
        {
          "output_type": "execute_result",
          "data": {
            "text/plain": [
              "(4760, 17258)"
            ]
          },
          "metadata": {},
          "execution_count": 19
        }
      ]
    },
    {
      "cell_type": "code",
      "source": [
        "\n",
        "print(x)"
      ],
      "metadata": {
        "colab": {
          "base_uri": "https://localhost:8080/"
        },
        "id": "H0JbPIG6cIck",
        "outputId": "e20fd400-6dce-4f78-f298-d270f5815f20"
      },
      "execution_count": null,
      "outputs": [
        {
          "output_type": "stream",
          "name": "stdout",
          "text": [
            "  (0, 617)\t0.1633382144407513\n",
            "  (0, 492)\t0.1432591540388685\n",
            "  (0, 15413)\t0.1465525095337543\n",
            "  (0, 9675)\t0.14226057295252661\n",
            "  (0, 9465)\t0.1659841367820977\n",
            "  (0, 1390)\t0.16898383612799558\n",
            "  (0, 7825)\t0.09799561597509843\n",
            "  (0, 1214)\t0.13865857545144072\n",
            "  (0, 729)\t0.13415063359531618\n",
            "  (0, 13093)\t0.1432591540388685\n",
            "  (0, 15355)\t0.10477815972666779\n",
            "  (0, 9048)\t0.0866842116160778\n",
            "  (0, 11161)\t0.06250380151644369\n",
            "  (0, 16773)\t0.17654247479915475\n",
            "  (0, 5612)\t0.08603537588547631\n",
            "  (0, 16735)\t0.10690083751525419\n",
            "  (0, 7904)\t0.13348000542112332\n",
            "  (0, 15219)\t0.09800472886453934\n",
            "  (0, 11242)\t0.07277788238484746\n",
            "  (0, 3878)\t0.11998399582562203\n",
            "  (0, 5499)\t0.11454057510303811\n",
            "  (0, 7071)\t0.19822417598406614\n",
            "  (0, 7454)\t0.14745635785412262\n",
            "  (0, 1495)\t0.19712637387361423\n",
            "  (0, 9206)\t0.15186283580984414\n",
            "  :\t:\n",
            "  (4757, 5455)\t0.12491480594769522\n",
            "  (4757, 2967)\t0.16273475835631626\n",
            "  (4757, 8464)\t0.23522565554066333\n",
            "  (4757, 6938)\t0.17088173678136628\n",
            "  (4757, 8379)\t0.17480603856721913\n",
            "  (4757, 15303)\t0.07654356007668191\n",
            "  (4757, 15384)\t0.09754322497537371\n",
            "  (4757, 7649)\t0.11479421494340192\n",
            "  (4757, 10896)\t0.14546473055066447\n",
            "  (4757, 4494)\t0.05675298448720501\n",
            "  (4758, 5238)\t1.0\n",
            "  (4759, 11264)\t0.33947721804318337\n",
            "  (4759, 11708)\t0.33947721804318337\n",
            "  (4759, 205)\t0.3237911628497312\n",
            "  (4759, 8902)\t0.3040290704566037\n",
            "  (4759, 14062)\t0.3237911628497312\n",
            "  (4759, 3058)\t0.2812896191863103\n",
            "  (4759, 7130)\t0.26419662449963793\n",
            "  (4759, 10761)\t0.3126617295732147\n",
            "  (4759, 4358)\t0.18306542312175342\n",
            "  (4759, 14051)\t0.20084315377640435\n",
            "  (4759, 5690)\t0.19534291014627303\n",
            "  (4759, 15431)\t0.19628653185946862\n",
            "  (4759, 1490)\t0.21197258705292082\n",
            "  (4759, 10666)\t0.15888268987343043\n"
          ]
        }
      ]
    },
    {
      "cell_type": "code",
      "source": [
        "from sklearn.metrics.pairwise import cosine_similarity"
      ],
      "metadata": {
        "id": "WNWPhmAjcL45"
      },
      "execution_count": null,
      "outputs": []
    },
    {
      "cell_type": "code",
      "source": [
        "\n",
        "Similarity_Score = cosine_similarity(x)"
      ],
      "metadata": {
        "id": "RKaIllIrcNtY"
      },
      "execution_count": null,
      "outputs": []
    },
    {
      "cell_type": "code",
      "source": [
        "\n",
        "Similarity_Score"
      ],
      "metadata": {
        "colab": {
          "base_uri": "https://localhost:8080/"
        },
        "id": "hJCtPSf3cP0B",
        "outputId": "6c5cabcf-8ad7-4dd1-c641-ae0fa03200cc"
      },
      "execution_count": null,
      "outputs": [
        {
          "output_type": "execute_result",
          "data": {
            "text/plain": [
              "array([[1.        , 0.01351235, 0.03570468, ..., 0.        , 0.        ,\n",
              "        0.        ],\n",
              "       [0.01351235, 1.        , 0.00806674, ..., 0.        , 0.        ,\n",
              "        0.        ],\n",
              "       [0.03570468, 0.00806674, 1.        , ..., 0.        , 0.08014876,\n",
              "        0.        ],\n",
              "       ...,\n",
              "       [0.        , 0.        , 0.        , ..., 1.        , 0.        ,\n",
              "        0.        ],\n",
              "       [0.        , 0.        , 0.08014876, ..., 0.        , 1.        ,\n",
              "        0.        ],\n",
              "       [0.        , 0.        , 0.        , ..., 0.        , 0.        ,\n",
              "        1.        ]])"
            ]
          },
          "metadata": {},
          "execution_count": 23
        }
      ]
    },
    {
      "cell_type": "code",
      "source": [
        "\n",
        "Similarity_Score.shape"
      ],
      "metadata": {
        "colab": {
          "base_uri": "https://localhost:8080/"
        },
        "id": "-gixswimcScz",
        "outputId": "f002f571-9132-4c8c-c6fc-490172113bdb"
      },
      "execution_count": null,
      "outputs": [
        {
          "output_type": "execute_result",
          "data": {
            "text/plain": [
              "(4760, 4760)"
            ]
          },
          "metadata": {},
          "execution_count": 24
        }
      ]
    },
    {
      "cell_type": "markdown",
      "source": [
        "Get Movie Name as Input form User & Validate for Closest Spelling"
      ],
      "metadata": {
        "id": "MOzWHykBcV-N"
      }
    },
    {
      "cell_type": "code",
      "source": [
        "Favourite_Movie_Name = input(' Enter your favourite movie name :')"
      ],
      "metadata": {
        "colab": {
          "base_uri": "https://localhost:8080/"
        },
        "id": "Ee221cDVcW7p",
        "outputId": "047495fb-1a0b-4178-b3bc-20ef3e1e856c"
      },
      "execution_count": null,
      "outputs": [
        {
          "name": "stdout",
          "output_type": "stream",
          "text": [
            " Enter your favourite movie name :ramraj\n"
          ]
        }
      ]
    },
    {
      "cell_type": "code",
      "source": [
        "\n",
        "All_Movies_Title_List = df['Movie_Title'].tolist()"
      ],
      "metadata": {
        "id": "H3XQaQrQcdyq"
      },
      "execution_count": null,
      "outputs": []
    },
    {
      "cell_type": "code",
      "source": [
        "import difflib"
      ],
      "metadata": {
        "id": "gPeqXUxgcgMS"
      },
      "execution_count": null,
      "outputs": []
    },
    {
      "cell_type": "code",
      "source": [
        "\n",
        "Movie_Recommendation = difflib.get_close_matches(Favourite_Movie_Name, All_Movies_Title_List)\n",
        "print(Movie_Recommendation)\n"
      ],
      "metadata": {
        "colab": {
          "base_uri": "https://localhost:8080/"
        },
        "id": "2jC2jNGAciOb",
        "outputId": "0ffb75b5-c440-4ba0-b7bf-0e8174647910"
      },
      "execution_count": null,
      "outputs": [
        {
          "output_type": "stream",
          "name": "stdout",
          "text": [
            "['Ararat', 'Samsara', 'Mama']\n"
          ]
        }
      ]
    },
    {
      "cell_type": "code",
      "source": [
        "Close_Match = Movie_Recommendation[0]\n",
        "print(Close_Match)"
      ],
      "metadata": {
        "colab": {
          "base_uri": "https://localhost:8080/"
        },
        "id": "L4S2jr5CclOU",
        "outputId": "becddadc-8d70-445e-ba4b-fe01986a7f02"
      },
      "execution_count": null,
      "outputs": [
        {
          "output_type": "stream",
          "name": "stdout",
          "text": [
            "Ararat\n"
          ]
        }
      ]
    },
    {
      "cell_type": "code",
      "source": [
        "Index_of_Close_Match_Movie = df[df.Movie_Title == Close_Match]['Movie_ID'].values[0]\n",
        "print(Index_of_Close_Match_Movie)"
      ],
      "metadata": {
        "colab": {
          "base_uri": "https://localhost:8080/"
        },
        "id": "1KHKehRicnpx",
        "outputId": "3cc64ad8-ac52-4eee-cab0-86ed0fba27ff"
      },
      "execution_count": null,
      "outputs": [
        {
          "output_type": "stream",
          "name": "stdout",
          "text": [
            "2506\n"
          ]
        }
      ]
    },
    {
      "cell_type": "code",
      "source": [
        "\n",
        "Recommendation_Score = list(enumerate(Similarity_Score[Index_of_Close_Match_Movie]))\n",
        "print(Recommendation_Score)"
      ],
      "metadata": {
        "colab": {
          "base_uri": "https://localhost:8080/"
        },
        "id": "BBVDNXeacpdD",
        "outputId": "e9657f20-6ed1-4bb8-a820-133774b60529"
      },
      "execution_count": null,
      "outputs": [
        {
          "output_type": "stream",
          "name": "stdout",
          "text": [
            "[(0, 0.0), (1, 0.011845191562970113), (2, 0.0), (3, 0.0), (4, 0.0), (5, 0.0), (6, 0.02000311662198769), (7, 0.0), (8, 0.0), (9, 0.012272303934292432), (10, 0.006095452712451726), (11, 0.0), (12, 0.0), (13, 0.0), (14, 0.0), (15, 0.0), (16, 0.004442473169560236), (17, 0.014087265007219858), (18, 0.005110854767182689), (19, 0.01455296063198941), (20, 0.0), (21, 0.005699805657313349), (22, 0.0), (23, 0.0), (24, 0.0), (25, 0.0), (26, 0.0493852460270901), (27, 0.013370834458945973), (28, 0.0), (29, 0.0), (30, 0.0053709329702152885), (31, 0.005012693540770542), (32, 0.05589145259084003), (33, 0.0), (34, 0.005546213209470996), (35, 0.012236791984386057), (36, 0.019010861165155025), (37, 0.01210626602879539), (38, 0.006536624089885867), (39, 0.01866784916011512), (40, 0.06303449508013333), (41, 0.014756408534252106), (42, 0.0), (43, 0.0), (44, 0.0091981450180998), (45, 0.007157683824624815), (46, 0.017279842566592266), (47, 0.004730933896324286), (48, 0.012175198037867437), (49, 0.0), (50, 0.0), (51, 0.005607766142526842), (52, 0.005096233705554619), (53, 0.007146500505171531), (54, 0.013467727132547541), (55, 0.013856918703714041), (56, 0.013502139176821243), (57, 0.043926272165414275), (58, 0.006323674645002708), (59, 0.013663280614510838), (60, 0.0), (61, 0.0), (62, 0.0), (63, 0.010554431570348698), (64, 0.0), (65, 0.014957710008771783), (66, 0.0), (67, 0.016858664359851526), (68, 0.01171885489795001), (69, 0.020413560056639746), (70, 0.005829696519535821), (71, 0.0), (72, 0.03245666240084659), (73, 0.006529306817115901), (74, 0.0), (75, 0.006334424496922431), (76, 0.009016020013473899), (77, 0.00401705517764103), (78, 0.02196726412931499), (79, 0.0075182462261985245), (80, 0.017034863835792592), (81, 0.0), (82, 0.0), (83, 0.005401156615950404), (84, 0.0108190683144155), (85, 0.0485556928352585), (86, 0.0), (87, 0.005145284685800646), (88, 0.009113768176564672), (89, 0.0060096544191850735), (90, 0.01818011946249832), (91, 0.006676697520059948), (92, 0.033603467046411734), (93, 0.017806780800937904), (94, 0.0170730518489039), (95, 0.01912436927797486), (96, 0.0), (97, 0.0), (98, 0.0), (99, 0.004609621420286326), (100, 0.0), (101, 0.02306619057181549), (102, 0.012072025184223002), (103, 0.0), (104, 0.0), (105, 0.0), (106, 0.0), (107, 0.006045072426202266), (108, 0.0), (109, 0.0), (110, 0.05158465941825233), (111, 0.0), (112, 0.0051313557195542545), (113, 0.0), (114, 0.0), (115, 0.0), (116, 0.052667142245935564), (117, 0.0), (118, 0.019076121732116706), (119, 0.013010789880020895), (120, 0.0), (121, 0.0), (122, 0.005268962279120171), (123, 0.0062578945934615325), (124, 0.004866874786230909), (125, 0.01264990936534334), (126, 0.0), (127, 0.0), (128, 0.012258291056413354), (129, 0.0), (130, 0.018886050146559294), (131, 0.0), (132, 0.0), (133, 0.0), (134, 0.0), (135, 0.011040272747122664), (136, 0.0), (137, 0.005487504835325487), (138, 0.005117708401711793), (139, 0.0064174796244675526), (140, 0.0), (141, 0.0), (142, 0.0), (143, 0.006000175921105103), (144, 0.05846609037752138), (145, 0.0054335373742556295), (146, 0.0), (147, 0.004611297333264954), (148, 0.010027276250653019), (149, 0.00440142533073831), (150, 0.01476523390747489), (151, 0.013699173795602353), (152, 0.018054642460472614), (153, 0.015586529049456739), (154, 0.0), (155, 0.0), (156, 0.0), (157, 0.0), (158, 0.0), (159, 0.0044765980669390715), (160, 0.010128171819928897), (161, 0.0), (162, 0.0062822641880530125), (163, 0.0), (164, 0.0), (165, 0.011464104540516386), (166, 0.004707200260413024), (167, 0.0), (168, 0.0), (169, 0.0), (170, 0.01001174554913336), (171, 0.012588333658176775), (172, 0.0), (173, 0.0), (174, 0.0), (175, 0.0), (176, 0.0), (177, 0.0), (178, 0.0), (179, 0.007249154708948587), (180, 0.0061121870746998095), (181, 0.005681720544419551), (182, 0.007601900733059694), (183, 0.0), (184, 0.0), (185, 0.00712998198939196), (186, 0.0), (187, 0.004675180959512318), (188, 0.0), (189, 0.01925230480777246), (190, 0.004548400801543971), (191, 0.009858876272136522), (192, 0.0), (193, 0.0), (194, 0.0), (195, 0.0), (196, 0.0), (197, 0.0), (198, 0.0), (199, 0.0048599587208379424), (200, 0.004709604810639304), (201, 0.019397133299596955), (202, 0.0), (203, 0.0), (204, 0.0), (205, 0.0), (206, 0.0), (207, 0.006020298985864871), (208, 0.0197379482854703), (209, 0.0), (210, 0.01190888344992016), (211, 0.0), (212, 0.0), (213, 0.0), (214, 0.0), (215, 0.0), (216, 0.0), (217, 0.005574999841073535), (218, 0.006885280651298988), (219, 0.007673406063031349), (220, 0.011682079807929034), (221, 0.0), (222, 0.0046912380401224986), (223, 0.005507874882051813), (224, 0.0), (225, 0.0), (226, 0.0), (227, 0.0), (228, 0.0), (229, 0.0), (230, 0.00557021688090154), (231, 0.04341088907781547), (232, 0.014278390552281743), (233, 0.010905742804140986), (234, 0.016000788695181654), (235, 0.0), (236, 0.005006535292187219), (237, 0.006118469880953623), (238, 0.005436204619713091), (239, 0.013653025257389246), (240, 0.004933441367547478), (241, 0.040907337620193475), (242, 0.0065296870950299025), (243, 0.0037524694202751515), (244, 0.010809646454037886), (245, 0.0), (246, 0.0), (247, 0.01491383608197138), (248, 0.0), (249, 0.0), (250, 0.005964205281089557), (251, 0.0), (252, 0.0066803713284713725), (253, 0.0), (254, 0.0), (255, 0.0055813748383059265), (256, 0.0), (257, 0.0065846434960231065), (258, 0.013352042579301924), (259, 0.005687044010767062), (260, 0.01763390819983921), (261, 0.017937274188251844), (262, 0.0), (263, 0.012549753414911834), (264, 0.013279809847088212), (265, 0.0), (266, 0.008502054694939275), (267, 0.0), (268, 0.0), (269, 0.04413855627831212), (270, 0.0), (271, 0.008468320764423613), (272, 0.0), (273, 0.00517226175033217), (274, 0.0), (275, 0.0), (276, 0.00502557970497288), (277, 0.0066293434199116525), (278, 0.0), (279, 0.0), (280, 0.0), (281, 0.0), (282, 0.0), (283, 0.005519078812095479), (284, 0.017730370930713925), (285, 0.0), (286, 0.0064717292777886895), (287, 0.0), (288, 0.015788662640529014), (289, 0.014921565584438365), (290, 0.015171002054101289), (291, 0.004858320971664267), (292, 0.012866567794622332), (293, 0.0), (294, 0.014802992574791085), (295, 0.01516164719923549), (296, 0.008281571313201166), (297, 0.007978810761545926), (298, 0.007878196753217548), (299, 0.007540545686921339), (300, 0.007185056391918732), (301, 0.007977758041407207), (302, 0.0), (303, 0.011990538599487052), (304, 0.004913957714556813), (305, 0.018573495579202487), (306, 0.01712943699017416), (307, 0.0), (308, 0.0), (309, 0.0), (310, 0.01786240911248383), (311, 0.0), (312, 0.0), (313, 0.005523727090879023), (314, 0.015584777373468847), (315, 0.01864871854412364), (316, 0.017230551084863783), (317, 0.0), (318, 0.055158615487712295), (319, 0.0046866169190232666), (320, 0.019490522740738904), (321, 0.018045088423490688), (322, 0.018307326734908), (323, 0.01663023030908714), (324, 0.0), (325, 0.0), (326, 0.0), (327, 0.016677676445337776), (328, 0.05457531277733508), (329, 0.005170495941091949), (330, 0.0), (331, 0.0), (332, 0.008273704397857294), (333, 0.009828561305728298), (334, 0.009942847451057502), (335, 0.0), (336, 0.005408854894002134), (337, 0.0), (338, 0.025670184102721424), (339, 0.0), (340, 0.008103145094317515), (341, 0.04069436724747431), (342, 0.0), (343, 0.0), (344, 0.0), (345, 0.007309401048382488), (346, 0.0), (347, 0.005348028959147901), (348, 0.0), (349, 0.0), (350, 0.012029453759470395), (351, 0.0), (352, 0.0), (353, 0.005809173337723044), (354, 0.0048776242520032894), (355, 0.0), (356, 0.005084035167107396), (357, 0.0), (358, 0.0), (359, 0.0), (360, 0.005057478090145738), (361, 0.008005705224243875), (362, 0.008326749798078598), (363, 0.008241067599936633), (364, 0.006488217685369586), (365, 0.008375048337824738), (366, 0.0), (367, 0.0), (368, 0.009052674864246865), (369, 0.0), (370, 0.005321347754043835), (371, 0.005865057079657083), (372, 0.0), (373, 0.0), (374, 0.0), (375, 0.060801750206239936), (376, 0.0), (377, 0.0), (378, 0.0), (379, 0.012212923253358005), (380, 0.006123106805025222), (381, 0.006159771520735814), (382, 0.012197537205651586), (383, 0.0), (384, 0.0), (385, 0.0), (386, 0.00595591457817251), (387, 0.0), (388, 0.0), (389, 0.005306299890909666), (390, 0.012763890033283688), (391, 0.0), (392, 0.0), (393, 0.0), (394, 0.0048881488622374136), (395, 0.0), (396, 0.0), (397, 0.016998677261760426), (398, 0.0), (399, 0.0), (400, 0.0), (401, 0.007643685843327401), (402, 0.0), (403, 0.0), (404, 0.0), (405, 0.0), (406, 0.005438000457498683), (407, 0.0), (408, 0.0), (409, 0.0534120657551029), (410, 0.0), (411, 0.005250015930655423), (412, 0.0), (413, 0.053896442165803964), (414, 0.0), (415, 0.0), (416, 0.0), (417, 0.017269130327613548), (418, 0.025715395222032526), (419, 0.008494009820604368), (420, 0.005731342849645826), (421, 0.005832709036396994), (422, 0.0), (423, 0.0), (424, 0.021109459137764068), (425, 0.021091144334149395), (426, 0.017389389864259714), (427, 0.0), (428, 0.006808964033688285), (429, 0.005585964009604112), (430, 0.0), (431, 0.0), (432, 0.0), (433, 0.004359892344022461), (434, 0.0), (435, 0.04988716226350431), (436, 0.005963334445116877), (437, 0.0), (438, 0.004357301544752684), (439, 0.0), (440, 0.004633936591477112), (441, 0.0), (442, 0.009162175495933388), (443, 0.006164842701534138), (444, 0.0), (445, 0.0), (446, 0.0), (447, 0.00553449682900593), (448, 0.0), (449, 0.0), (450, 0.005848526558586822), (451, 0.0110975058600401), (452, 0.00998818655524881), (453, 0.0), (454, 0.0), (455, 0.0), (456, 0.0), (457, 0.006921905986383685), (458, 0.012329403759082607), (459, 0.0), (460, 0.005305206740436086), (461, 0.008931072997494707), (462, 0.0651932240558623), (463, 0.004939672429956526), (464, 0.0), (465, 0.0), (466, 0.0), (467, 0.01832672706985941), (468, 0.017397285732241058), (469, 0.015364299180675523), (470, 0.011654022429845425), (471, 0.0), (472, 0.007764267211997983), (473, 0.0), (474, 0.0), (475, 0.0), (476, 0.0), (477, 0.016594271768086356), (478, 0.0), (479, 0.0), (480, 0.0), (481, 0.005796394672359253), (482, 0.005563278991892446), (483, 0.0), (484, 0.007625024556542955), (485, 0.0), (486, 0.0), (487, 0.0), (488, 0.0), (489, 0.0), (490, 0.0), (491, 0.0483967737799991), (492, 0.005340225829203758), (493, 0.005659059272939194), (494, 0.005746050964917567), (495, 0.005058941888233856), (496, 0.011322051152631771), (497, 0.011801318711422672), (498, 0.012642856805635585), (499, 0.0), (500, 0.059988423331718665), (501, 0.016694724046827474), (502, 0.005579897324265043), (503, 0.0), (504, 0.0), (505, 0.0), (506, 0.0), (507, 0.0), (508, 0.0), (509, 0.005466001342418998), (510, 0.0), (511, 0.004854216396124964), (512, 0.013133272539061176), (513, 0.01201176050637333), (514, 0.011983009932551553), (515, 0.005155750702161202), (516, 0.005962102461701628), (517, 0.0059440346378816815), (518, 0.0), (519, 0.016415344464788196), (520, 0.0), (521, 0.0), (522, 0.0), (523, 0.005602878338150712), (524, 0.0), (525, 0.0), (526, 0.0), (527, 0.0), (528, 0.013503221758069044), (529, 0.0), (530, 0.005246716204972122), (531, 0.0), (532, 0.010260632732271735), (533, 0.012428220311617569), (534, 0.010913458555214452), (535, 0.0), (536, 0.0), (537, 0.021162510181024982), (538, 0.0), (539, 0.012977102874847298), (540, 0.017158763235888788), (541, 0.0), (542, 0.007748613469541), (543, 0.005551246560502272), (544, 0.0), (545, 0.0066251677025608025), (546, 0.0072766108378468555), (547, 0.0), (548, 0.012435950485412503), (549, 0.0), (550, 0.020535256686321838), (551, 0.0), (552, 0.0), (553, 0.005363346073079347), (554, 0.005548414212553495), (555, 0.004704594199250227), (556, 0.0), (557, 0.0), (558, 0.0), (559, 0.004748500938089388), (560, 0.011083193560554983), (561, 0.004217798888649296), (562, 0.004043590244567088), (563, 0.00480615627316098), (564, 0.0), (565, 0.01238638701108338), (566, 0.0), (567, 0.012932144085964357), (568, 0.012299701701059453), (569, 0.012151143197724165), (570, 0.018113413828119485), (571, 0.0041094985645234484), (572, 0.013595103048553287), (573, 0.0), (574, 0.0), (575, 0.0), (576, 0.0), (577, 0.0), (578, 0.0), (579, 0.0), (580, 0.005569615495575243), (581, 0.00480316670009725), (582, 0.0), (583, 0.0), (584, 0.005515049202549259), (585, 0.0), (586, 0.007856055446050843), (587, 0.0), (588, 0.0), (589, 0.0), (590, 0.004912449978527045), (591, 0.01456375746133105), (592, 0.013469349216194844), (593, 0.0), (594, 0.006740956525889346), (595, 0.01215244857690223), (596, 0.0), (597, 0.0), (598, 0.0), (599, 0.021885950116731286), (600, 0.01395434964637334), (601, 0.03900786007354404), (602, 0.010827610089968524), (603, 0.014105285145064851), (604, 0.004901935954011923), (605, 0.0), (606, 0.005503863979348), (607, 0.0), (608, 0.011667874832237699), (609, 0.0), (610, 0.013185356556421323), (611, 0.0), (612, 0.0), (613, 0.01307158725738801), (614, 0.006562629731062302), (615, 0.013737427848260868), (616, 0.0), (617, 0.004500051509822949), (618, 0.0), (619, 0.010998564156095316), (620, 0.0), (621, 0.009349071024376234), (622, 0.005663558370128027), (623, 0.0), (624, 0.0), (625, 0.004586760474568807), (626, 0.0), (627, 0.010212172671171757), (628, 0.005373806891083715), (629, 0.004602515011139597), (630, 0.0), (631, 0.04701479097176156), (632, 0.005169488014083726), (633, 0.0052215869167278745), (634, 0.00523596928162976), (635, 0.020297830216157352), (636, 0.00538285712541635), (637, 0.005519429515351912), (638, 0.0), (639, 0.015699030508850874), (640, 0.015563989449590658), (641, 0.005400642200147193), (642, 0.004603845087273251), (643, 0.0051648948058862975), (644, 0.01049681440676875), (645, 0.0), (646, 0.0), (647, 0.0), (648, 0.0), (649, 0.0), (650, 0.007061217861267531), (651, 0.005522183276089593), (652, 0.005451752818471422), (653, 0.00961389560926429), (654, 0.011646108142884148), (655, 0.0), (656, 0.006009135060271401), (657, 0.0), (658, 0.0), (659, 0.0), (660, 0.0055675917069529105), (661, 0.02451539654464978), (662, 0.0), (663, 0.0), (664, 0.0), (665, 0.0), (666, 0.02092071896737393), (667, 0.005603703478695473), (668, 0.008741902477649135), (669, 0.01016703802174244), (670, 0.013617594953082266), (671, 0.0), (672, 0.010200693876489813), (673, 0.012058197003919973), (674, 0.013145876388383018), (675, 0.005812536836194737), (676, 0.005167292633883469), (677, 0.06357958515013235), (678, 0.005810573200306969), (679, 0.0), (680, 0.0), (681, 0.023552495484269655), (682, 0.012427370914442272), (683, 0.006457228064797364), (684, 0.00419710605434477), (685, 0.005475263693992224), (686, 0.008335229602663257), (687, 0.018605232120879646), (688, 0.01224061301243047), (689, 0.010601495500458646), (690, 0.010280782524879666), (691, 0.0), (692, 0.016068572081764113), (693, 0.0), (694, 0.005012166067378776), (695, 0.004909256020238918), (696, 0.005364923918825037), (697, 0.0), (698, 0.0), (699, 0.006782195973376288), (700, 0.008274384332875242), (701, 0.005949733759098985), (702, 0.0), (703, 0.0), (704, 0.0), (705, 0.0), (706, 0.0), (707, 0.0), (708, 0.0), (709, 0.0), (710, 0.0), (711, 0.0), (712, 0.0), (713, 0.014360347902566859), (714, 0.013418426169374647), (715, 0.014634020934918744), (716, 0.019495772839518623), (717, 0.0), (718, 0.0), (719, 0.008877154367520177), (720, 0.007253454304058547), (721, 0.0), (722, 0.0), (723, 0.009354154765467094), (724, 0.0074897570444615695), (725, 0.011281331557461423), (726, 0.0063060818385387496), (727, 0.0108561946847766), (728, 0.011917908592426106), (729, 0.012321745904816932), (730, 0.0), (731, 0.0), (732, 0.004758073660829784), (733, 0.0046116445305455995), (734, 0.0), (735, 0.0), (736, 0.0), (737, 0.0), (738, 0.009102792367229107), (739, 0.0), (740, 0.0), (741, 0.0), (742, 0.005010169457307789), (743, 0.005477043293999222), (744, 0.004929090551672962), (745, 0.006972953808012322), (746, 0.031702253330500425), (747, 0.0), (748, 0.034448601930417724), (749, 0.038207023887242286), (750, 0.005430053858631639), (751, 0.009100735144670788), (752, 0.0), (753, 0.012808929209359813), (754, 0.0), (755, 0.0), (756, 0.022948023475109006), (757, 0.0), (758, 0.0), (759, 0.0), (760, 0.006114449255148171), (761, 0.0053307729895154185), (762, 0.009577713557241085), (763, 0.005399863201857614), (764, 0.0), (765, 0.005633052292861753), (766, 0.0), (767, 0.0), (768, 0.0), (769, 0.005260206539856603), (770, 0.0), (771, 0.0), (772, 0.0), (773, 0.0), (774, 0.0), (775, 0.009847331472446277), (776, 0.0), (777, 0.0), (778, 0.0), (779, 0.009445442699778955), (780, 0.0), (781, 0.0), (782, 0.0), (783, 0.0), (784, 0.0), (785, 0.0), (786, 0.0), (787, 0.0), (788, 0.0), (789, 0.0), (790, 0.005165989311664665), (791, 0.0), (792, 0.0), (793, 0.01930797812495362), (794, 0.0), (795, 0.006760445218545902), (796, 0.0), (797, 0.0), (798, 0.0), (799, 0.005195919131836079), (800, 0.009931899881755819), (801, 0.004882375860237923), (802, 0.005831992735478687), (803, 0.009875980340281228), (804, 0.009938411394085172), (805, 0.0), (806, 0.0), (807, 0.0), (808, 0.00469881644215076), (809, 0.011344052705081584), (810, 0.004979748652776933), (811, 0.005403674110148286), (812, 0.0), (813, 0.03646199887744828), (814, 0.0), (815, 0.0), (816, 0.0), (817, 0.0), (818, 0.0), (819, 0.0), (820, 0.0), (821, 0.012145424848840066), (822, 0.0), (823, 0.0), (824, 0.0), (825, 0.010716808848098728), (826, 0.014143334882239657), (827, 0.010482615287412626), (828, 0.0), (829, 0.004896274140398687), (830, 0.0), (831, 0.003762740196477922), (832, 0.005419437308207921), (833, 0.0), (834, 0.0), (835, 0.0), (836, 0.0), (837, 0.0), (838, 0.03018722449707031), (839, 0.0), (840, 0.0), (841, 0.030894615671682737), (842, 0.029726682196954318), (843, 0.0), (844, 0.0), (845, 0.011568093860412756), (846, 0.0), (847, 0.0), (848, 0.005768425586388437), (849, 0.018579275542396363), (850, 0.0), (851, 0.005010747521147139), (852, 0.03826879985247626), (853, 0.004121019132769627), (854, 0.005458705089575052), (855, 0.0060858651954596886), (856, 0.01694304951646778), (857, 0.050487405845403455), (858, 0.0), (859, 0.0), (860, 0.0061755252137881645), (861, 0.004589781251905812), (862, 0.0), (863, 0.004872046283583594), (864, 0.05100138256069551), (865, 0.0), (866, 0.010272341700895641), (867, 0.0), (868, 0.010259287156952047), (869, 0.0058644737198699365), (870, 0.005211754432729378), (871, 0.007749020893891657), (872, 0.014197259995116944), (873, 0.0), (874, 0.0), (875, 0.020405086978145387), (876, 0.00608371294340898), (877, 0.004262403661001099), (878, 0.010436655870630276), (879, 0.005560684864899375), (880, 0.0052534440769536495), (881, 0.0), (882, 0.00668528145362218), (883, 0.0), (884, 0.0), (885, 0.0), (886, 0.0), (887, 0.0), (888, 0.005907227380683892), (889, 0.0), (890, 0.0), (891, 0.06480628812050457), (892, 0.0), (893, 0.004806180226908473), (894, 0.0), (895, 0.0), (896, 0.005822615370867627), (897, 0.0), (898, 0.00480145989181433), (899, 0.0), (900, 0.00498345137715535), (901, 0.0), (902, 0.019071256900920742), (903, 0.007069407228748832), (904, 0.013007253021763969), (905, 0.01278221405680047), (906, 0.0), (907, 0.0), (908, 0.005843285160390682), (909, 0.0076225075396010745), (910, 0.004879051158267652), (911, 0.017613319606541625), (912, 0.0), (913, 0.0060671667427851916), (914, 0.00933792545353769), (915, 0.017889810529531258), (916, 0.004938745516070058), (917, 0.0), (918, 0.04835737710060615), (919, 0.01889331674274696), (920, 0.006923460875164773), (921, 0.00701899574924554), (922, 0.0), (923, 0.032228808750633185), (924, 0.0), (925, 0.0), (926, 0.04524889636161113), (927, 0.005228147807223472), (928, 0.011531017428584436), (929, 0.004126057926557299), (930, 0.005657307184475137), (931, 0.0053263016629236165), (932, 0.0047646116401190335), (933, 0.0), (934, 0.0), (935, 0.007014792199425496), (936, 0.011581594178583506), (937, 0.00622715407477838), (938, 0.0), (939, 0.0), (940, 0.0), (941, 0.0), (942, 0.004333096438244791), (943, 0.050594067545583425), (944, 0.0), (945, 0.013428150680648421), (946, 0.013196934180268866), (947, 0.014905379994535606), (948, 0.007201919272725398), (949, 0.060035733026792854), (950, 0.0), (951, 0.006366665574226838), (952, 0.005761647711705986), (953, 0.0042914653602810805), (954, 0.011852406026298078), (955, 0.0), (956, 0.014529658404236692), (957, 0.0), (958, 0.0), (959, 0.0), (960, 0.0), (961, 0.0), (962, 0.0), (963, 0.010328847000411243), (964, 0.0), (965, 0.013232557095747343), (966, 0.012521254779910177), (967, 0.005884597434291891), (968, 0.004828172638382178), (969, 0.0), (970, 0.004503239375563999), (971, 0.0), (972, 0.0), (973, 0.0), (974, 0.010343998484105048), (975, 0.0), (976, 0.005617797116642871), (977, 0.024679269811185817), (978, 0.0), (979, 0.004713081476571153), (980, 0.005508673867301137), (981, 0.009947859129558468), (982, 0.0), (983, 0.0), (984, 0.0), (985, 0.0), (986, 0.011041341360427379), (987, 0.0), (988, 0.005294043837642539), (989, 0.005242437621937189), (990, 0.022852834510957022), (991, 0.005721343596042721), (992, 0.011821283510397873), (993, 0.0), (994, 0.005812692071389626), (995, 0.0), (996, 0.015592276815684524), (997, 0.009937794672032913), (998, 0.0), (999, 0.0), (1000, 0.009938606431268891), (1001, 0.017719165285304136), (1002, 0.0), (1003, 0.005448016350879129), (1004, 0.0), (1005, 0.004371910080256863), (1006, 0.0), (1007, 0.021900721263952084), (1008, 0.0), (1009, 0.004728366446043523), (1010, 0.004837748241825065), (1011, 0.023494152458756093), (1012, 0.01841741114816707), (1013, 0.00796888638398405), (1014, 0.006626751842439682), (1015, 0.01194450024353345), (1016, 0.006774325037258296), (1017, 0.010740163663974124), (1018, 0.0046478858915387535), (1019, 0.0), (1020, 0.0), (1021, 0.0), (1022, 0.007507268892090996), (1023, 0.006429442056173648), (1024, 0.011508696788919866), (1025, 0.0), (1026, 0.0), (1027, 0.0), (1028, 0.0), (1029, 0.0), (1030, 0.005159373951237871), (1031, 0.006081414215062648), (1032, 0.0), (1033, 0.0), (1034, 0.0), (1035, 0.010734583739952303), (1036, 0.0), (1037, 0.0), (1038, 0.0), (1039, 0.02951384462610397), (1040, 0.0), (1041, 0.035476516041176145), (1042, 0.0), (1043, 0.0), (1044, 0.010704152679717267), (1045, 0.013598428783535994), (1046, 0.004858178902169656), (1047, 0.0055532275545314425), (1048, 0.0), (1049, 0.0), (1050, 0.006425014652036306), (1051, 0.009223517638535515), (1052, 0.0), (1053, 0.0), (1054, 0.01043392392622725), (1055, 0.0), (1056, 0.006223206938661004), (1057, 0.036327842035887015), (1058, 0.00653291965256832), (1059, 0.0), (1060, 0.0), (1061, 0.0047984106368318), (1062, 0.0), (1063, 0.017963155824909118), (1064, 0.006457453810939208), (1065, 0.01009944518591489), (1066, 0.005267948513550278), (1067, 0.007193050445066825), (1068, 0.004929164781080227), (1069, 0.008438028682411867), (1070, 0.0), (1071, 0.005687910953092801), (1072, 0.0), (1073, 0.0), (1074, 0.011083716973297953), (1075, 0.0), (1076, 0.005513549462663514), (1077, 0.0), (1078, 0.0), (1079, 0.006935356342955743), (1080, 0.0), (1081, 0.0), (1082, 0.010852254598025537), (1083, 0.005545623881415931), (1084, 0.0), (1085, 0.007688487787625065), (1086, 0.0), (1087, 0.007667348744320978), (1088, 0.0), (1089, 0.0), (1090, 0.00661644617391117), (1091, 0.014518432225798638), (1092, 0.009210024543515617), (1093, 0.0), (1094, 0.0), (1095, 0.0), (1096, 0.005564575465347922), (1097, 0.0), (1098, 0.0), (1099, 0.01971399848400953), (1100, 0.0), (1101, 0.05130269714254795), (1102, 0.0056767820445325565), (1103, 0.0), (1104, 0.005610054539496502), (1105, 0.0), (1106, 0.0), (1107, 0.004959055944139072), (1108, 0.0135312734896678), (1109, 0.0), (1110, 0.0), (1111, 0.04230389045250763), (1112, 0.0), (1113, 0.01280220285256842), (1114, 0.006946438114395033), (1115, 0.014938671402660541), (1116, 0.0), (1117, 0.0), (1118, 0.007246338359465773), (1119, 0.005690642394338526), (1120, 0.004544164504874196), (1121, 0.0), (1122, 0.005823265641870485), (1123, 0.0050655638521346575), (1124, 0.0), (1125, 0.0), (1126, 0.007447173926770349), (1127, 0.01087570133305439), (1128, 0.0), (1129, 0.011053947863662395), (1130, 0.0), (1131, 0.0), (1132, 0.005065427003464935), (1133, 0.0), (1134, 0.016758279027759372), (1135, 0.012306322346742844), (1136, 0.0), (1137, 0.009072217273383096), (1138, 0.01117762057100019), (1139, 0.0), (1140, 0.005706941507611223), (1141, 0.011808587681421612), (1142, 0.0), (1143, 0.0), (1144, 0.0), (1145, 0.0697946235331224), (1146, 0.0051535661320245224), (1147, 0.052612390152880675), (1148, 0.006017901634385357), (1149, 0.0), (1150, 0.020052608755557984), (1151, 0.013297600107617496), (1152, 0.0), (1153, 0.007747430275449871), (1154, 0.009848995896929337), (1155, 0.0), (1156, 0.0), (1157, 0.0), (1158, 0.06234554843746659), (1159, 0.0), (1160, 0.0), (1161, 0.0), (1162, 0.012055166939156361), (1163, 0.0), (1164, 0.008984847130435292), (1165, 0.007812145134620487), (1166, 0.0), (1167, 0.005839316598528767), (1168, 0.0), (1169, 0.0), (1170, 0.0), (1171, 0.0), (1172, 0.005726745962141943), (1173, 0.01682467333602279), (1174, 0.06289483356285003), (1175, 0.007611145558105376), (1176, 0.0), (1177, 0.005020857913961077), (1178, 0.0), (1179, 0.018588960485398747), (1180, 0.0), (1181, 0.005018111203132669), (1182, 0.0), (1183, 0.17597468437174937), (1184, 0.0060806011198193885), (1185, 0.019587072022037362), (1186, 0.0), (1187, 0.0), (1188, 0.0055943586606105045), (1189, 0.0), (1190, 0.0), (1191, 0.0053510020913651824), (1192, 0.005584361097018716), (1193, 0.0), (1194, 0.006589253345783307), (1195, 0.007817592423454593), (1196, 0.0), (1197, 0.004900606048115714), (1198, 0.03960064088704328), (1199, 0.0), (1200, 0.0), (1201, 0.0), (1202, 0.004521010709021007), (1203, 0.0), (1204, 0.0), (1205, 0.0), (1206, 0.014100292021140434), (1207, 0.01776133679621192), (1208, 0.0), (1209, 0.0), (1210, 0.013519003226546302), (1211, 0.005050447040874712), (1212, 0.0049344050896157265), (1213, 0.0), (1214, 0.004796154608438463), (1215, 0.004562268945011956), (1216, 0.0), (1217, 0.0), (1218, 0.0), (1219, 0.006765747653990126), (1220, 0.004810659278790793), (1221, 0.006270041795194687), (1222, 0.0), (1223, 0.005350596975470358), (1224, 0.005563801182246587), (1225, 0.019613009508936925), (1226, 0.010938526440815097), (1227, 0.0), (1228, 0.00809310008771981), (1229, 0.011535909359416396), (1230, 0.01060597617210458), (1231, 0.00722690977281793), (1232, 0.005371097039035753), (1233, 0.0), (1234, 0.0), (1235, 0.0), (1236, 0.004847243003591407), (1237, 0.004838336653939613), (1238, 0.0074903513984894265), (1239, 0.0), (1240, 0.014697446528580562), (1241, 0.004702114546937284), (1242, 0.006899273521037128), (1243, 0.0), (1244, 0.01367905028400001), (1245, 0.0), (1246, 0.0), (1247, 0.0), (1248, 0.005120981730451594), (1249, 0.0), (1250, 0.0), (1251, 0.0), (1252, 0.01094771014647156), (1253, 0.005639972106710445), (1254, 0.01359156658688958), (1255, 0.005064297122992238), (1256, 0.0), (1257, 0.010888545761406524), (1258, 0.11062475465233258), (1259, 0.010099513671243406), (1260, 0.0), (1261, 0.0), (1262, 0.018541983528235367), (1263, 0.01307768223436528), (1264, 0.0), (1265, 0.006216560742722429), (1266, 0.026661662734208134), (1267, 0.0), (1268, 0.0), (1269, 0.04133113255472598), (1270, 0.0048863276510951025), (1271, 0.052956402042084065), (1272, 0.01268251029764168), (1273, 0.012621264231633981), (1274, 0.005431997167306989), (1275, 0.006150015168808806), (1276, 0.008241805319673102), (1277, 0.0), (1278, 0.0), (1279, 0.0469827040436626), (1280, 0.019797123922698702), (1281, 0.010085409794437988), (1282, 0.0), (1283, 0.0518689465454795), (1284, 0.0), (1285, 0.00547606830669975), (1286, 0.0), (1287, 0.007266160174048724), (1288, 0.0068619662673498425), (1289, 0.0), (1290, 0.005067339423522417), (1291, 0.0), (1292, 0.010866059569956506), (1293, 0.012746649251326583), (1294, 0.05181415190523937), (1295, 0.0), (1296, 0.004701107105314284), (1297, 0.0), (1298, 0.0), (1299, 0.0), (1300, 0.00450689155300506), (1301, 0.011585948336478639), (1302, 0.011207121508336538), (1303, 0.04499166879591815), (1304, 0.0), (1305, 0.0), (1306, 0.0), (1307, 0.007097258750291223), (1308, 0.00691927005833567), (1309, 0.01591161030770048), (1310, 0.011969228328287534), (1311, 0.0), (1312, 0.0), (1313, 0.0), (1314, 0.010869856319541326), (1315, 0.012899344783993854), (1316, 0.0), (1317, 0.0), (1318, 0.0), (1319, 0.0), (1320, 0.004490048311241878), (1321, 0.015262658647247922), (1322, 0.0), (1323, 0.0), (1324, 0.01414617465397198), (1325, 0.005777067587310408), (1326, 0.010825844874451304), (1327, 0.007171658330782647), (1328, 0.013984811795426684), (1329, 0.0), (1330, 0.0), (1331, 0.0), (1332, 0.012311332375730986), (1333, 0.008042469074264891), (1334, 0.0), (1335, 0.06213544072459707), (1336, 0.0), (1337, 0.011276363530272589), (1338, 0.005625680109089825), (1339, 0.0), (1340, 0.0), (1341, 0.010884352904892803), (1342, 0.04214757344706568), (1343, 0.006336091997836856), (1344, 0.0), (1345, 0.0), (1346, 0.013337319557772913), (1347, 0.005148226188980777), (1348, 0.009624891659763202), (1349, 0.0), (1350, 0.012917914328738345), (1351, 0.003930712343962958), (1352, 0.011264869909041294), (1353, 0.0), (1354, 0.012233660757632377), (1355, 0.0), (1356, 0.047231044745095783), (1357, 0.0052710606124976534), (1358, 0.013070023161787101), (1359, 0.0), (1360, 0.004850921080843265), (1361, 0.0), (1362, 0.0), (1363, 0.0), (1364, 0.0), (1365, 0.0), (1366, 0.01196250678488783), (1367, 0.0), (1368, 0.01279527502892927), (1369, 0.009043913360639984), (1370, 0.0), (1371, 0.0), (1372, 0.0), (1373, 0.007306448063945787), (1374, 0.0990588375740496), (1375, 0.005065855680350003), (1376, 0.0), (1377, 0.008913516187888834), (1378, 0.0), (1379, 0.011494516312086079), (1380, 0.019607250162232734), (1381, 0.021334875042706064), (1382, 0.0), (1383, 0.006016634953157132), (1384, 0.009834423462979486), (1385, 0.018614920622825316), (1386, 0.0929688874482918), (1387, 0.01197177067425464), (1388, 0.0075746016062687785), (1389, 0.007941705966739357), (1390, 0.030270860190342877), (1391, 0.005946351188681741), (1392, 0.0), (1393, 0.006005840872681479), (1394, 0.0), (1395, 0.004290336041183014), (1396, 0.01944263434285424), (1397, 0.006521850755425028), (1398, 0.07378029402980534), (1399, 0.0), (1400, 0.005618390777117843), (1401, 0.007963730510547346), (1402, 0.0), (1403, 0.0), (1404, 0.0), (1405, 0.0), (1406, 0.01079936927552055), (1407, 0.0056641925152429275), (1408, 0.014690289247172162), (1409, 0.0), (1410, 0.0), (1411, 0.0), (1412, 0.017695734945927005), (1413, 0.011214190246256259), (1414, 0.004755000475867265), (1415, 0.0), (1416, 0.0), (1417, 0.008625398390168836), (1418, 0.035147740084728776), (1419, 0.011062942680673591), (1420, 0.005308285606880234), (1421, 0.0051382841182483685), (1422, 0.0), (1423, 0.0), (1424, 0.0), (1425, 0.0), (1426, 0.005646929614925091), (1427, 0.0), (1428, 0.005052492949588674), (1429, 0.006407575734527007), (1430, 0.004956032159774696), (1431, 0.005457816175674527), (1432, 0.01151001043725313), (1433, 0.004958697910030544), (1434, 0.0), (1435, 0.0054491873659793496), (1436, 0.019671136871022024), (1437, 0.015027144992880184), (1438, 0.0), (1439, 0.0), (1440, 0.013466284994112971), (1441, 0.0), (1442, 0.010939428746788736), (1443, 0.011400329006901525), (1444, 0.0), (1445, 0.0), (1446, 0.0), (1447, 0.0), (1448, 0.004924940742254422), (1449, 0.05874709512970755), (1450, 0.0), (1451, 0.005006522761992743), (1452, 0.005633725216469928), (1453, 0.0), (1454, 0.06757482470173409), (1455, 0.011036349004382474), (1456, 0.0), (1457, 0.0), (1458, 0.015735386920219002), (1459, 0.013053647159964543), (1460, 0.014681247625777213), (1461, 0.0), (1462, 0.004888769665110001), (1463, 0.0), (1464, 0.0), (1465, 0.0), (1466, 0.015459869956493705), (1467, 0.0044997189487093366), (1468, 0.011754883862530707), (1469, 0.011439196292736433), (1470, 0.013726734532260733), (1471, 0.008194081503299689), (1472, 0.00539194873881132), (1473, 0.0), (1474, 0.008410662045199059), (1475, 0.007862151404979388), (1476, 0.0), (1477, 0.0), (1478, 0.010581226060400527), (1479, 0.0), (1480, 0.03512899435934622), (1481, 0.005158691462444582), (1482, 0.0), (1483, 0.061045656979071605), (1484, 0.011688448572601637), (1485, 0.0), (1486, 0.006299136174352313), (1487, 0.0), (1488, 0.005343382341904085), (1489, 0.005989110648866407), (1490, 0.007205834795107305), (1491, 0.0), (1492, 0.0), (1493, 0.0051385840791903685), (1494, 0.0), (1495, 0.007672842373507538), (1496, 0.0), (1497, 0.0), (1498, 0.0059256070608884135), (1499, 0.0), (1500, 0.0), (1501, 0.0), (1502, 0.011668716237072326), (1503, 0.006837871931448644), (1504, 0.05565467981978277), (1505, 0.0), (1506, 0.003650040739531033), (1507, 0.0), (1508, 0.0), (1509, 0.0036411711668963807), (1510, 0.011155151341556039), (1511, 0.006211028978035491), (1512, 0.00575705231287903), (1513, 0.005958325897092612), (1514, 0.006979658282467802), (1515, 0.013347968165712638), (1516, 0.005890599615096647), (1517, 0.0), (1518, 0.0), (1519, 0.004928794539379903), (1520, 0.0), (1521, 0.006513562228025591), (1522, 0.01339164993077742), (1523, 0.0), (1524, 0.0), (1525, 0.0), (1526, 0.0), (1527, 0.005597803143715581), (1528, 0.0), (1529, 0.013771319371724634), (1530, 0.015225419208300893), (1531, 0.00563162839508234), (1532, 0.0), (1533, 0.0), (1534, 0.0), (1535, 0.004809668389927978), (1536, 0.005947892292949826), (1537, 0.011830231772271299), (1538, 0.0), (1539, 0.0), (1540, 0.006681695722468702), (1541, 0.0), (1542, 0.005518395349558021), (1543, 0.0), (1544, 0.00549068020674901), (1545, 0.0054849129455684055), (1546, 0.05292673078036022), (1547, 0.015445620948527125), (1548, 0.007240158701521741), (1549, 0.0), (1550, 0.0), (1551, 0.005238516781538528), (1552, 0.01267937649652684), (1553, 0.0), (1554, 0.02046933180415335), (1555, 0.0049618227211642), (1556, 0.0), (1557, 0.0), (1558, 0.0), (1559, 0.0046128845089717894), (1560, 0.006445511266573615), (1561, 0.0), (1562, 0.0049369151201066365), (1563, 0.0), (1564, 0.0058580278058089595), (1565, 0.0), (1566, 0.01860646652493174), (1567, 0.01201298317529225), (1568, 0.00486392233767137), (1569, 0.0), (1570, 0.013946814286367105), (1571, 0.0), (1572, 0.014110886274540605), (1573, 0.005250864993596961), (1574, 0.0), (1575, 0.005706889376249814), (1576, 0.008850582045867915), (1577, 0.013377326080318473), (1578, 0.0), (1579, 0.012465451435452867), (1580, 0.0), (1581, 0.0057031505148693274), (1582, 0.04845625169316255), (1583, 0.0), (1584, 0.0), (1585, 0.0), (1586, 0.0), (1587, 0.018924597690403413), (1588, 0.005569113242389253), (1589, 0.0), (1590, 0.004647076427205926), (1591, 0.01279728083455725), (1592, 0.012861740391806313), (1593, 0.0), (1594, 0.0), (1595, 0.0048234740733981395), (1596, 0.0), (1597, 0.0), (1598, 0.007444811339328213), (1599, 0.005791170052884984), (1600, 0.016275944871253455), (1601, 0.0066942811211762035), (1602, 0.0), (1603, 0.013916986786542181), (1604, 0.013148500819150893), (1605, 0.0), (1606, 0.0), (1607, 0.007344418774767795), (1608, 0.00470468495520167), (1609, 0.0), (1610, 0.0), (1611, 0.01340204120373893), (1612, 0.0), (1613, 0.0), (1614, 0.005701913764154248), (1615, 0.00893107112293396), (1616, 0.0), (1617, 0.0), (1618, 0.0), (1619, 0.0), (1620, 0.0), (1621, 0.005254413253618941), (1622, 0.0052393757103412625), (1623, 0.0049355718933783805), (1624, 0.0), (1625, 0.0), (1626, 0.0), (1627, 0.009445435673051353), (1628, 0.0), (1629, 0.005501857771046655), (1630, 0.005057350930367402), (1631, 0.005056844319062138), (1632, 0.0051103167118969365), (1633, 0.00509289396633525), (1634, 0.0), (1635, 0.005227184593193746), (1636, 0.0), (1637, 0.0), (1638, 0.0), (1639, 0.0), (1640, 0.008145597770493444), (1641, 0.0), (1642, 0.0), (1643, 0.005595717350316658), (1644, 0.0), (1645, 0.012811451439233863), (1646, 0.0), (1647, 0.0), (1648, 0.0), (1649, 0.01235927627950835), (1650, 0.013986672961151279), (1651, 0.010380750741326907), (1652, 0.0), (1653, 0.010775401673582805), (1654, 0.0), (1655, 0.0), (1656, 0.0), (1657, 0.005165866687769836), (1658, 0.0), (1659, 0.011777778324651324), (1660, 0.0), (1661, 0.005739656393008642), (1662, 0.0049676340758811645), (1663, 0.0), (1664, 0.0071427523733187505), (1665, 0.010346002102122434), (1666, 0.03201434949937018), (1667, 0.004912150352371342), (1668, 0.0), (1669, 0.0), (1670, 0.0), (1671, 0.005160327778533676), (1672, 0.0), (1673, 0.0), (1674, 0.0), (1675, 0.016936836318902592), (1676, 0.0), (1677, 0.0), (1678, 0.010986645219387206), (1679, 0.0), (1680, 0.010035367444584288), (1681, 0.012131257494910393), (1682, 0.0), (1683, 0.0), (1684, 0.0), (1685, 0.0), (1686, 0.00771031684398195), (1687, 0.011715718059032878), (1688, 0.0), (1689, 0.0), (1690, 0.0), (1691, 0.0), (1692, 0.005659310269561817), (1693, 0.0), (1694, 0.0047322928584858474), (1695, 0.0), (1696, 0.010835395963646615), (1697, 0.015525969096760095), (1698, 0.0), (1699, 0.004611464738215304), (1700, 0.014375075077857912), (1701, 0.004208796454329292), (1702, 0.0), (1703, 0.0), (1704, 0.0), (1705, 0.014200936882103438), (1706, 0.04037040400650306), (1707, 0.0), (1708, 0.006143343648822372), (1709, 0.010724190744638375), (1710, 0.0), (1711, 0.06329437522825239), (1712, 0.0), (1713, 0.021111212233898665), (1714, 0.005229474880266655), (1715, 0.0), (1716, 0.005977531400669062), (1717, 0.0), (1718, 0.0), (1719, 0.0), (1720, 0.0), (1721, 0.05258232984378168), (1722, 0.0), (1723, 0.005003558087651863), (1724, 0.0057389357337464895), (1725, 0.008337626688600117), (1726, 0.0), (1727, 0.005947021768332865), (1728, 0.004418462366829233), (1729, 0.0), (1730, 0.0), (1731, 0.008085643001983979), (1732, 0.011809900210785871), (1733, 0.0), (1734, 0.005993276470538085), (1735, 0.005898631419202072), (1736, 0.005987820610642148), (1737, 0.0), (1738, 0.007159594412993295), (1739, 0.0047924490487546816), (1740, 0.011271892555611833), (1741, 0.0), (1742, 0.0), (1743, 0.0), (1744, 0.0), (1745, 0.011350860640277537), (1746, 0.0), (1747, 0.0), (1748, 0.0), (1749, 0.010363741494518748), (1750, 0.0), (1751, 0.005787016962329365), (1752, 0.0), (1753, 0.004581483281021483), (1754, 0.0), (1755, 0.05520612922536907), (1756, 0.0), (1757, 0.0), (1758, 0.00872096146056592), (1759, 0.0), (1760, 0.004927911921752858), (1761, 0.005446801500174576), (1762, 0.0), (1763, 0.0), (1764, 0.011495274523931112), (1765, 0.0), (1766, 0.0), (1767, 0.0), (1768, 0.0), (1769, 0.0), (1770, 0.006150303147015897), (1771, 0.0), (1772, 0.016133065520320566), (1773, 0.005222106032851793), (1774, 0.004069668228679016), (1775, 0.0), (1776, 0.0), (1777, 0.0), (1778, 0.0), (1779, 0.00567464666879407), (1780, 0.0), (1781, 0.009401859225075289), (1782, 0.0), (1783, 0.0), (1784, 0.004839873374794121), (1785, 0.0), (1786, 0.0), (1787, 0.0), (1788, 0.024574285730788712), (1789, 0.01716767891079022), (1790, 0.0), (1791, 0.01785280579328919), (1792, 0.0), (1793, 0.0), (1794, 0.0), (1795, 0.0), (1796, 0.010081894715232232), (1797, 0.01162634545829065), (1798, 0.022333114775693132), (1799, 0.012102194682081917), (1800, 0.0), (1801, 0.0), (1802, 0.01129530931583767), (1803, 0.0), (1804, 0.0), (1805, 0.0), (1806, 0.0), (1807, 0.0), (1808, 0.0), (1809, 0.016802071464573513), (1810, 0.007210327997159929), (1811, 0.005287119076975398), (1812, 0.019860243544412605), (1813, 0.0), (1814, 0.0), (1815, 0.012791091536679327), (1816, 0.0), (1817, 0.0047832489229134465), (1818, 0.005420214892395759), (1819, 0.00496562150387228), (1820, 0.0), (1821, 0.0), (1822, 0.006037936893850729), (1823, 0.005292093936895853), (1824, 0.0), (1825, 0.0), (1826, 0.0), (1827, 0.0), (1828, 0.004935395613862495), (1829, 0.005801704823801598), (1830, 0.0), (1831, 0.0), (1832, 0.005443566518203656), (1833, 0.006457920025522118), (1834, 0.0), (1835, 0.0), (1836, 0.0), (1837, 0.0), (1838, 0.004593297182844189), (1839, 0.0), (1840, 0.0048495054542393385), (1841, 0.013793029762473678), (1842, 0.0), (1843, 0.0), (1844, 0.008280013928716665), (1845, 0.004507277841131911), (1846, 0.018111017323451932), (1847, 0.005905497778774844), (1848, 0.0), (1849, 0.0), (1850, 0.006504984555828337), (1851, 0.0), (1852, 0.005256057788567857), (1853, 0.011696038744379855), (1854, 0.0), (1855, 0.00705412057736802), (1856, 0.0), (1857, 0.005247159601254127), (1858, 0.0), (1859, 0.005620225417916919), (1860, 0.0), (1861, 0.0), (1862, 0.0), (1863, 0.0), (1864, 0.005126478426850497), (1865, 0.004835320718734107), (1866, 0.005819929151657578), (1867, 0.0), (1868, 0.0), (1869, 0.0), (1870, 0.005112234095791664), (1871, 0.0), (1872, 0.0), (1873, 0.005335256724133142), (1874, 0.0), (1875, 0.0), (1876, 0.011113253563903235), (1877, 0.0), (1878, 0.0), (1879, 0.0), (1880, 0.0), (1881, 0.011557387072691928), (1882, 0.0), (1883, 0.006217763907111405), (1884, 0.0), (1885, 0.0), (1886, 0.010540572963947278), (1887, 0.0), (1888, 0.0), (1889, 0.007656747837215021), (1890, 0.0), (1891, 0.0), (1892, 0.004839867057678602), (1893, 0.0), (1894, 0.014370718255225165), (1895, 0.012492638627934611), (1896, 0.048501963156745403), (1897, 0.0057790002541665405), (1898, 0.012400316446385685), (1899, 0.0), (1900, 0.01026304046443568), (1901, 0.019053748107342994), (1902, 0.005602363394738714), (1903, 0.0), (1904, 0.01966138412172099), (1905, 0.0), (1906, 0.0), (1907, 0.0), (1908, 0.007581843383337401), (1909, 0.0), (1910, 0.0045027683862274275), (1911, 0.007831901522192004), (1912, 0.007220560910973228), (1913, 0.0), (1914, 0.005009240748305854), (1915, 0.0), (1916, 0.0), (1917, 0.0), (1918, 0.005629949846196658), (1919, 0.03527762482199393), (1920, 0.0), (1921, 0.0), (1922, 0.0), (1923, 0.0), (1924, 0.006089197310937421), (1925, 0.004652869593222478), (1926, 0.008013840088019572), (1927, 0.005250808587213555), (1928, 0.0), (1929, 0.0), (1930, 0.005388074837854381), (1931, 0.018995296746080515), (1932, 0.007831209871243146), (1933, 0.03262161602221598), (1934, 0.02333442533143907), (1935, 0.0), (1936, 0.013553880919041014), (1937, 0.010853730815368669), (1938, 0.0), (1939, 0.02467309906391601), (1940, 0.006229462508028228), (1941, 0.013225245145228368), (1942, 0.005422694559400867), (1943, 0.0), (1944, 0.0), (1945, 0.013362226097044017), (1946, 0.0), (1947, 0.0), (1948, 0.00908706994125208), (1949, 0.011455529321434281), (1950, 0.0), (1951, 0.0), (1952, 0.06009033550232113), (1953, 0.005178798084187105), (1954, 0.0), (1955, 0.007921868434097708), (1956, 0.0), (1957, 0.0), (1958, 0.005440424998280835), (1959, 0.0), (1960, 0.005901309887752257), (1961, 0.007769397906713379), (1962, 0.005937707484812766), (1963, 0.0), (1964, 0.004818073957420104), (1965, 0.007877513695408686), (1966, 0.0), (1967, 0.005177923522951349), (1968, 0.012976500641523944), (1969, 0.0), (1970, 0.005430540214203507), (1971, 0.004848087393217295), (1972, 0.0), (1973, 0.005380695047051465), (1974, 0.0), (1975, 0.005614055463258409), (1976, 0.012343741603193402), (1977, 0.0050926287476552035), (1978, 0.0), (1979, 0.0), (1980, 0.0), (1981, 0.0), (1982, 0.012146875334597847), (1983, 0.005551083591789576), (1984, 0.0), (1985, 0.011165482750642053), (1986, 0.0), (1987, 0.012173203968151107), (1988, 0.0), (1989, 0.010338414806055463), (1990, 0.004855916762463117), (1991, 0.00540698256915525), (1992, 0.004979450201947616), (1993, 0.0050889378701436975), (1994, 0.0), (1995, 0.0), (1996, 0.005121332009001298), (1997, 0.005790842287012218), (1998, 0.005394293734951399), (1999, 0.008519178628992137), (2000, 0.0), (2001, 0.0), (2002, 0.0), (2003, 0.0), (2004, 0.0), (2005, 0.0), (2006, 0.006431760810476403), (2007, 0.0), (2008, 0.005183376788879466), (2009, 0.0), (2010, 0.010472843468806382), (2011, 0.0), (2012, 0.01270748082726541), (2013, 0.014812731327380927), (2014, 0.013189904575726528), (2015, 0.019413174472100045), (2016, 0.013767161175719581), (2017, 0.0), (2018, 0.0), (2019, 0.007490034203877226), (2020, 0.004878948164939751), (2021, 0.012382611538747139), (2022, 0.025746431675260025), (2023, 0.0), (2024, 0.010581212795700973), (2025, 0.004718339854317518), (2026, 0.0), (2027, 0.0), (2028, 0.03249450976061931), (2029, 0.0), (2030, 0.0), (2031, 0.0048096777322494885), (2032, 0.0), (2033, 0.00520277796708796), (2034, 0.010925840160651984), (2035, 0.0), (2036, 0.0), (2037, 0.005808595661643037), (2038, 0.0), (2039, 0.0), (2040, 0.012207397681481349), (2041, 0.0), (2042, 0.0), (2043, 0.0), (2044, 0.011737131992917498), (2045, 0.018894189948545737), (2046, 0.0), (2047, 0.0), (2048, 0.0077623977991513925), (2049, 0.0), (2050, 0.007191268322522445), (2051, 0.0), (2052, 0.0053342654352747905), (2053, 0.005502779266787477), (2054, 0.0), (2055, 0.025689885784160146), (2056, 0.0), (2057, 0.005168963776907197), (2058, 0.005161643788074466), (2059, 0.0), (2060, 0.0), (2061, 0.011191767051151227), (2062, 0.005160954240837996), (2063, 0.0), (2064, 0.0), (2065, 0.011914455135531656), (2066, 0.020914570257410274), (2067, 0.013341289542149509), (2068, 0.0), (2069, 0.005236796356179071), (2070, 0.0045589788066293015), (2071, 0.0), (2072, 0.0), (2073, 0.0), (2074, 0.0047053831568712335), (2075, 0.024360493344262685), (2076, 0.0), (2077, 0.006975632101221339), (2078, 0.008787963322062074), (2079, 0.0), (2080, 0.0), (2081, 0.0057258449570667495), (2082, 0.006205151370082255), (2083, 0.0059858500324381754), (2084, 0.0057521854644586425), (2085, 0.005959313752152039), (2086, 0.0), (2087, 0.0), (2088, 0.011576922975168626), (2089, 0.006262964177472914), (2090, 0.0), (2091, 0.011203573112035351), (2092, 0.0), (2093, 0.017194454391803643), (2094, 0.010456382734712041), (2095, 0.014567255728801309), (2096, 0.005681067859664704), (2097, 0.0), (2098, 0.0), (2099, 0.0), (2100, 0.007252036656268157), (2101, 0.0), (2102, 0.0), (2103, 0.01291313506780752), (2104, 0.005692252716365975), (2105, 0.0), (2106, 0.0), (2107, 0.0), (2108, 0.0), (2109, 0.0), (2110, 0.0048903265904248925), (2111, 0.0), (2112, 0.005882811941062474), (2113, 0.00447593180466707), (2114, 0.004815383823982674), (2115, 0.03143696969449881), (2116, 0.0), (2117, 0.01272066275544135), (2118, 0.0), (2119, 0.004944434523989991), (2120, 0.0), (2121, 0.005074224549057657), (2122, 0.0), (2123, 0.0), (2124, 0.012259696553668218), (2125, 0.012128845589173314), (2126, 0.0), (2127, 0.05350482963476778), (2128, 0.0), (2129, 0.0), (2130, 0.013011355513318303), (2131, 0.0), (2132, 0.0), (2133, 0.0), (2134, 0.0), (2135, 0.0), (2136, 0.020149264846934235), (2137, 0.0), (2138, 0.0), (2139, 0.01744881652212352), (2140, 0.0), (2141, 0.0), (2142, 0.0), (2143, 0.0), (2144, 0.0), (2145, 0.0), (2146, 0.0), (2147, 0.0), (2148, 0.0), (2149, 0.0), (2150, 0.012842260224267033), (2151, 0.0), (2152, 0.0), (2153, 0.013334042573931), (2154, 0.006827149880669024), (2155, 0.0), (2156, 0.0), (2157, 0.0), (2158, 0.0), (2159, 0.0), (2160, 0.0), (2161, 0.044942139194903585), (2162, 0.0), (2163, 0.0), (2164, 0.0148435943965818), (2165, 0.0), (2166, 0.005386803497864032), (2167, 0.0), (2168, 0.0), (2169, 0.0), (2170, 0.0), (2171, 0.008147463591932268), (2172, 0.0077233225755970695), (2173, 0.0), (2174, 0.005283161439333738), (2175, 0.0), (2176, 0.0), (2177, 0.006483679058476037), (2178, 0.05984195532767056), (2179, 0.0), (2180, 0.006538270475172874), (2181, 0.01254231108448265), (2182, 0.006425616005471079), (2183, 0.006993602844858895), (2184, 0.005372981887162807), (2185, 0.01188038369857785), (2186, 0.0), (2187, 0.0), (2188, 0.01348535985528965), (2189, 0.0), (2190, 0.0), (2191, 0.004780043558799257), (2192, 0.0), (2193, 0.0), (2194, 0.0), (2195, 0.0), (2196, 0.00563643663803128), (2197, 0.04801459827189243), (2198, 0.015112263114364916), (2199, 0.0), (2200, 0.0), (2201, 0.0), (2202, 0.0), (2203, 0.0), (2204, 0.0), (2205, 0.00535397648341062), (2206, 0.010561832025594041), (2207, 0.0), (2208, 0.019704770071886268), (2209, 0.0), (2210, 0.011234626267387793), (2211, 0.0), (2212, 0.005707395046099177), (2213, 0.0), (2214, 0.005795168194491504), (2215, 0.0), (2216, 0.0052236679251754636), (2217, 0.005987932217146507), (2218, 0.008384403212103715), (2219, 0.0), (2220, 0.0), (2221, 0.041960261192163714), (2222, 0.0), (2223, 0.0), (2224, 0.010485213889417998), (2225, 0.0), (2226, 0.0), (2227, 0.004752854857246028), (2228, 0.0), (2229, 0.005824778214238993), (2230, 0.0), (2231, 0.00588997908450107), (2232, 0.010795276630822278), (2233, 0.014553291953230168), (2234, 0.0), (2235, 0.005476897478550575), (2236, 0.0), (2237, 0.011636806771233278), (2238, 0.005923486767422637), (2239, 0.00557937605738046), (2240, 0.0), (2241, 0.005947863053998383), (2242, 0.0), (2243, 0.006135186817121899), (2244, 0.0), (2245, 0.005148055939707735), (2246, 0.00531996615136522), (2247, 0.0), (2248, 0.0), (2249, 0.007887032485816998), (2250, 0.0), (2251, 0.0), (2252, 0.005742761651526806), (2253, 0.0), (2254, 0.005719580150221607), (2255, 0.006876572033434374), (2256, 0.0), (2257, 0.0), (2258, 0.0), (2259, 0.015680424552854965), (2260, 0.0), (2261, 0.0), (2262, 0.0), (2263, 0.0), (2264, 0.0), (2265, 0.0), (2266, 0.0), (2267, 0.0), (2268, 0.0), (2269, 0.0), (2270, 0.0), (2271, 0.0), (2272, 0.0), (2273, 0.006290956924532134), (2274, 0.005262900083867378), (2275, 0.014963765269459237), (2276, 0.011350184126048622), (2277, 0.013443075595400939), (2278, 0.005407262169046286), (2279, 0.0), (2280, 0.005279881822510115), (2281, 0.0), (2282, 0.0), (2283, 0.013717096485022362), (2284, 0.005358739158859642), (2285, 0.01357247564990316), (2286, 0.0), (2287, 0.012584030257908552), (2288, 0.0), (2289, 0.0), (2290, 0.0), (2291, 0.0), (2292, 0.0), (2293, 0.0), (2294, 0.004941331629050087), (2295, 0.005414722592807754), (2296, 0.011140142515001616), (2297, 0.0), (2298, 0.013086459393505615), (2299, 0.0), (2300, 0.0), (2301, 0.0), (2302, 0.0), (2303, 0.0), (2304, 0.0), (2305, 0.0), (2306, 0.0), (2307, 0.0), (2308, 0.0), (2309, 0.0), (2310, 0.0), (2311, 0.0), (2312, 0.0), (2313, 0.0), (2314, 0.00586334307189529), (2315, 0.0052720601069602534), (2316, 0.02228286150057203), (2317, 0.0), (2318, 0.004400813707128842), (2319, 0.0), (2320, 0.0), (2321, 0.0), (2322, 0.0), (2323, 0.0), (2324, 0.009730619297711785), (2325, 0.0), (2326, 0.004185259957705061), (2327, 0.0), (2328, 0.0065418444623656065), (2329, 0.00739738022140581), (2330, 0.05398119358026), (2331, 0.0), (2332, 0.007771865374332112), (2333, 0.0), (2334, 0.005486003077557069), (2335, 0.0), (2336, 0.005300064934238212), (2337, 0.007984663755612567), (2338, 0.0), (2339, 0.0), (2340, 0.0), (2341, 0.0), (2342, 0.0), (2343, 0.0), (2344, 0.005341060185139205), (2345, 0.0), (2346, 0.0), (2347, 0.0), (2348, 0.005020406693246455), (2349, 0.0), (2350, 0.0), (2351, 0.0), (2352, 0.006445395017489035), (2353, 0.013653888034750672), (2354, 0.0), (2355, 0.004443581454004479), (2356, 0.014824942553974207), (2357, 0.0), (2358, 0.0), (2359, 0.0), (2360, 0.0), (2361, 0.006066987925351156), (2362, 0.0), (2363, 0.007068486193525139), (2364, 0.04282325505567077), (2365, 0.010253069008305147), (2366, 0.0), (2367, 0.0), (2368, 0.0), (2369, 0.0), (2370, 0.0), (2371, 0.0), (2372, 0.03128667003267866), (2373, 0.0), (2374, 0.005401738229476619), (2375, 0.0), (2376, 0.0), (2377, 0.0), (2378, 0.06053650697897143), (2379, 0.0), (2380, 0.0), (2381, 0.014785744618018907), (2382, 0.0), (2383, 0.012286176276925558), (2384, 0.0), (2385, 0.0), (2386, 0.0), (2387, 0.0), (2388, 0.0), (2389, 0.011829283651858109), (2390, 0.0), (2391, 0.0), (2392, 0.0), (2393, 0.0), (2394, 0.0), (2395, 0.0), (2396, 0.0), (2397, 0.0), (2398, 0.0), (2399, 0.005279817075236302), (2400, 0.0), (2401, 0.0), (2402, 0.0), (2403, 0.0), (2404, 0.0), (2405, 0.0), (2406, 0.0062607112281978326), (2407, 0.0), (2408, 0.0), (2409, 0.04807167479175651), (2410, 0.0), (2411, 0.0), (2412, 0.009594563874225203), (2413, 0.019501481152281848), (2414, 0.007602204518801479), (2415, 0.006940569925134912), (2416, 0.0), (2417, 0.0), (2418, 0.0), (2419, 0.0), (2420, 0.0), (2421, 0.020798938378933457), (2422, 0.0), (2423, 0.0), (2424, 0.005184437808924607), (2425, 0.0), (2426, 0.011953179731629567), (2427, 0.02159537128494242), (2428, 0.020517354738339398), (2429, 0.010242847763349456), (2430, 0.0), (2431, 0.0), (2432, 0.010650843355800452), (2433, 0.011613260551125354), (2434, 0.0), (2435, 0.0), (2436, 0.0), (2437, 0.03684852737293689), (2438, 0.0), (2439, 0.004696029718207955), (2440, 0.0), (2441, 0.0), (2442, 0.0172905353074832), (2443, 0.0035004315761613457), (2444, 0.013527284351591094), (2445, 0.0), (2446, 0.0), (2447, 0.004571386661830023), (2448, 0.0), (2449, 0.0), (2450, 0.007010930930036968), (2451, 0.008099972289316675), (2452, 0.0), (2453, 0.0), (2454, 0.0), (2455, 0.0), (2456, 0.0), (2457, 0.0), (2458, 0.05500411751005762), (2459, 0.013449382059508228), (2460, 0.0), (2461, 0.0), (2462, 0.0), (2463, 0.0), (2464, 0.0), (2465, 0.0), (2466, 0.0), (2467, 0.0), (2468, 0.012910637728993476), (2469, 0.0), (2470, 0.006460066755804724), (2471, 0.0), (2472, 0.015131388214663264), (2473, 0.007182538751640035), (2474, 0.005786168417447408), (2475, 0.0), (2476, 0.012564421352489879), (2477, 0.005758636786376498), (2478, 0.0), (2479, 0.014808808381431761), (2480, 0.005284171121198752), (2481, 0.0), (2482, 0.0), (2483, 0.0), (2484, 0.0), (2485, 0.0), (2486, 0.006085428662728236), (2487, 0.0), (2488, 0.0), (2489, 0.0), (2490, 0.0), (2491, 0.0), (2492, 0.0), (2493, 0.006312703118780805), (2494, 0.0), (2495, 0.0), (2496, 0.004984464954240198), (2497, 0.0), (2498, 0.0), (2499, 0.006081450892931056), (2500, 0.0), (2501, 0.018680957447591802), (2502, 0.0), (2503, 0.0), (2504, 0.007363429885035158), (2505, 0.0), (2506, 1.0000000000000002), (2507, 0.0), (2508, 0.0), (2509, 0.0), (2510, 0.0), (2511, 0.0), (2512, 0.007487645459567684), (2513, 0.005304857890219646), (2514, 0.0), (2515, 0.0), (2516, 0.0), (2517, 0.0), (2518, 0.0), (2519, 0.05206274209097078), (2520, 0.0), (2521, 0.007446649481556736), (2522, 0.019814351144897636), (2523, 0.0), (2524, 0.0042948742420023615), (2525, 0.0), (2526, 0.0), (2527, 0.0), (2528, 0.0), (2529, 0.07326723210441093), (2530, 0.01685533101463819), (2531, 0.0), (2532, 0.008514161860451891), (2533, 0.0), (2534, 0.0), (2535, 0.0), (2536, 0.0), (2537, 0.0), (2538, 0.0), (2539, 0.00654696206702386), (2540, 0.010531291151646097), (2541, 0.004523036398451161), (2542, 0.0), (2543, 0.0), (2544, 0.007068043043179697), (2545, 0.0), (2546, 0.0), (2547, 0.007532073833242511), (2548, 0.0), (2549, 0.0210701051658141), (2550, 0.0), (2551, 0.007662949291444181), (2552, 0.0), (2553, 0.0), (2554, 0.01337836290323623), (2555, 0.021141613793274422), (2556, 0.0), (2557, 0.0), (2558, 0.00533068327540483), (2559, 0.017433213106380855), (2560, 0.0), (2561, 0.0), (2562, 0.005678395649547916), (2563, 0.0), (2564, 0.0), (2565, 0.0), (2566, 0.0), (2567, 0.02206199903720035), (2568, 0.0), (2569, 0.007452162712116697), (2570, 0.0), (2571, 0.0), (2572, 0.0), (2573, 0.009057609748963595), (2574, 0.014703286140126701), (2575, 0.008243027186515428), (2576, 0.012500615080677818), (2577, 0.0), (2578, 0.0), (2579, 0.0), (2580, 0.004759856495209713), (2581, 0.007147571723220174), (2582, 0.0), (2583, 0.0), (2584, 0.019181905580044293), (2585, 0.0), (2586, 0.0), (2587, 0.0), (2588, 0.0), (2589, 0.0), (2590, 0.007020636866188236), (2591, 0.0), (2592, 0.0), (2593, 0.0), (2594, 0.0), (2595, 0.0), (2596, 0.0), (2597, 0.0), (2598, 0.005042744169780557), (2599, 0.00576071331847008), (2600, 0.007216265340155202), (2601, 0.0), (2602, 0.004422549553432679), (2603, 0.0), (2604, 0.0), (2605, 0.0078727891666486), (2606, 0.005366792175336934), (2607, 0.004777504233401078), (2608, 0.0), (2609, 0.008044207783782478), (2610, 0.0), (2611, 0.0), (2612, 0.0), (2613, 0.0), (2614, 0.0), (2615, 0.0070057786698996885), (2616, 0.01296652311630456), (2617, 0.004699214080829572), (2618, 0.005076261055137465), (2619, 0.0), (2620, 0.0), (2621, 0.04854950840132452), (2622, 0.009374774074556294), (2623, 0.0), (2624, 0.0), (2625, 0.006571522702129608), (2626, 0.01212716707463608), (2627, 0.0), (2628, 0.0), (2629, 0.0), (2630, 0.00567676032838232), (2631, 0.0), (2632, 0.0052046973524531226), (2633, 0.0), (2634, 0.005344479888260759), (2635, 0.0), (2636, 0.0), (2637, 0.008097173202601999), (2638, 0.0060559410718094096), (2639, 0.0), (2640, 0.01387570853600847), (2641, 0.012707961176857806), (2642, 0.012776939207921714), (2643, 0.0), (2644, 0.0), (2645, 0.014220536332670456), (2646, 0.016715515152707902), (2647, 0.01883003783586517), (2648, 0.0), (2649, 0.0), (2650, 0.0), (2651, 0.0), (2652, 0.0), (2653, 0.0), (2654, 0.0), (2655, 0.007063417626704342), (2656, 0.0), (2657, 0.008378308430501406), (2658, 0.0), (2659, 0.008239052457728019), (2660, 0.0), (2661, 0.0), (2662, 0.0), (2663, 0.0), (2664, 0.0), (2665, 0.0), (2666, 0.0), (2667, 0.007794026573099571), (2668, 0.011369400881110114), (2669, 0.0), (2670, 0.006122331749676567), (2671, 0.0), (2672, 0.014864091051168787), (2673, 0.0), (2674, 0.005265214827493846), (2675, 0.0), (2676, 0.006558825298786155), (2677, 0.0), (2678, 0.0), (2679, 0.0), (2680, 0.010591844966581073), (2681, 0.0), (2682, 0.010309323342679942), (2683, 0.005970164486276836), (2684, 0.0), (2685, 0.0), (2686, 0.0), (2687, 0.0), (2688, 0.006470310307365485), (2689, 0.011713367857053831), (2690, 0.0), (2691, 0.013797102173798525), (2692, 0.004628370144810393), (2693, 0.0), (2694, 0.0), (2695, 0.005336556350808472), (2696, 0.0), (2697, 0.009046005352742484), (2698, 0.0), (2699, 0.0), (2700, 0.005987687669296306), (2701, 0.0), (2702, 0.0), (2703, 0.0), (2704, 0.0), (2705, 0.0), (2706, 0.0054377901980380925), (2707, 0.015564533030660976), (2708, 0.0), (2709, 0.0), (2710, 0.014910941579738197), (2711, 0.010514064029497863), (2712, 0.0), (2713, 0.012991631933915759), (2714, 0.011694371924301002), (2715, 0.00992848536592054), (2716, 0.005133946396319116), (2717, 0.0), (2718, 0.011572983675383924), (2719, 0.0), (2720, 0.0067037332164796935), (2721, 0.0), (2722, 0.0), (2723, 0.0), (2724, 0.004736208807128044), (2725, 0.008065656967504692), (2726, 0.0), (2727, 0.006410726826351153), (2728, 0.0), (2729, 0.014148222916237562), (2730, 0.0), (2731, 0.0), (2732, 0.0), (2733, 0.005920719794049739), (2734, 0.0), (2735, 0.0), (2736, 0.00507511144761442), (2737, 0.0), (2738, 0.0), (2739, 0.0), (2740, 0.016983076257994275), (2741, 0.006790517617663897), (2742, 0.010259212038223126), (2743, 0.0), (2744, 0.0), (2745, 0.0), (2746, 0.0), (2747, 0.0), (2748, 0.0), (2749, 0.012069328379110697), (2750, 0.0), (2751, 0.010478466558558056), (2752, 0.0), (2753, 0.0), (2754, 0.0059966307188525), (2755, 0.007974755033321389), (2756, 0.0), (2757, 0.0), (2758, 0.0), (2759, 0.0051936156988895065), (2760, 0.0), (2761, 0.0), (2762, 0.0), (2763, 0.007365277042001491), (2764, 0.0), (2765, 0.0), (2766, 0.0), (2767, 0.0044624272159244135), (2768, 0.01570716757055706), (2769, 0.0), (2770, 0.0), (2771, 0.004522645812951234), (2772, 0.006775529573284735), (2773, 0.0), (2774, 0.01059705079834045), (2775, 0.0), (2776, 0.0), (2777, 0.005292490993845378), (2778, 0.013361107269311846), (2779, 0.0), (2780, 0.011441166591547439), (2781, 0.0), (2782, 0.0), (2783, 0.0), (2784, 0.005447852527201996), (2785, 0.0), (2786, 0.0), (2787, 0.010507043855225495), (2788, 0.03989390083074308), (2789, 0.004430366639898749), (2790, 0.005604040603356939), (2791, 0.010133802033014026), (2792, 0.0), (2793, 0.0), (2794, 0.0), (2795, 0.013954429005815023), (2796, 0.0), (2797, 0.0), (2798, 0.0), (2799, 0.0), (2800, 0.047686020521469676), (2801, 0.004572192028733984), (2802, 0.0), (2803, 0.01691906460995609), (2804, 0.007544069345115194), (2805, 0.0), (2806, 0.008352333519798812), (2807, 0.0), (2808, 0.005164653516173321), (2809, 0.0), (2810, 0.006410421561599806), (2811, 0.006263705860643048), (2812, 0.0), (2813, 0.0), (2814, 0.0), (2815, 0.005753547316767784), (2816, 0.0), (2817, 0.0), (2818, 0.0), (2819, 0.0117054784558792), (2820, 0.009664868850226252), (2821, 0.0), (2822, 0.011445069188423153), (2823, 0.0), (2824, 0.0), (2825, 0.005650472048956407), (2826, 0.013332370013173904), (2827, 0.0), (2828, 0.0), (2829, 0.0), (2830, 0.008393521374215646), (2831, 0.0), (2832, 0.0), (2833, 0.0), (2834, 0.0), (2835, 0.0), (2836, 0.0), (2837, 0.0), (2838, 0.0), (2839, 0.0), (2840, 0.01232400222268662), (2841, 0.0), (2842, 0.048583590041970166), (2843, 0.023101361813480107), (2844, 0.0047240350328049486), (2845, 0.0), (2846, 0.0), (2847, 0.018355703694886073), (2848, 0.0), (2849, 0.0), (2850, 0.013180465085292244), (2851, 0.0), (2852, 0.0), (2853, 0.0), (2854, 0.012271839721644216), (2855, 0.0), (2856, 0.0), (2857, 0.0), (2858, 0.0), (2859, 0.0), (2860, 0.014388260054337116), (2861, 0.0), (2862, 0.005330547055149116), (2863, 0.0), (2864, 0.006501675891316344), (2865, 0.0), (2866, 0.0), (2867, 0.005881523538028099), (2868, 0.0), (2869, 0.0), (2870, 0.0), (2871, 0.004739242533499495), (2872, 0.0), (2873, 0.0), (2874, 0.0), (2875, 0.0), (2876, 0.0), (2877, 0.0), (2878, 0.0), (2879, 0.006491089498516061), (2880, 0.006164692183639647), (2881, 0.012514586454363652), (2882, 0.0), (2883, 0.0), (2884, 0.0), (2885, 0.00536214550481876), (2886, 0.0), (2887, 0.007641775056473123), (2888, 0.014365384838481023), (2889, 0.0), (2890, 0.0), (2891, 0.0), (2892, 0.0), (2893, 0.0), (2894, 0.0), (2895, 0.015873694078095937), (2896, 0.0), (2897, 0.0), (2898, 0.014451772726308546), (2899, 0.010387236114202647), (2900, 0.0), (2901, 0.0), (2902, 0.0), (2903, 0.012391572558148803), (2904, 0.0), (2905, 0.0), (2906, 0.0), (2907, 0.0), (2908, 0.008879656622820125), (2909, 0.0), (2910, 0.010811300276273325), (2911, 0.03378713773577642), (2912, 0.0), (2913, 0.0046915139502622365), (2914, 0.0), (2915, 0.0), (2916, 0.0), (2917, 0.004198198903190734), (2918, 0.010645599820089068), (2919, 0.005506150444952168), (2920, 0.0069004296812188734), (2921, 0.0), (2922, 0.007782635453672694), (2923, 0.0), (2924, 0.0), (2925, 0.004279421097345938), (2926, 0.0), (2927, 0.009139233963942013), (2928, 0.0), (2929, 0.004753687997005877), (2930, 0.0), (2931, 0.0), (2932, 0.0070470932634051926), (2933, 0.0), (2934, 0.0), (2935, 0.005079915386894225), (2936, 0.0), (2937, 0.01904304726393894), (2938, 0.0), (2939, 0.006638352547841691), (2940, 0.01417448473964296), (2941, 0.0), (2942, 0.0), (2943, 0.005699237619545997), (2944, 0.01924347754007952), (2945, 0.0), (2946, 0.13516386109638287), (2947, 0.011325457363152285), (2948, 0.0074486414153389835), (2949, 0.005694964295778292), (2950, 0.012602517034824005), (2951, 0.0), (2952, 0.0), (2953, 0.0), (2954, 0.0), (2955, 0.04227455060585014), (2956, 0.008441377160110414), (2957, 0.0), (2958, 0.0053287005876572775), (2959, 0.011632364179659124), (2960, 0.018962051810878393), (2961, 0.0052464007311433065), (2962, 0.00544297668794762), (2963, 0.06568947912991357), (2964, 0.0), (2965, 0.0), (2966, 0.0), (2967, 0.0), (2968, 0.0), (2969, 0.004743932405852529), (2970, 0.0), (2971, 0.004976848832084012), (2972, 0.0), (2973, 0.0), (2974, 0.0), (2975, 0.04434255514314327), (2976, 0.0), (2977, 0.0), (2978, 0.005795539982588559), (2979, 0.03678265104900934), (2980, 0.0), (2981, 0.004553111875677987), (2982, 0.0), (2983, 0.0), (2984, 0.004893418302177564), (2985, 0.0), (2986, 0.0), (2987, 0.0), (2988, 0.005497265688851365), (2989, 0.007970036803894286), (2990, 0.007699844638549571), (2991, 0.005400959844779373), (2992, 0.010302895940865028), (2993, 0.0), (2994, 0.0), (2995, 0.0), (2996, 0.005865620951810554), (2997, 0.0), (2998, 0.019909053733329657), (2999, 0.0), (3000, 0.0), (3001, 0.0), (3002, 0.005780288464120072), (3003, 0.0), (3004, 0.0), (3005, 0.005387115838295868), (3006, 0.0), (3007, 0.0), (3008, 0.0), (3009, 0.0), (3010, 0.0), (3011, 0.005146866163095474), (3012, 0.005975714043257466), (3013, 0.0), (3014, 0.0), (3015, 0.0), (3016, 0.0), (3017, 0.0), (3018, 0.0), (3019, 0.0062047659728963886), (3020, 0.0), (3021, 0.0), (3022, 0.01285493577133233), (3023, 0.0), (3024, 0.04648445299077632), (3025, 0.0), (3026, 0.0), (3027, 0.0), (3028, 0.0), (3029, 0.0), (3030, 0.0), (3031, 0.0), (3032, 0.00596598437016525), (3033, 0.0), (3034, 0.0), (3035, 0.005074100352862479), (3036, 0.0), (3037, 0.0), (3038, 0.0), (3039, 0.0), (3040, 0.0), (3041, 0.0), (3042, 0.0), (3043, 0.006033756584373125), (3044, 0.006234833688184402), (3045, 0.009124991166298738), (3046, 0.0), (3047, 0.0), (3048, 0.0), (3049, 0.006617888068082793), (3050, 0.0), (3051, 0.0), (3052, 0.0), (3053, 0.0), (3054, 0.0), (3055, 0.0), (3056, 0.0), (3057, 0.0), (3058, 0.007474197227072266), (3059, 0.006127601083062132), (3060, 0.0), (3061, 0.0), (3062, 0.014702573452841835), (3063, 0.0), (3064, 0.0062238239026270814), (3065, 0.015791561104421814), (3066, 0.0), (3067, 0.0), (3068, 0.0), (3069, 0.0), (3070, 0.009870499907898504), (3071, 0.0), (3072, 0.0), (3073, 0.0), (3074, 0.0), (3075, 0.0), (3076, 0.0), (3077, 0.0), (3078, 0.0), (3079, 0.004912133066686444), (3080, 0.0), (3081, 0.0), (3082, 0.0), (3083, 0.0), (3084, 0.0), (3085, 0.010555995784369356), (3086, 0.005757804226410579), (3087, 0.0), (3088, 0.0), (3089, 0.0), (3090, 0.0), (3091, 0.006312564084839591), (3092, 0.0), (3093, 0.0), (3094, 0.0), (3095, 0.005722249603831203), (3096, 0.011527873459175617), (3097, 0.006307080535445891), (3098, 0.0), (3099, 0.016536713562691926), (3100, 0.01736647622814776), (3101, 0.0), (3102, 0.0), (3103, 0.0), (3104, 0.0), (3105, 0.007201593298720716), (3106, 0.0), (3107, 0.0), (3108, 0.004783779771957218), (3109, 0.0), (3110, 0.005995916773252329), (3111, 0.0), (3112, 0.011881944058766102), (3113, 0.0), (3114, 0.012259717516768794), (3115, 0.008904302213842145), (3116, 0.0), (3117, 0.0061102440789589174), (3118, 0.004946171669073145), (3119, 0.0), (3120, 0.0), (3121, 0.00704324309363439), (3122, 0.005084641139695648), (3123, 0.0065012687571497285), (3124, 0.05300727171690936), (3125, 0.00535630829080342), (3126, 0.010582011568944644), (3127, 0.0), (3128, 0.0), (3129, 0.01597303373734421), (3130, 0.0052180639497996645), (3131, 0.019890495211545234), (3132, 0.014060150741871941), (3133, 0.017474860567949498), (3134, 0.019404232484613815), (3135, 0.01741310749325632), (3136, 0.01733984527467397), (3137, 0.0), (3138, 0.0), (3139, 0.0), (3140, 0.0), (3141, 0.007265972675672129), (3142, 0.0), (3143, 0.010262422946477431), (3144, 0.0), (3145, 0.0), (3146, 0.0), (3147, 0.0), (3148, 0.0), (3149, 0.0), (3150, 0.0), (3151, 0.0), (3152, 0.005885218797065211), (3153, 0.005488487536798691), (3154, 0.006523602634138374), (3155, 0.0), (3156, 0.017906453813315137), (3157, 0.0), (3158, 0.0059738734284465415), (3159, 0.0), (3160, 0.004681811692547216), (3161, 0.01090079006697159), (3162, 0.0), (3163, 0.02023568051890462), (3164, 0.0), (3165, 0.006569621755236738), (3166, 0.0), (3167, 0.0), (3168, 0.012442417616358866), (3169, 0.005863707209536292), (3170, 0.0), (3171, 0.0), (3172, 0.015441792534524528), (3173, 0.0), (3174, 0.005704524349434647), (3175, 0.0), (3176, 0.0), (3177, 0.0), (3178, 0.0), (3179, 0.0054730062652913), (3180, 0.005929808417282617), (3181, 0.006232844647089482), (3182, 0.0), (3183, 0.0), (3184, 0.0), (3185, 0.016766480776955965), (3186, 0.0), (3187, 0.0), (3188, 0.0), (3189, 0.0), (3190, 0.0), (3191, 0.011375741517896797), (3192, 0.03740193104072603), (3193, 0.012457576713823828), (3194, 0.0), (3195, 0.005245207961701309), (3196, 0.005976780100040843), (3197, 0.0), (3198, 0.0), (3199, 0.0), (3200, 0.0), (3201, 0.0), (3202, 0.014418738693685991), (3203, 0.0), (3204, 0.0), (3205, 0.03401269490737199), (3206, 0.01604513528643652), (3207, 0.0), (3208, 0.007927969219952449), (3209, 0.0), (3210, 0.011145785235246116), (3211, 0.0), (3212, 0.0), (3213, 0.00926247725425049), (3214, 0.0), (3215, 0.01554837432430135), (3216, 0.0), (3217, 0.0), (3218, 0.0), (3219, 0.0), (3220, 0.0), (3221, 0.006397352446864174), (3222, 0.0), (3223, 0.008688052952133726), (3224, 0.0), (3225, 0.005861345157556107), (3226, 0.0), (3227, 0.011141346988430112), (3228, 0.006468324928986925), (3229, 0.0), (3230, 0.0), (3231, 0.006753581672156303), (3232, 0.01625494549819524), (3233, 0.00548326739167696), (3234, 0.0), (3235, 0.0), (3236, 0.0), (3237, 0.0), (3238, 0.0), (3239, 0.0), (3240, 0.0), (3241, 0.005967224480538663), (3242, 0.0), (3243, 0.0), (3244, 0.0), (3245, 0.0), (3246, 0.0), (3247, 0.00999365211976989), (3248, 0.0), (3249, 0.0), (3250, 0.0), (3251, 0.0), (3252, 0.04205695421756765), (3253, 0.006504444784633385), (3254, 0.0), (3255, 0.0), (3256, 0.0), (3257, 0.0), (3258, 0.0), (3259, 0.006032199682146497), (3260, 0.0), (3261, 0.0), (3262, 0.0), (3263, 0.012037771679942747), (3264, 0.0), (3265, 0.0), (3266, 0.0), (3267, 0.005189996592243853), (3268, 0.0), (3269, 0.0), (3270, 0.005682603372440926), (3271, 0.0), (3272, 0.040717131365329014), (3273, 0.0), (3274, 0.0), (3275, 0.012914943766297891), (3276, 0.02001885258328974), (3277, 0.0), (3278, 0.0), (3279, 0.004567193302969009), (3280, 0.0), (3281, 0.0), (3282, 0.0), (3283, 0.0), (3284, 0.004881547961593199), (3285, 0.0), (3286, 0.007322145649408359), (3287, 0.007796571293122887), (3288, 0.0), (3289, 0.0), (3290, 0.0), (3291, 0.0), (3292, 0.0), (3293, 0.0), (3294, 0.0), (3295, 0.0), (3296, 0.0), (3297, 0.05970900294486315), (3298, 0.0), (3299, 0.0), (3300, 0.030508214233805855), (3301, 0.0), (3302, 0.0), (3303, 0.005423990393740989), (3304, 0.0), (3305, 0.0), (3306, 0.005243802004328484), (3307, 0.0), (3308, 0.0), (3309, 0.0), (3310, 0.005966957418259511), (3311, 0.00517403143871861), (3312, 0.012834084362791164), (3313, 0.0), (3314, 0.0), (3315, 0.0), (3316, 0.0), (3317, 0.0043655411115977195), (3318, 0.004803734305859733), (3319, 0.0), (3320, 0.0), (3321, 0.0), (3322, 0.0), (3323, 0.03328524200615665), (3324, 0.0), (3325, 0.009522829675728402), (3326, 0.0), (3327, 0.006764699592063876), (3328, 0.008716638831244685), (3329, 0.0), (3330, 0.005311829825820368), (3331, 0.004443023011372071), (3332, 0.005788290285466792), (3333, 0.0), (3334, 0.005607881074615866), (3335, 0.0), (3336, 0.00514826436575457), (3337, 0.0), (3338, 0.004965690404908099), (3339, 0.05294546197685519), (3340, 0.005669896343343873), (3341, 0.0), (3342, 0.018955635563369325), (3343, 0.005714009377138489), (3344, 0.004526553326166462), (3345, 0.05892549676630208), (3346, 0.007521714506481552), (3347, 0.0), (3348, 0.0), (3349, 0.00552975444529945), (3350, 0.0), (3351, 0.0), (3352, 0.0), (3353, 0.0), (3354, 0.0), (3355, 0.0), (3356, 0.0), (3357, 0.0), (3358, 0.0), (3359, 0.0), (3360, 0.013398288933707897), (3361, 0.01759915160848099), (3362, 0.0), (3363, 0.0), (3364, 0.0), (3365, 0.039627421318998234), (3366, 0.0072836929788871645), (3367, 0.01862078166431291), (3368, 0.005584342969033132), (3369, 0.0), (3370, 0.00517364541314981), (3371, 0.0), (3372, 0.0), (3373, 0.006437748026232141), (3374, 0.010966032999353486), (3375, 0.0), (3376, 0.0), (3377, 0.015062148014339496), (3378, 0.0), (3379, 0.0), (3380, 0.0), (3381, 0.0), (3382, 0.0), (3383, 0.006476584895070567), (3384, 0.012954414666127208), (3385, 0.005973723672098495), (3386, 0.0), (3387, 0.014214069253687537), (3388, 0.0), (3389, 0.0), (3390, 0.0), (3391, 0.0), (3392, 0.0), (3393, 0.0), (3394, 0.006577166931298152), (3395, 0.0069282029165868815), (3396, 0.0), (3397, 0.006768276461589169), (3398, 0.005497044709248899), (3399, 0.0), (3400, 0.0), (3401, 0.0), (3402, 0.0), (3403, 0.00466966143979988), (3404, 0.05194541115505224), (3405, 0.01580162548012656), (3406, 0.0), (3407, 0.0), (3408, 0.0), (3409, 0.0), (3410, 0.0), (3411, 0.0), (3412, 0.0), (3413, 0.0), (3414, 0.0), (3415, 0.0), (3416, 0.011039435195611597), (3417, 0.0), (3418, 0.0), (3419, 0.015304258304433844), (3420, 0.0), (3421, 0.0), (3422, 0.0), (3423, 0.0), (3424, 0.006266751933692825), (3425, 0.0), (3426, 0.011973816594929123), (3427, 0.013311649461487069), (3428, 0.0), (3429, 0.007512769755244333), (3430, 0.0), (3431, 0.0), (3432, 0.010968832867468522), (3433, 0.005018671806364429), (3434, 0.0), (3435, 0.005278176273390729), (3436, 0.005364250254125557), (3437, 0.005579788648033862), (3438, 0.01984760084143713), (3439, 0.009782031934805225), (3440, 0.01283847831775764), (3441, 0.005672815686641866), (3442, 0.0), (3443, 0.010898891443230377), (3444, 0.039327921841365604), (3445, 0.005857803383374181), (3446, 0.005473851726785191), (3447, 0.0), (3448, 0.022553277550403546), (3449, 0.0), (3450, 0.05053713382609211), (3451, 0.06594238145970235), (3452, 0.004970098832000046), (3453, 0.006291244454641494), (3454, 0.012972367352037537), (3455, 0.0463441234287782), (3456, 0.003640213053957379), (3457, 0.0), (3458, 0.0), (3459, 0.005197345573257598), (3460, 0.004901195963702674), (3461, 0.008039027111820226), (3462, 0.0), (3463, 0.013680105879232397), (3464, 0.006061969540751332), (3465, 0.010495518517349495), (3466, 0.010402346327319994), (3467, 0.01343107661075043), (3468, 0.011908857550356826), (3469, 0.014851285135504249), (3470, 0.0059826284335244544), (3471, 0.004237887915711001), (3472, 0.0072464015706749044), (3473, 0.0), (3474, 0.004843179846659763), (3475, 0.0), (3476, 0.0), (3477, 0.0), (3478, 0.0), (3479, 0.0), (3480, 0.0), (3481, 0.0), (3482, 0.007587936585287309), (3483, 0.005643318850288806), (3484, 0.004432561121966746), (3485, 0.0), (3486, 0.01898248668814791), (3487, 0.005124601732809826), (3488, 0.005556648287702749), (3489, 0.0), (3490, 0.0), (3491, 0.0), (3492, 0.007532482615624523), (3493, 0.0), (3494, 0.0), (3495, 0.004739495565308863), (3496, 0.0), (3497, 0.0), (3498, 0.005092576942252737), (3499, 0.00523610749523212), (3500, 0.0), (3501, 0.0054178840524789764), (3502, 0.006451339872167862), (3503, 0.0), (3504, 0.0051051757336117885), (3505, 0.0), (3506, 0.0), (3507, 0.01145470184181063), (3508, 0.0), (3509, 0.0), (3510, 0.0), (3511, 0.0), (3512, 0.0), (3513, 0.011577138745619834), (3514, 0.011535591522369586), (3515, 0.0), (3516, 0.012017402538746695), (3517, 0.0), (3518, 0.0), (3519, 0.0), (3520, 0.05168509058510234), (3521, 0.006566284754401232), (3522, 0.005853969227650307), (3523, 0.0), (3524, 0.0), (3525, 0.004972651627301015), (3526, 0.0), (3527, 0.0), (3528, 0.005268936350984087), (3529, 0.035673286772883714), (3530, 0.0), (3531, 0.005547788043890318), (3532, 0.047663587875860336), (3533, 0.0), (3534, 0.0), (3535, 0.006311400798627091), (3536, 0.0), (3537, 0.0), (3538, 0.0), (3539, 0.029975974906881375), (3540, 0.0), (3541, 0.0), (3542, 0.0), (3543, 0.0), (3544, 0.0), (3545, 0.0), (3546, 0.005626733141921221), (3547, 0.0), (3548, 0.0), (3549, 0.0), (3550, 0.0), (3551, 0.0), (3552, 0.0), (3553, 0.005282498274550488), (3554, 0.006923947135419592), (3555, 0.04528847972801531), (3556, 0.009879947155153335), (3557, 0.0), (3558, 0.0), (3559, 0.0), (3560, 0.01490058732597229), (3561, 0.0), (3562, 0.027101384372506514), (3563, 0.0), (3564, 0.0), (3565, 0.0), (3566, 0.007084229985683335), (3567, 0.007225699058011267), (3568, 0.01271830438240664), (3569, 0.0), (3570, 0.0), (3571, 0.005450218202375024), (3572, 0.0), (3573, 0.0), (3574, 0.011584527031665808), (3575, 0.0), (3576, 0.005413357679136941), (3577, 0.0), (3578, 0.01903826671671093), (3579, 0.0), (3580, 0.0), (3581, 0.0), (3582, 0.017910158386608508), (3583, 0.005175356251717932), (3584, 0.005724201191814557), (3585, 0.0), (3586, 0.014272047915182974), (3587, 0.008495570477568243), (3588, 0.013576236629433483), (3589, 0.0), (3590, 0.0), (3591, 0.005969687460292223), (3592, 0.0), (3593, 0.006385011749280016), (3594, 0.0), (3595, 0.005472512175459069), (3596, 0.0), (3597, 0.0135723064132929), (3598, 0.006676150829668002), (3599, 0.0), (3600, 0.011958232381785163), (3601, 0.0), (3602, 0.010864809918850044), (3603, 0.0058289572740489555), (3604, 0.012136574474159893), (3605, 0.010563312853609346), (3606, 0.0), (3607, 0.0), (3608, 0.0), (3609, 0.005378267239579169), (3610, 0.0), (3611, 0.0), (3612, 0.0), (3613, 0.0), (3614, 0.0), (3615, 0.0), (3616, 0.0), (3617, 0.0), (3618, 0.005649710025652513), (3619, 0.0046762936145633175), (3620, 0.0), (3621, 0.0), (3622, 0.0), (3623, 0.011398774752814356), (3624, 0.005280591426472953), (3625, 0.0), (3626, 0.0), (3627, 0.0), (3628, 0.014501965341129675), (3629, 0.01295393724410848), (3630, 0.017955378324895195), (3631, 0.0), (3632, 0.0), (3633, 0.0), (3634, 0.0), (3635, 0.025135911997527446), (3636, 0.0), (3637, 0.009663227636879925), (3638, 0.01604814248662025), (3639, 0.0), (3640, 0.005944163880739353), (3641, 0.038636992638220305), (3642, 0.011982261206451208), (3643, 0.0), (3644, 0.0), (3645, 0.004311258200738242), (3646, 0.0), (3647, 0.0), (3648, 0.0), (3649, 0.0), (3650, 0.0), (3651, 0.0), (3652, 0.005889331289379401), (3653, 0.005433204169735403), (3654, 0.0), (3655, 0.0), (3656, 0.0), (3657, 0.011191229366748691), (3658, 0.004806385273066832), (3659, 0.005809068500128557), (3660, 0.010655682869673094), (3661, 0.006078820126093771), (3662, 0.0), (3663, 0.0), (3664, 0.005123247175983943), (3665, 0.0), (3666, 0.00553418552800634), (3667, 0.0), (3668, 0.004841353691671392), (3669, 0.0), (3670, 0.0053755480242725475), (3671, 0.0), (3672, 0.0), (3673, 0.0), (3674, 0.004499174404295525), (3675, 0.006353567663131124), (3676, 0.0057801596199522545), (3677, 0.0), (3678, 0.0), (3679, 0.011201648752681733), (3680, 0.012495138428399635), (3681, 0.0), (3682, 0.0), (3683, 0.0), (3684, 0.009589647481928264), (3685, 0.0073987606132251), (3686, 0.0), (3687, 0.0), (3688, 0.0), (3689, 0.0), (3690, 0.013552655823199145), (3691, 0.0), (3692, 0.011897357061354277), (3693, 0.011314992508881301), (3694, 0.005768265257807564), (3695, 0.008249159046861543), (3696, 0.005140109874390333), (3697, 0.014609830814505086), (3698, 0.005680851673939416), (3699, 0.005444018805414845), (3700, 0.012596552633133862), (3701, 0.0), (3702, 0.0), (3703, 0.008537388989958839), (3704, 0.00575986137584226), (3705, 0.004823014623005229), (3706, 0.005582114552531109), (3707, 0.005821451181501652), (3708, 0.012758116052619142), (3709, 0.007350772845136369), (3710, 0.011747186245332147), (3711, 0.004910786867694401), (3712, 0.0), (3713, 0.004443857701804906), (3714, 0.0), (3715, 0.014258474804379667), (3716, 0.0), (3717, 0.0), (3718, 0.006993309542506523), (3719, 0.0), (3720, 0.010663309147266152), (3721, 0.007070669605816368), (3722, 0.028928801523281276), (3723, 0.010428088441190787), (3724, 0.03589860157812569), (3725, 0.0), (3726, 0.006802599060350549), (3727, 0.005284628887574911), (3728, 0.0), (3729, 0.0), (3730, 0.0), (3731, 0.0), (3732, 0.0), (3733, 0.0), (3734, 0.010421862245728733), (3735, 0.008345515099482724), (3736, 0.0), (3737, 0.0), (3738, 0.005231719232040949), (3739, 0.0), (3740, 0.0), (3741, 0.012835363058271869), (3742, 0.017337989606730646), (3743, 0.013721769161830537), (3744, 0.02262619436208903), (3745, 0.0), (3746, 0.027697557127745267), (3747, 0.019636117060582728), (3748, 0.0), (3749, 0.0), (3750, 0.0), (3751, 0.0), (3752, 0.0), (3753, 0.0), (3754, 0.0), (3755, 0.0), (3756, 0.004359821943171094), (3757, 0.0), (3758, 0.0), (3759, 0.0), (3760, 0.0), (3761, 0.0), (3762, 0.0), (3763, 0.0), (3764, 0.0), (3765, 0.0), (3766, 0.00635617102755995), (3767, 0.0), (3768, 0.005727348246569415), (3769, 0.00557290560101719), (3770, 0.0), (3771, 0.01196828840032219), (3772, 0.0), (3773, 0.012970489354196896), (3774, 0.005707441258001304), (3775, 0.004946217717631553), (3776, 0.009463465931718535), (3777, 0.005631483336845793), (3778, 0.0), (3779, 0.0), (3780, 0.005690943583274592), (3781, 0.0), (3782, 0.019914300231432383), (3783, 0.01250782010236852), (3784, 0.0), (3785, 0.006665678141051214), (3786, 0.01272435554749524), (3787, 0.02035379225968463), (3788, 0.004982260450112209), (3789, 0.0), (3790, 0.0), (3791, 0.0), (3792, 0.0), (3793, 0.032900328186655954), (3794, 0.010465885646855518), (3795, 0.011862834425600832), (3796, 0.0), (3797, 0.005898131004089768), (3798, 0.013755846124813998), (3799, 0.0), (3800, 0.0), (3801, 0.004775293130120894), (3802, 0.01209929115031527), (3803, 0.006598493858273561), (3804, 0.0), (3805, 0.007519829451219613), (3806, 0.004496501395250349), (3807, 0.010991839259760274), (3808, 0.0), (3809, 0.0), (3810, 0.005431165232832588), (3811, 0.0), (3812, 0.0), (3813, 0.0), (3814, 0.010868530562705984), (3815, 0.005434073314619271), (3816, 0.0), (3817, 0.016779037487561817), (3818, 0.0), (3819, 0.005032506407594367), (3820, 0.0), (3821, 0.0), (3822, 0.0), (3823, 0.005011390577646758), (3824, 0.005087146622958183), (3825, 0.0), (3826, 0.007250460621102805), (3827, 0.0), (3828, 0.0067408180413551025), (3829, 0.0), (3830, 0.0), (3831, 0.0), (3832, 0.0), (3833, 0.005412821280030377), (3834, 0.014189378580336132), (3835, 0.0), (3836, 0.0), (3837, 0.0), (3838, 0.0), (3839, 0.0), (3840, 0.01359482979257084), (3841, 0.0047798424516356805), (3842, 0.0), (3843, 0.0), (3844, 0.0066791035754898), (3845, 0.0), (3846, 0.014132193722147385), (3847, 0.0), (3848, 0.0), (3849, 0.01930999729387392), (3850, 0.011808717562789846), (3851, 0.0), (3852, 0.004644143935138849), (3853, 0.00503272905727797), (3854, 0.0049288867121773565), (3855, 0.0), (3856, 0.0), (3857, 0.0), (3858, 0.0), (3859, 0.0), (3860, 0.010018522181382505), (3861, 0.0), (3862, 0.011540333784723841), (3863, 0.0), (3864, 0.0), (3865, 0.006725819846058029), (3866, 0.0), (3867, 0.0), (3868, 0.0), (3869, 0.014537439660204375), (3870, 0.04327906707457911), (3871, 0.007871551700161036), (3872, 0.0), (3873, 0.0), (3874, 0.0), (3875, 0.0), (3876, 0.004892573803770729), (3877, 0.008396945466308743), (3878, 0.0), (3879, 0.0), (3880, 0.0), (3881, 0.005082865806234106), (3882, 0.0), (3883, 0.006075560486349124), (3884, 0.0), (3885, 0.0), (3886, 0.0051187471952405085), (3887, 0.0), (3888, 0.0), (3889, 0.0), (3890, 0.0), (3891, 0.0), (3892, 0.0), (3893, 0.0), (3894, 0.0), (3895, 0.0), (3896, 0.0), (3897, 0.0056510958004673045), (3898, 0.0), (3899, 0.0), (3900, 0.0), (3901, 0.006427959815677391), (3902, 0.0), (3903, 0.008638466318864262), (3904, 0.0), (3905, 0.0), (3906, 0.0), (3907, 0.019288624489304705), (3908, 0.011195168571354365), (3909, 0.0), (3910, 0.00467938238275662), (3911, 0.0), (3912, 0.0), (3913, 0.0), (3914, 0.0), (3915, 0.0), (3916, 0.0), (3917, 0.012756952097172685), (3918, 0.0), (3919, 0.0), (3920, 0.03362660430985498), (3921, 0.0), (3922, 0.0), (3923, 0.012185281340914681), (3924, 0.0), (3925, 0.0), (3926, 0.02818154623602713), (3927, 0.0), (3928, 0.0), (3929, 0.0), (3930, 0.0), (3931, 0.0), (3932, 0.0), (3933, 0.0), (3934, 0.0), (3935, 0.0), (3936, 0.0), (3937, 0.04085672312325957), (3938, 0.005779041836670988), (3939, 0.0), (3940, 0.0), (3941, 0.0), (3942, 0.006501689011603063), (3943, 0.0), (3944, 0.004296447832399759), (3945, 0.0), (3946, 0.008568987095614083), (3947, 0.012769179550600996), (3948, 0.0), (3949, 0.0), (3950, 0.0), (3951, 0.0), (3952, 0.0), (3953, 0.005204206511251449), (3954, 0.0), (3955, 0.005707974034445622), (3956, 0.0), (3957, 0.0043932310334447375), (3958, 0.004905053136722497), (3959, 0.011040909330168817), (3960, 0.006042542724783868), (3961, 0.005882991849178109), (3962, 0.0), (3963, 0.01316228782903303), (3964, 0.0), (3965, 0.012665351489809046), (3966, 0.004970940119860932), (3967, 0.0), (3968, 0.04347309539471307), (3969, 0.029558204787794796), (3970, 0.005097724230181805), (3971, 0.0), (3972, 0.01518939025640102), (3973, 0.0), (3974, 0.004797296051297247), (3975, 0.006947306953330846), (3976, 0.0), (3977, 0.014322917659467374), (3978, 0.010539506070664308), (3979, 0.043952302393387974), (3980, 0.01063878632076802), (3981, 0.0), (3982, 0.013258232369067896), (3983, 0.0), (3984, 0.0), (3985, 0.0), (3986, 0.0), (3987, 0.0), (3988, 0.0), (3989, 0.004293855567141934), (3990, 0.0), (3991, 0.007112305774293336), (3992, 0.0), (3993, 0.010209212499631103), (3994, 0.0), (3995, 0.005525950988329442), (3996, 0.0), (3997, 0.011763511497180953), (3998, 0.005510483445009591), (3999, 0.0), (4000, 0.005286781645153994), (4001, 0.0057294236477484425), (4002, 0.0), (4003, 0.0), (4004, 0.00540533387158547), (4005, 0.011807021196496436), (4006, 0.0), (4007, 0.0), (4008, 0.0), (4009, 0.006968472882646314), (4010, 0.0), (4011, 0.0), (4012, 0.005398268484497741), (4013, 0.005802920699922446), (4014, 0.0), (4015, 0.00471828113841095), (4016, 0.007520998949267239), (4017, 0.0), (4018, 0.0), (4019, 0.0), (4020, 0.005611378258609274), (4021, 0.0), (4022, 0.0), (4023, 0.0), (4024, 0.0), (4025, 0.0), (4026, 0.0), (4027, 0.0), (4028, 0.0), (4029, 0.0), (4030, 0.0), (4031, 0.008816194916394076), (4032, 0.0), (4033, 0.00603421367154242), (4034, 0.008366978252786393), (4035, 0.0), (4036, 0.0073689810325253), (4037, 0.005418469862298045), (4038, 0.011813139747542944), (4039, 0.010771437439898272), (4040, 0.0), (4041, 0.013413340070212703), (4042, 0.0), (4043, 0.005940879573820933), (4044, 0.010025914455453786), (4045, 0.006042739415296016), (4046, 0.012113542107576071), (4047, 0.0067367820828787344), (4048, 0.0), (4049, 0.051224715192014915), (4050, 0.005887818709159023), (4051, 0.0), (4052, 0.0), (4053, 0.0), (4054, 0.0), (4055, 0.011961389894245953), (4056, 0.01318989695888588), (4057, 0.0), (4058, 0.0), (4059, 0.0), (4060, 0.0), (4061, 0.0), (4062, 0.0), (4063, 0.0), (4064, 0.0), (4065, 0.0), (4066, 0.0), (4067, 0.0), (4068, 0.011225765762859349), (4069, 0.0), (4070, 0.013263998247067038), (4071, 0.0050431024017106914), (4072, 0.0), (4073, 0.0), (4074, 0.006787056810657852), (4075, 0.0), (4076, 0.044178339237060715), (4077, 0.014612391640731057), (4078, 0.0), (4079, 0.0), (4080, 0.0), (4081, 0.0), (4082, 0.0), (4083, 0.0), (4084, 0.0), (4085, 0.0), (4086, 0.008161020106998583), (4087, 0.0), (4088, 0.06304849381868628), (4089, 0.00554969609286436), (4090, 0.03606210597539247), (4091, 0.020428003581133967), (4092, 0.0060317351000937144), (4093, 0.005850916640556615), (4094, 0.012259835429071974), (4095, 0.009377471302888813), (4096, 0.00461759744335297), (4097, 0.0), (4098, 0.011326510849114024), (4099, 0.013258054638196019), (4100, 0.005974875192935614), (4101, 0.0), (4102, 0.0), (4103, 0.0469807343232414), (4104, 0.044738766750795314), (4105, 0.0), (4106, 0.004771864909208435), (4107, 0.0), (4108, 0.0), (4109, 0.0), (4110, 0.0), (4111, 0.0), (4112, 0.012944522241503142), (4113, 0.0), (4114, 0.004964137798399584), (4115, 0.0), (4116, 0.012046766132006202), (4117, 0.0), (4118, 0.008132863927385551), (4119, 0.01228122750536348), (4120, 0.005941154868251718), (4121, 0.012567654446376985), (4122, 0.007103573273836484), (4123, 0.005627773575828828), (4124, 0.0050433484163907765), (4125, 0.0), (4126, 0.0), (4127, 0.0), (4128, 0.013213130073518861), (4129, 0.0), (4130, 0.014494798497392648), (4131, 0.006120909537675335), (4132, 0.0), (4133, 0.005811751961016086), (4134, 0.007314588974795774), (4135, 0.0), (4136, 0.0), (4137, 0.0), (4138, 0.0), (4139, 0.0), (4140, 0.0), (4141, 0.0), (4142, 0.016954949197227592), (4143, 0.005141482527450936), (4144, 0.0063412464259984536), (4145, 0.0), (4146, 0.0), (4147, 0.0), (4148, 0.011006538383421235), (4149, 0.0), (4150, 0.0), (4151, 0.0), (4152, 0.007195452450505541), (4153, 0.01208500407576465), (4154, 0.004816239737039487), (4155, 0.0), (4156, 0.0), (4157, 0.0), (4158, 0.004576478753476579), (4159, 0.0), (4160, 0.008455739948022525), (4161, 0.0), (4162, 0.006134748538644263), (4163, 0.006179490348124402), (4164, 0.004867596133482561), (4165, 0.004915219666188054), (4166, 0.0), (4167, 0.0), (4168, 0.0077132406954395615), (4169, 0.0), (4170, 0.0), (4171, 0.0), (4172, 0.0), (4173, 0.0), (4174, 0.0), (4175, 0.0), (4176, 0.004900989538609944), (4177, 0.0), (4178, 0.005596584992644413), (4179, 0.0), (4180, 0.0), (4181, 0.014617871545690657), (4182, 0.0), (4183, 0.0), (4184, 0.0), (4185, 0.006414137831347181), (4186, 0.005235872314418903), (4187, 0.0), (4188, 0.013176644767113641), (4189, 0.005451975123219959), (4190, 0.0), (4191, 0.0), (4192, 0.0), (4193, 0.016907450078268996), (4194, 0.009237246298724308), (4195, 0.03565641715949205), (4196, 0.016423776333597616), (4197, 0.0), (4198, 0.0), (4199, 0.01645185215415281), (4200, 0.0), (4201, 0.0), (4202, 0.007997906437363695), (4203, 0.0), (4204, 0.0), (4205, 0.0), (4206, 0.0), (4207, 0.0), (4208, 0.006669285553472811), (4209, 0.0), (4210, 0.013451265470655196), (4211, 0.04586928525345049), (4212, 0.0), (4213, 0.0), (4214, 0.0), (4215, 0.0), (4216, 0.005150906027165416), (4217, 0.03135567688257592), (4218, 0.007377058894407474), (4219, 0.0068519714023179525), (4220, 0.044526129383359966), (4221, 0.007647361043491861), (4222, 0.0), (4223, 0.0), (4224, 0.089432116645739), (4225, 0.0), (4226, 0.0), (4227, 0.005883883150602351), (4228, 0.0), (4229, 0.0), (4230, 0.0), (4231, 0.0056856677430056285), (4232, 0.0), (4233, 0.006058164692327106), (4234, 0.0), (4235, 0.004883617774294815), (4236, 0.01226455976431963), (4237, 0.0), (4238, 0.04830792459712009), (4239, 0.0), (4240, 0.005818513266193109), (4241, 0.005656836019185902), (4242, 0.006621578520790661), (4243, 0.0), (4244, 0.01265884147794472), (4245, 0.0), (4246, 0.0), (4247, 0.044361976178601485), (4248, 0.01098434057403393), (4249, 0.011401063930975366), (4250, 0.0), (4251, 0.005464501774220768), (4252, 0.0), (4253, 0.0), (4254, 0.0), (4255, 0.011201402154153273), (4256, 0.0), (4257, 0.0), (4258, 0.0), (4259, 0.0), (4260, 0.0), (4261, 0.004243633676091641), (4262, 0.0), (4263, 0.0), (4264, 0.010888958149082372), (4265, 0.005640785585332792), (4266, 0.0), (4267, 0.0), (4268, 0.0), (4269, 0.008089552305046868), (4270, 0.01407149756431871), (4271, 0.0), (4272, 0.012581081548176696), (4273, 0.0), (4274, 0.010132038482752768), (4275, 0.005526369963927199), (4276, 0.006625169485649686), (4277, 0.0), (4278, 0.0), (4279, 0.0), (4280, 0.0), (4281, 0.006160224972341984), (4282, 0.004906289137140742), (4283, 0.018951175037100174), (4284, 0.005229703865470635), (4285, 0.012967127458830396), (4286, 0.0), (4287, 0.0), (4288, 0.018518351415795165), (4289, 0.04406165479800068), (4290, 0.004810587236213401), (4291, 0.0), (4292, 0.012127491993062265), (4293, 0.006382593201158795), (4294, 0.01358242511485216), (4295, 0.0), (4296, 0.0), (4297, 0.0), (4298, 0.0), (4299, 0.005203187561890805), (4300, 0.007600713266616222), (4301, 0.0), (4302, 0.0), (4303, 0.007242095569681376), (4304, 0.0), (4305, 0.02613843498647261), (4306, 0.0), (4307, 0.00598410019652454), (4308, 0.0), (4309, 0.005202219807793075), (4310, 0.011060970602727201), (4311, 0.0), (4312, 0.011871719608776556), (4313, 0.0), (4314, 0.0), (4315, 0.0), (4316, 0.0), (4317, 0.0), (4318, 0.0), (4319, 0.0), (4320, 0.0), (4321, 0.0), (4322, 0.00488017632293517), (4323, 0.007943897214900941), (4324, 0.0), (4325, 0.010249039319166745), (4326, 0.0), (4327, 0.0), (4328, 0.010322580725383146), (4329, 0.0), (4330, 0.0), (4331, 0.006139567569004265), (4332, 0.0), (4333, 0.0), (4334, 0.0), (4335, 0.0320481271500396), (4336, 0.0), (4337, 0.005918130136951568), (4338, 0.024712388992158), (4339, 0.004868753767869448), (4340, 0.0), (4341, 0.008946155592562694), (4342, 0.0), (4343, 0.0), (4344, 0.004556148034647844), (4345, 0.0054254793606607595), (4346, 0.0), (4347, 0.008070419856884356), (4348, 0.0), (4349, 0.0), (4350, 0.0), (4351, 0.008087762593170478), (4352, 0.0), (4353, 0.004967229717749952), (4354, 0.007889488090959264), (4355, 0.0), (4356, 0.0), (4357, 0.0), (4358, 0.0), (4359, 0.0), (4360, 0.005358416067104528), (4361, 0.0), (4362, 0.005218872670708805), (4363, 0.0), (4364, 0.007548925454878785), (4365, 0.004694673108472969), (4366, 0.004792441510085035), (4367, 0.0), (4368, 0.0), (4369, 0.0), (4370, 0.0), (4371, 0.0), (4372, 0.0), (4373, 0.004305795028958946), (4374, 0.005059423789629347), (4375, 0.005411853912762382), (4376, 0.011328773572300289), (4377, 0.005469899872941771), (4378, 0.029560182406076153), (4379, 0.011448619216086723), (4380, 0.005424203630390533), (4381, 0.0), (4382, 0.0), (4383, 0.005348597367300893), (4384, 0.011703581564890776), (4385, 0.0), (4386, 0.0), (4387, 0.005197127489145998), (4388, 0.028934322941075792), (4389, 0.006038955379769191), (4390, 0.0059437450456284145), (4391, 0.0), (4392, 0.01163539298053946), (4393, 0.006452424872788857), (4394, 0.0), (4395, 0.0), (4396, 0.0), (4397, 0.0), (4398, 0.0), (4399, 0.0), (4400, 0.0), (4401, 0.008426175835998098), (4402, 0.004928467780893616), (4403, 0.006793469156379031), (4404, 0.0), (4405, 0.006854189658373788), (4406, 0.0), (4407, 0.0), (4408, 0.0), (4409, 0.0), (4410, 0.006019394108746621), (4411, 0.0), (4412, 0.006243628086624418), (4413, 0.0), (4414, 0.03825240508750076), (4415, 0.0), (4416, 0.0), (4417, 0.0), (4418, 0.009905030270064803), (4419, 0.013825189233133743), (4420, 0.0), (4421, 0.0), (4422, 0.0), (4423, 0.0), (4424, 0.0), (4425, 0.0), (4426, 0.00459893679427784), (4427, 0.0), (4428, 0.007161293516672718), (4429, 0.004966263953512544), (4430, 0.01156902775197338), (4431, 0.005700092807764131), (4432, 0.009671574037395839), (4433, 0.02935493292848442), (4434, 0.0), (4435, 0.005747082041527183), (4436, 0.011915145205281698), (4437, 0.0), (4438, 0.005109961753093087), (4439, 0.012188540922067781), (4440, 0.007314818468765805), (4441, 0.00506312282213005), (4442, 0.0), (4443, 0.01353621965833437), (4444, 0.014474598533312755), (4445, 0.004293904704285183), (4446, 0.0), (4447, 0.005189284205183638), (4448, 0.0), (4449, 0.0), (4450, 0.00979512050466133), (4451, 0.0), (4452, 0.0), (4453, 0.006386381510095825), (4454, 0.00870079682830087), (4455, 0.009075764839624438), (4456, 0.013657324963231954), (4457, 0.007513964278896531), (4458, 0.0), (4459, 0.0), (4460, 0.0), (4461, 0.0), (4462, 0.012487068652702292), (4463, 0.0), (4464, 0.006777061655872373), (4465, 0.0), (4466, 0.04270132001254018), (4467, 0.03685372621065061), (4468, 0.004653703825325267), (4469, 0.0), (4470, 0.0054951551949274915), (4471, 0.0), (4472, 0.0), (4473, 0.0), (4474, 0.005612041254044432), (4475, 0.004792977822459226), (4476, 0.0), (4477, 0.006682355914696129), (4478, 0.04277158836692953), (4479, 0.0), (4480, 0.0), (4481, 0.0105574684282386), (4482, 0.007480076007118148), (4483, 0.0), (4484, 0.0), (4485, 0.0), (4486, 0.005928654824070608), (4487, 0.0), (4488, 0.004620897654667229), (4489, 0.0), (4490, 0.013104191878457218), (4491, 0.014429672707370434), (4492, 0.008101594132290058), (4493, 0.044833450860062476), (4494, 0.00602132204932711), (4495, 0.0), (4496, 0.0), (4497, 0.0), (4498, 0.0), (4499, 0.0), (4500, 0.0), (4501, 0.007619524680259074), (4502, 0.0), (4503, 0.011144019269282195), (4504, 0.0), (4505, 0.0), (4506, 0.0), (4507, 0.0), (4508, 0.0), (4509, 0.013127099015288262), (4510, 0.0401148311470525), (4511, 0.0), (4512, 0.005972133949768008), (4513, 0.004409033484948808), (4514, 0.006446986537383267), (4515, 0.005931027137089244), (4516, 0.008648139744166934), (4517, 0.033668748510391006), (4518, 0.006470286191678206), (4519, 0.006050470139555436), (4520, 0.0), (4521, 0.0), (4522, 0.005808479892212388), (4523, 0.01231320728677188), (4524, 0.006360439916303298), (4525, 0.025765321141682656), (4526, 0.008602000078370906), (4527, 0.006128546473876057), (4528, 0.0), (4529, 0.0), (4530, 0.0), (4531, 0.005906878956414974), (4532, 0.024629351620167), (4533, 0.013173525108475546), (4534, 0.010746926054381026), (4535, 0.008441266900858826), (4536, 0.0), (4537, 0.0069380938163423325), (4538, 0.0), (4539, 0.0), (4540, 0.0), (4541, 0.0), (4542, 0.0), (4543, 0.037744153166652736), (4544, 0.0), (4545, 0.0), (4546, 0.006889555672568548), (4547, 0.0), (4548, 0.004996347634541157), (4549, 0.0063451644444384205), (4550, 0.012856280324633427), (4551, 0.0), (4552, 0.03468881938711881), (4553, 0.009661916725028596), (4554, 0.00633574279128936), (4555, 0.0), (4556, 0.0), (4557, 0.014067278378996498), (4558, 0.0), (4559, 0.0), (4560, 0.0), (4561, 0.0), (4562, 0.0), (4563, 0.0), (4564, 0.012769036344906014), (4565, 0.0), (4566, 0.0), (4567, 0.0), (4568, 0.005346235725134902), (4569, 0.007079603144155995), (4570, 0.009015360392432116), (4571, 0.0), (4572, 0.0), (4573, 0.005544860552570631), (4574, 0.0), (4575, 0.0), (4576, 0.005176908907682389), (4577, 0.0), (4578, 0.0), (4579, 0.005745054420084549), (4580, 0.0), (4581, 0.01338507999628284), (4582, 0.004754280309143714), (4583, 0.0), (4584, 0.0), (4585, 0.0049873513079487), (4586, 0.011506014648945035), (4587, 0.005079881885600121), (4588, 0.00730394766259401), (4589, 0.015522103125328904), (4590, 0.009894436733286363), (4591, 0.010276891645794695), (4592, 0.0), (4593, 0.005926772078902456), (4594, 0.0), (4595, 0.005767358084433736), (4596, 0.0), (4597, 0.006627184309920735), (4598, 0.0), (4599, 0.0), (4600, 0.0052344184079060295), (4601, 0.005833901899351149), (4602, 0.0), (4603, 0.0), (4604, 0.0), (4605, 0.0), (4606, 0.007241245533408951), (4607, 0.0), (4608, 0.005075770271274499), (4609, 0.04168246838775284), (4610, 0.04236040655599271), (4611, 0.0), (4612, 0.006635323412170241), (4613, 0.015967589007507537), (4614, 0.0050910796818546995), (4615, 0.0), (4616, 0.0), (4617, 0.06903129235956965), (4618, 0.07051003688149236), (4619, 0.006310847267467212), (4620, 0.0), (4621, 0.005569662504834382), (4622, 0.0), (4623, 0.005310735072823419), (4624, 0.005589100471921247), (4625, 0.0), (4626, 0.010721860145663994), (4627, 0.0), (4628, 0.0), (4629, 0.011527023228933033), (4630, 0.04394448769950933), (4631, 0.006945892728619755), (4632, 0.0), (4633, 0.0), (4634, 0.0), (4635, 0.0), (4636, 0.0), (4637, 0.006324557792252709), (4638, 0.0), (4639, 0.005577225590797637), (4640, 0.0), (4641, 0.0), (4642, 0.0130401378703804), (4643, 0.007757695987562808), (4644, 0.0), (4645, 0.0), (4646, 0.01408846557285226), (4647, 0.030614748808327066), (4648, 0.0), (4649, 0.005252832957454649), (4650, 0.0), (4651, 0.0), (4652, 0.0), (4653, 0.013509823675930965), (4654, 0.0), (4655, 0.029781725626275575), (4656, 0.060594242299659144), (4657, 0.0), (4658, 0.005124150582509648), (4659, 0.006172332430876546), (4660, 0.006572516632854795), (4661, 0.16805289944847562), (4662, 0.0), (4663, 0.007717166043945689), (4664, 0.009838892431352494), (4665, 0.005286327264794842), (4666, 0.014959528263773891), (4667, 0.02631217345615993), (4668, 0.0), (4669, 0.005805063429554319), (4670, 0.00510560395406812), (4671, 0.0), (4672, 0.0), (4673, 0.010702224398408147), (4674, 0.004280875223580846), (4675, 0.0), (4676, 0.014394628344335943), (4677, 0.005387175843613343), (4678, 0.005447578457343286), (4679, 0.00468589840431226), (4680, 0.0), (4681, 0.0), (4682, 0.005550100210235627), (4683, 0.0), (4684, 0.011276148833081184), (4685, 0.0), (4686, 0.0), (4687, 0.0), (4688, 0.0), (4689, 0.004863513207992726), (4690, 0.0053640347588357245), (4691, 0.007219517748919402), (4692, 0.0), (4693, 0.0), (4694, 0.0), (4695, 0.00561718980843532), (4696, 0.0), (4697, 0.004954418559975553), (4698, 0.013331554084031905), (4699, 0.006013722075899825), (4700, 0.0), (4701, 0.006352461080710394), (4702, 0.0), (4703, 0.019926205126688676), (4704, 0.0), (4705, 0.00817782358235753), (4706, 0.0), (4707, 0.0), (4708, 0.010965376884966366), (4709, 0.015019433813992806), (4710, 0.006737220829152984), (4711, 0.0), (4712, 0.0), (4713, 0.0), (4714, 0.0), (4715, 0.005343732023000613), (4716, 0.005928086913943423), (4717, 0.0), (4718, 0.0), (4719, 0.0), (4720, 0.0), (4721, 0.006633662384062725), (4722, 0.0), (4723, 0.006993406458026604), (4724, 0.006570300818452988), (4725, 0.006982341869228476), (4726, 0.006150977289246399), (4727, 0.006144565152825286), (4728, 0.0), (4729, 0.0), (4730, 0.0), (4731, 0.006034662171242947), (4732, 0.0), (4733, 0.009219793726588262), (4734, 0.0), (4735, 0.006307136200944004), (4736, 0.0), (4737, 0.0), (4738, 0.0), (4739, 0.011663858154585961), (4740, 0.0), (4741, 0.0065178588521082916), (4742, 0.014722691707598356), (4743, 0.005580918759278852), (4744, 0.0), (4745, 0.0059005695418252214), (4746, 0.006045356076317103), (4747, 0.012716857745876714), (4748, 0.0), (4749, 0.0), (4750, 0.0), (4751, 0.0), (4752, 0.004097127312703989), (4753, 0.0), (4754, 0.020484404161777787), (4755, 0.0), (4756, 0.0), (4757, 0.005597259565289582), (4758, 0.0), (4759, 0.062465369585519195)]\n"
          ]
        }
      ]
    },
    {
      "cell_type": "code",
      "source": [
        "\n",
        "len(Recommendation_Score)"
      ],
      "metadata": {
        "colab": {
          "base_uri": "https://localhost:8080/"
        },
        "id": "Wo08mIQ4dDU9",
        "outputId": "a73b3947-67ef-4813-d58f-0f8a945eb5c2"
      },
      "execution_count": null,
      "outputs": [
        {
          "output_type": "execute_result",
          "data": {
            "text/plain": [
              "4760"
            ]
          },
          "metadata": {},
          "execution_count": 35
        }
      ]
    },
    {
      "cell_type": "code",
      "source": [
        "\n",
        "Sorted_Similar_Movies = sorted(Recommendation_Score, key = lambda x:x[1], reverse = True)\n",
        "print(Sorted_Similar_Movies)"
      ],
      "metadata": {
        "colab": {
          "base_uri": "https://localhost:8080/"
        },
        "id": "1QJOOJyMdEtP",
        "outputId": "7a1ecbcb-e8a5-4595-878d-788d0b86b339"
      },
      "execution_count": null,
      "outputs": [
        {
          "output_type": "stream",
          "name": "stdout",
          "text": [
            "[(2506, 1.0000000000000002), (1183, 0.17597468437174937), (4661, 0.16805289944847562), (2946, 0.13516386109638287), (1258, 0.11062475465233258), (1374, 0.0990588375740496), (1386, 0.0929688874482918), (4224, 0.089432116645739), (1398, 0.07378029402980534), (2529, 0.07326723210441093), (4618, 0.07051003688149236), (1145, 0.0697946235331224), (4617, 0.06903129235956965), (1454, 0.06757482470173409), (3451, 0.06594238145970235), (2963, 0.06568947912991357), (462, 0.0651932240558623), (891, 0.06480628812050457), (677, 0.06357958515013235), (1711, 0.06329437522825239), (4088, 0.06304849381868628), (40, 0.06303449508013333), (1174, 0.06289483356285003), (4759, 0.062465369585519195), (1158, 0.06234554843746659), (1335, 0.06213544072459707), (1483, 0.061045656979071605), (375, 0.060801750206239936), (4656, 0.060594242299659144), (2378, 0.06053650697897143), (1952, 0.06009033550232113), (949, 0.060035733026792854), (500, 0.059988423331718665), (2178, 0.05984195532767056), (3297, 0.05970900294486315), (3345, 0.05892549676630208), (1449, 0.05874709512970755), (144, 0.05846609037752138), (32, 0.05589145259084003), (1504, 0.05565467981978277), (1755, 0.05520612922536907), (318, 0.055158615487712295), (2458, 0.05500411751005762), (328, 0.05457531277733508), (2330, 0.05398119358026), (413, 0.053896442165803964), (2127, 0.05350482963476778), (409, 0.0534120657551029), (3124, 0.05300727171690936), (1271, 0.052956402042084065), (3339, 0.05294546197685519), (1546, 0.05292673078036022), (116, 0.052667142245935564), (1147, 0.052612390152880675), (1721, 0.05258232984378168), (2519, 0.05206274209097078), (3404, 0.05194541115505224), (1283, 0.0518689465454795), (1294, 0.05181415190523937), (3520, 0.05168509058510234), (110, 0.05158465941825233), (1101, 0.05130269714254795), (4049, 0.051224715192014915), (864, 0.05100138256069551), (943, 0.050594067545583425), (3450, 0.05053713382609211), (857, 0.050487405845403455), (435, 0.04988716226350431), (26, 0.0493852460270901), (2842, 0.048583590041970166), (85, 0.0485556928352585), (2621, 0.04854950840132452), (1896, 0.048501963156745403), (1582, 0.04845625169316255), (491, 0.0483967737799991), (918, 0.04835737710060615), (4238, 0.04830792459712009), (2409, 0.04807167479175651), (2197, 0.04801459827189243), (2800, 0.047686020521469676), (3532, 0.047663587875860336), (1356, 0.047231044745095783), (631, 0.04701479097176156), (1279, 0.0469827040436626), (4103, 0.0469807343232414), (3024, 0.04648445299077632), (3455, 0.0463441234287782), (4211, 0.04586928525345049), (3555, 0.04528847972801531), (926, 0.04524889636161113), (1303, 0.04499166879591815), (2161, 0.044942139194903585), (4493, 0.044833450860062476), (4104, 0.044738766750795314), (4220, 0.044526129383359966), (4247, 0.044361976178601485), (2975, 0.04434255514314327), (4076, 0.044178339237060715), (269, 0.04413855627831212), (4289, 0.04406165479800068), (3979, 0.043952302393387974), (4630, 0.04394448769950933), (57, 0.043926272165414275), (3968, 0.04347309539471307), (231, 0.04341088907781547), (3870, 0.04327906707457911), (2364, 0.04282325505567077), (4478, 0.04277158836692953), (4466, 0.04270132001254018), (4610, 0.04236040655599271), (1111, 0.04230389045250763), (2955, 0.04227455060585014), (1342, 0.04214757344706568), (3252, 0.04205695421756765), (2221, 0.041960261192163714), (4609, 0.04168246838775284), (1269, 0.04133113255472598), (241, 0.040907337620193475), (3937, 0.04085672312325957), (3272, 0.040717131365329014), (341, 0.04069436724747431), (1706, 0.04037040400650306), (4510, 0.0401148311470525), (2788, 0.03989390083074308), (3365, 0.039627421318998234), (1198, 0.03960064088704328), (3444, 0.039327921841365604), (601, 0.03900786007354404), (3641, 0.038636992638220305), (852, 0.03826879985247626), (4414, 0.03825240508750076), (749, 0.038207023887242286), (4543, 0.037744153166652736), (3192, 0.03740193104072603), (4467, 0.03685372621065061), (2437, 0.03684852737293689), (2979, 0.03678265104900934), (813, 0.03646199887744828), (1057, 0.036327842035887015), (4090, 0.03606210597539247), (3724, 0.03589860157812569), (3529, 0.035673286772883714), (4195, 0.03565641715949205), (1041, 0.035476516041176145), (1919, 0.03527762482199393), (1418, 0.035147740084728776), (1480, 0.03512899435934622), (4552, 0.03468881938711881), (748, 0.034448601930417724), (3205, 0.03401269490737199), (2911, 0.03378713773577642), (4517, 0.033668748510391006), (3920, 0.03362660430985498), (92, 0.033603467046411734), (3323, 0.03328524200615665), (3793, 0.032900328186655954), (1933, 0.03262161602221598), (2028, 0.03249450976061931), (72, 0.03245666240084659), (923, 0.032228808750633185), (4335, 0.0320481271500396), (1666, 0.03201434949937018), (746, 0.031702253330500425), (2115, 0.03143696969449881), (4217, 0.03135567688257592), (2372, 0.03128667003267866), (841, 0.030894615671682737), (4647, 0.030614748808327066), (3300, 0.030508214233805855), (1390, 0.030270860190342877), (838, 0.03018722449707031), (3539, 0.029975974906881375), (4655, 0.029781725626275575), (842, 0.029726682196954318), (4378, 0.029560182406076153), (3969, 0.029558204787794796), (1039, 0.02951384462610397), (4433, 0.02935493292848442), (4388, 0.028934322941075792), (3722, 0.028928801523281276), (3926, 0.02818154623602713), (3746, 0.027697557127745267), (3562, 0.027101384372506514), (1266, 0.026661662734208134), (4667, 0.02631217345615993), (4305, 0.02613843498647261), (4525, 0.025765321141682656), (2022, 0.025746431675260025), (418, 0.025715395222032526), (2055, 0.025689885784160146), (338, 0.025670184102721424), (3635, 0.025135911997527446), (4338, 0.024712388992158), (977, 0.024679269811185817), (1939, 0.02467309906391601), (4532, 0.024629351620167), (1788, 0.024574285730788712), (661, 0.02451539654464978), (2075, 0.024360493344262685), (681, 0.023552495484269655), (1011, 0.023494152458756093), (1934, 0.02333442533143907), (2843, 0.023101361813480107), (101, 0.02306619057181549), (756, 0.022948023475109006), (990, 0.022852834510957022), (3744, 0.02262619436208903), (3448, 0.022553277550403546), (1798, 0.022333114775693132), (2316, 0.02228286150057203), (2567, 0.02206199903720035), (78, 0.02196726412931499), (1007, 0.021900721263952084), (599, 0.021885950116731286), (2427, 0.02159537128494242), (1381, 0.021334875042706064), (537, 0.021162510181024982), (2555, 0.021141613793274422), (1713, 0.021111212233898665), (424, 0.021109459137764068), (425, 0.021091144334149395), (2549, 0.0210701051658141), (666, 0.02092071896737393), (2066, 0.020914570257410274), (2421, 0.020798938378933457), (550, 0.020535256686321838), (2428, 0.020517354738339398), (4754, 0.020484404161777787), (1554, 0.02046933180415335), (4091, 0.020428003581133967), (69, 0.020413560056639746), (875, 0.020405086978145387), (3787, 0.02035379225968463), (635, 0.020297830216157352), (3163, 0.02023568051890462), (2136, 0.020149264846934235), (1150, 0.020052608755557984), (3276, 0.02001885258328974), (6, 0.02000311662198769), (4703, 0.019926205126688676), (3782, 0.019914300231432383), (2998, 0.019909053733329657), (3131, 0.019890495211545234), (1812, 0.019860243544412605), (3438, 0.01984760084143713), (2522, 0.019814351144897636), (1280, 0.019797123922698702), (208, 0.0197379482854703), (1099, 0.01971399848400953), (2208, 0.019704770071886268), (1436, 0.019671136871022024), (1904, 0.01966138412172099), (3747, 0.019636117060582728), (1225, 0.019613009508936925), (1380, 0.019607250162232734), (1185, 0.019587072022037362), (2413, 0.019501481152281848), (716, 0.019495772839518623), (320, 0.019490522740738904), (1396, 0.01944263434285424), (2015, 0.019413174472100045), (3134, 0.019404232484613815), (201, 0.019397133299596955), (3849, 0.01930999729387392), (793, 0.01930797812495362), (3907, 0.019288624489304705), (189, 0.01925230480777246), (2944, 0.01924347754007952), (2584, 0.019181905580044293), (95, 0.01912436927797486), (118, 0.019076121732116706), (902, 0.019071256900920742), (1901, 0.019053748107342994), (2937, 0.01904304726393894), (3578, 0.01903826671671093), (36, 0.019010861165155025), (1931, 0.018995296746080515), (3486, 0.01898248668814791), (2960, 0.018962051810878393), (3342, 0.018955635563369325), (4283, 0.018951175037100174), (1587, 0.018924597690403413), (2045, 0.018894189948545737), (919, 0.01889331674274696), (130, 0.018886050146559294), (2647, 0.01883003783586517), (2501, 0.018680957447591802), (39, 0.01866784916011512), (315, 0.01864871854412364), (3367, 0.01862078166431291), (1385, 0.018614920622825316), (1566, 0.01860646652493174), (687, 0.018605232120879646), (1179, 0.018588960485398747), (849, 0.018579275542396363), (305, 0.018573495579202487), (1262, 0.018541983528235367), (4288, 0.018518351415795165), (1012, 0.01841741114816707), (2847, 0.018355703694886073), (467, 0.01832672706985941), (322, 0.018307326734908), (90, 0.01818011946249832), (570, 0.018113413828119485), (1846, 0.018111017323451932), (152, 0.018054642460472614), (321, 0.018045088423490688), (1063, 0.017963155824909118), (3630, 0.017955378324895195), (261, 0.017937274188251844), (3582, 0.017910158386608508), (3156, 0.017906453813315137), (915, 0.017889810529531258), (310, 0.01786240911248383), (1791, 0.01785280579328919), (93, 0.017806780800937904), (1207, 0.01776133679621192), (284, 0.017730370930713925), (1001, 0.017719165285304136), (1412, 0.017695734945927005), (260, 0.01763390819983921), (911, 0.017613319606541625), (3361, 0.01759915160848099), (3133, 0.017474860567949498), (2139, 0.01744881652212352), (2559, 0.017433213106380855), (3135, 0.01741310749325632), (468, 0.017397285732241058), (426, 0.017389389864259714), (3100, 0.01736647622814776), (3136, 0.01733984527467397), (3742, 0.017337989606730646), (2442, 0.0172905353074832), (46, 0.017279842566592266), (417, 0.017269130327613548), (316, 0.017230551084863783), (2093, 0.017194454391803643), (1789, 0.01716767891079022), (540, 0.017158763235888788), (306, 0.01712943699017416), (94, 0.0170730518489039), (80, 0.017034863835792592), (397, 0.016998677261760426), (2740, 0.016983076257994275), (4142, 0.016954949197227592), (856, 0.01694304951646778), (1675, 0.016936836318902592), (2803, 0.01691906460995609), (4193, 0.016907450078268996), (67, 0.016858664359851526), (2530, 0.01685533101463819), (1173, 0.01682467333602279), (1809, 0.016802071464573513), (3817, 0.016779037487561817), (3185, 0.016766480776955965), (1134, 0.016758279027759372), (2646, 0.016715515152707902), (501, 0.016694724046827474), (327, 0.016677676445337776), (323, 0.01663023030908714), (477, 0.016594271768086356), (3099, 0.016536713562691926), (4199, 0.01645185215415281), (4196, 0.016423776333597616), (519, 0.016415344464788196), (1600, 0.016275944871253455), (3232, 0.01625494549819524), (1772, 0.016133065520320566), (692, 0.016068572081764113), (3638, 0.01604814248662025), (3206, 0.01604513528643652), (234, 0.016000788695181654), (3129, 0.01597303373734421), (4613, 0.015967589007507537), (1309, 0.01591161030770048), (2895, 0.015873694078095937), (3405, 0.01580162548012656), (3065, 0.015791561104421814), (288, 0.015788662640529014), (1458, 0.015735386920219002), (2768, 0.01570716757055706), (639, 0.015699030508850874), (2259, 0.015680424552854965), (996, 0.015592276815684524), (153, 0.015586529049456739), (314, 0.015584777373468847), (2707, 0.015564533030660976), (640, 0.015563989449590658), (3215, 0.01554837432430135), (1697, 0.015525969096760095), (4589, 0.015522103125328904), (1466, 0.015459869956493705), (1547, 0.015445620948527125), (3172, 0.015441792534524528), (469, 0.015364299180675523), (3419, 0.015304258304433844), (1321, 0.015262658647247922), (1530, 0.015225419208300893), (3972, 0.01518939025640102), (290, 0.015171002054101289), (295, 0.01516164719923549), (2472, 0.015131388214663264), (2198, 0.015112263114364916), (3377, 0.015062148014339496), (1437, 0.015027144992880184), (4709, 0.015019433813992806), (2275, 0.014963765269459237), (4666, 0.014959528263773891), (65, 0.014957710008771783), (1115, 0.014938671402660541), (289, 0.014921565584438365), (247, 0.01491383608197138), (2710, 0.014910941579738197), (947, 0.014905379994535606), (3560, 0.01490058732597229), (2672, 0.014864091051168787), (3469, 0.014851285135504249), (2164, 0.0148435943965818), (2356, 0.014824942553974207), (2013, 0.014812731327380927), (2479, 0.014808808381431761), (294, 0.014802992574791085), (2381, 0.014785744618018907), (150, 0.01476523390747489), (41, 0.014756408534252106), (4742, 0.014722691707598356), (2574, 0.014703286140126701), (3062, 0.014702573452841835), (1240, 0.014697446528580562), (1408, 0.014690289247172162), (1460, 0.014681247625777213), (715, 0.014634020934918744), (4181, 0.014617871545690657), (4077, 0.014612391640731057), (3697, 0.014609830814505086), (2095, 0.014567255728801309), (591, 0.01456375746133105), (2233, 0.014553291953230168), (19, 0.01455296063198941), (3869, 0.014537439660204375), (956, 0.014529658404236692), (1091, 0.014518432225798638), (3628, 0.014501965341129675), (4130, 0.014494798497392648), (4444, 0.014474598533312755), (2898, 0.014451772726308546), (4491, 0.014429672707370434), (3202, 0.014418738693685991), (4676, 0.014394628344335943), (2860, 0.014388260054337116), (1700, 0.014375075077857912), (1894, 0.014370718255225165), (2888, 0.014365384838481023), (713, 0.014360347902566859), (3977, 0.014322917659467374), (232, 0.014278390552281743), (3586, 0.014272047915182974), (3715, 0.014258474804379667), (2645, 0.014220536332670456), (3387, 0.014214069253687537), (1705, 0.014200936882103438), (872, 0.014197259995116944), (3834, 0.014189378580336132), (2940, 0.01417448473964296), (2729, 0.014148222916237562), (1324, 0.01414617465397198), (826, 0.014143334882239657), (3846, 0.014132193722147385), (1572, 0.014110886274540605), (603, 0.014105285145064851), (1206, 0.014100292021140434), (4646, 0.01408846557285226), (17, 0.014087265007219858), (4270, 0.01407149756431871), (4557, 0.014067278378996498), (3132, 0.014060150741871941), (1650, 0.013986672961151279), (1328, 0.013984811795426684), (2795, 0.013954429005815023), (600, 0.01395434964637334), (1570, 0.013946814286367105), (1603, 0.013916986786542181), (2640, 0.01387570853600847), (55, 0.013856918703714041), (4419, 0.013825189233133743), (2691, 0.013797102173798525), (1841, 0.013793029762473678), (1529, 0.013771319371724634), (2016, 0.013767161175719581), (3798, 0.013755846124813998), (615, 0.013737427848260868), (1470, 0.013726734532260733), (3743, 0.013721769161830537), (2283, 0.013717096485022362), (151, 0.013699173795602353), (3463, 0.013680105879232397), (1244, 0.01367905028400001), (59, 0.013663280614510838), (4456, 0.013657324963231954), (2353, 0.013653888034750672), (239, 0.013653025257389246), (670, 0.013617594953082266), (1045, 0.013598428783535994), (572, 0.013595103048553287), (3840, 0.01359482979257084), (1254, 0.01359156658688958), (4294, 0.01358242511485216), (3588, 0.013576236629433483), (2285, 0.01357247564990316), (3597, 0.0135723064132929), (1936, 0.013553880919041014), (3690, 0.013552655823199145), (4443, 0.01353621965833437), (1108, 0.0135312734896678), (2444, 0.013527284351591094), (1210, 0.013519003226546302), (4653, 0.013509823675930965), (528, 0.013503221758069044), (56, 0.013502139176821243), (2188, 0.01348535985528965), (592, 0.013469349216194844), (54, 0.013467727132547541), (1440, 0.013466284994112971), (4210, 0.013451265470655196), (2459, 0.013449382059508228), (2277, 0.013443075595400939), (3467, 0.01343107661075043), (945, 0.013428150680648421), (714, 0.013418426169374647), (4041, 0.013413340070212703), (1611, 0.01340204120373893), (3360, 0.013398288933707897), (1522, 0.01339164993077742), (4581, 0.01338507999628284), (2554, 0.01337836290323623), (1577, 0.013377326080318473), (27, 0.013370834458945973), (1945, 0.013362226097044017), (2778, 0.013361107269311846), (258, 0.013352042579301924), (1515, 0.013347968165712638), (2067, 0.013341289542149509), (1346, 0.013337319557772913), (2153, 0.013334042573931), (2826, 0.013332370013173904), (4698, 0.013331554084031905), (3427, 0.013311649461487069), (1151, 0.013297600107617496), (264, 0.013279809847088212), (4070, 0.013263998247067038), (3982, 0.013258232369067896), (4099, 0.013258054638196019), (965, 0.013232557095747343), (1941, 0.013225245145228368), (4128, 0.013213130073518861), (946, 0.013196934180268866), (2014, 0.013189904575726528), (4056, 0.01318989695888588), (610, 0.013185356556421323), (2850, 0.013180465085292244), (4188, 0.013176644767113641), (4533, 0.013173525108475546), (3963, 0.01316228782903303), (1604, 0.013148500819150893), (674, 0.013145876388383018), (512, 0.013133272539061176), (4509, 0.013127099015288262), (4490, 0.013104191878457218), (2298, 0.013086459393505615), (1263, 0.01307768223436528), (613, 0.01307158725738801), (1358, 0.013070023161787101), (1459, 0.013053647159964543), (4642, 0.0130401378703804), (2130, 0.013011355513318303), (119, 0.013010789880020895), (904, 0.013007253021763969), (2713, 0.012991631933915759), (539, 0.012977102874847298), (1968, 0.012976500641523944), (3454, 0.012972367352037537), (3773, 0.012970489354196896), (4285, 0.012967127458830396), (2616, 0.01296652311630456), (3384, 0.012954414666127208), (3629, 0.01295393724410848), (4112, 0.012944522241503142), (567, 0.012932144085964357), (1350, 0.012917914328738345), (3275, 0.012914943766297891), (2103, 0.01291313506780752), (2468, 0.012910637728993476), (1315, 0.012899344783993854), (292, 0.012866567794622332), (1592, 0.012861740391806313), (4550, 0.012856280324633427), (3022, 0.01285493577133233), (2150, 0.012842260224267033), (3440, 0.01283847831775764), (3741, 0.012835363058271869), (3312, 0.012834084362791164), (1645, 0.012811451439233863), (753, 0.012808929209359813), (1113, 0.01280220285256842), (1591, 0.01279728083455725), (1368, 0.01279527502892927), (1815, 0.012791091536679327), (905, 0.01278221405680047), (2642, 0.012776939207921714), (3947, 0.012769179550600996), (4564, 0.012769036344906014), (390, 0.012763890033283688), (3708, 0.012758116052619142), (3917, 0.012756952097172685), (1293, 0.012746649251326583), (3786, 0.01272435554749524), (2117, 0.01272066275544135), (3568, 0.01271830438240664), (4747, 0.012716857745876714), (2641, 0.012707961176857806), (2012, 0.01270748082726541), (1272, 0.01268251029764168), (1552, 0.01267937649652684), (3965, 0.012665351489809046), (4244, 0.01265884147794472), (125, 0.01264990936534334), (498, 0.012642856805635585), (1273, 0.012621264231633981), (2950, 0.012602517034824005), (3700, 0.012596552633133862), (171, 0.012588333658176775), (2287, 0.012584030257908552), (4272, 0.012581081548176696), (4121, 0.012567654446376985), (2476, 0.012564421352489879), (263, 0.012549753414911834), (2181, 0.01254231108448265), (966, 0.012521254779910177), (2881, 0.012514586454363652), (3783, 0.01250782010236852), (2576, 0.012500615080677818), (3680, 0.012495138428399635), (1895, 0.012492638627934611), (4462, 0.012487068652702292), (1579, 0.012465451435452867), (3193, 0.012457576713823828), (3168, 0.012442417616358866), (548, 0.012435950485412503), (533, 0.012428220311617569), (682, 0.012427370914442272), (1898, 0.012400316446385685), (2903, 0.012391572558148803), (565, 0.01238638701108338), (2021, 0.012382611538747139), (1649, 0.01235927627950835), (1976, 0.012343741603193402), (458, 0.012329403759082607), (2840, 0.01232400222268662), (729, 0.012321745904816932), (4523, 0.01231320728677188), (1332, 0.012311332375730986), (1135, 0.012306322346742844), (568, 0.012299701701059453), (2383, 0.012286176276925558), (4119, 0.01228122750536348), (9, 0.012272303934292432), (2854, 0.012271839721644216), (4236, 0.01226455976431963), (4094, 0.012259835429071974), (3114, 0.012259717516768794), (2124, 0.012259696553668218), (128, 0.012258291056413354), (688, 0.01224061301243047), (35, 0.012236791984386057), (1354, 0.012233660757632377), (379, 0.012212923253358005), (2040, 0.012207397681481349), (382, 0.012197537205651586), (4439, 0.012188540922067781), (3923, 0.012185281340914681), (48, 0.012175198037867437), (1987, 0.012173203968151107), (595, 0.01215244857690223), (569, 0.012151143197724165), (1982, 0.012146875334597847), (821, 0.012145424848840066), (3604, 0.012136574474159893), (1681, 0.012131257494910393), (2125, 0.012128845589173314), (4292, 0.012127491993062265), (2626, 0.01212716707463608), (4046, 0.012113542107576071), (37, 0.01210626602879539), (1799, 0.012102194682081917), (3802, 0.01209929115031527), (4153, 0.01208500407576465), (102, 0.012072025184223002), (2749, 0.012069328379110697), (673, 0.012058197003919973), (1162, 0.012055166939156361), (4116, 0.012046766132006202), (3263, 0.012037771679942747), (350, 0.012029453759470395), (3516, 0.012017402538746695), (1567, 0.01201298317529225), (513, 0.01201176050637333), (303, 0.011990538599487052), (514, 0.011983009932551553), (3642, 0.011982261206451208), (3426, 0.011973816594929123), (1387, 0.01197177067425464), (1310, 0.011969228328287534), (3771, 0.01196828840032219), (1366, 0.01196250678488783), (4055, 0.011961389894245953), (3600, 0.011958232381785163), (2426, 0.011953179731629567), (1015, 0.01194450024353345), (728, 0.011917908592426106), (4436, 0.011915145205281698), (2065, 0.011914455135531656), (210, 0.01190888344992016), (3468, 0.011908857550356826), (3692, 0.011897357061354277), (3112, 0.011881944058766102), (2185, 0.01188038369857785), (4312, 0.011871719608776556), (3795, 0.011862834425600832), (954, 0.011852406026298078), (1, 0.011845191562970113), (1537, 0.011830231772271299), (2389, 0.011829283651858109), (992, 0.011821283510397873), (4038, 0.011813139747542944), (1732, 0.011809900210785871), (3850, 0.011808717562789846), (1141, 0.011808587681421612), (4005, 0.011807021196496436), (497, 0.011801318711422672), (1659, 0.011777778324651324), (3997, 0.011763511497180953), (1468, 0.011754883862530707), (3710, 0.011747186245332147), (2044, 0.011737131992917498), (68, 0.01171885489795001), (1687, 0.011715718059032878), (2689, 0.011713367857053831), (2819, 0.0117054784558792), (4384, 0.011703581564890776), (1853, 0.011696038744379855), (2714, 0.011694371924301002), (1484, 0.011688448572601637), (220, 0.011682079807929034), (1502, 0.011668716237072326), (608, 0.011667874832237699), (4739, 0.011663858154585961), (470, 0.011654022429845425), (654, 0.011646108142884148), (2237, 0.011636806771233278), (4392, 0.01163539298053946), (2959, 0.011632364179659124), (1797, 0.01162634545829065), (2433, 0.011613260551125354), (1301, 0.011585948336478639), (3574, 0.011584527031665808), (936, 0.011581594178583506), (3513, 0.011577138745619834), (2088, 0.011576922975168626), (2718, 0.011572983675383924), (4430, 0.01156902775197338), (845, 0.011568093860412756), (1881, 0.011557387072691928), (3862, 0.011540333784723841), (1229, 0.011535909359416396), (3514, 0.011535591522369586), (928, 0.011531017428584436), (3096, 0.011527873459175617), (4629, 0.011527023228933033), (1432, 0.01151001043725313), (1024, 0.011508696788919866), (4586, 0.011506014648945035), (1764, 0.011495274523931112), (1379, 0.011494516312086079), (165, 0.011464104540516386), (1949, 0.011455529321434281), (3507, 0.01145470184181063), (4379, 0.011448619216086723), (2822, 0.011445069188423153), (2780, 0.011441166591547439), (1469, 0.011439196292736433), (4249, 0.011401063930975366), (1443, 0.011400329006901525), (3623, 0.011398774752814356), (3191, 0.011375741517896797), (2668, 0.011369400881110114), (1745, 0.011350860640277537), (2276, 0.011350184126048622), (809, 0.011344052705081584), (4376, 0.011328773572300289), (4098, 0.011326510849114024), (2947, 0.011325457363152285), (496, 0.011322051152631771), (3693, 0.011314992508881301), (1802, 0.01129530931583767), (725, 0.011281331557461423), (1337, 0.011276363530272589), (4684, 0.011276148833081184), (1740, 0.011271892555611833), (1352, 0.011264869909041294), (2210, 0.011234626267387793), (4068, 0.011225765762859349), (1413, 0.011214190246256259), (1302, 0.011207121508336538), (2091, 0.011203573112035351), (3679, 0.011201648752681733), (4255, 0.011201402154153273), (3908, 0.011195168571354365), (2061, 0.011191767051151227), (3657, 0.011191229366748691), (1138, 0.01117762057100019), (1985, 0.011165482750642053), (1510, 0.011155151341556039), (3210, 0.011145785235246116), (4503, 0.011144019269282195), (3227, 0.011141346988430112), (2296, 0.011140142515001616), (1876, 0.011113253563903235), (451, 0.0110975058600401), (1074, 0.011083716973297953), (560, 0.011083193560554983), (1419, 0.011062942680673591), (4310, 0.011060970602727201), (1129, 0.011053947863662395), (986, 0.011041341360427379), (3959, 0.011040909330168817), (135, 0.011040272747122664), (3416, 0.011039435195611597), (1455, 0.011036349004382474), (4148, 0.011006538383421235), (619, 0.010998564156095316), (3807, 0.010991839259760274), (1678, 0.010986645219387206), (4248, 0.01098434057403393), (3432, 0.010968832867468522), (3374, 0.010966032999353486), (4708, 0.010965376884966366), (1252, 0.01094771014647156), (1442, 0.010939428746788736), (1226, 0.010938526440815097), (2034, 0.010925840160651984), (534, 0.010913458555214452), (233, 0.010905742804140986), (3161, 0.01090079006697159), (3443, 0.010898891443230377), (4264, 0.010888958149082372), (1257, 0.010888545761406524), (1341, 0.010884352904892803), (1127, 0.01087570133305439), (1314, 0.010869856319541326), (3814, 0.010868530562705984), (1292, 0.010866059569956506), (3602, 0.010864809918850044), (727, 0.0108561946847766), (1937, 0.010853730815368669), (1082, 0.010852254598025537), (1696, 0.010835395963646615), (602, 0.010827610089968524), (1326, 0.010825844874451304), (84, 0.0108190683144155), (2910, 0.010811300276273325), (244, 0.010809646454037886), (1406, 0.01079936927552055), (2232, 0.010795276630822278), (1653, 0.010775401673582805), (4039, 0.010771437439898272), (4534, 0.010746926054381026), (1017, 0.010740163663974124), (1035, 0.010734583739952303), (1709, 0.010724190744638375), (4626, 0.010721860145663994), (825, 0.010716808848098728), (1044, 0.010704152679717267), (4673, 0.010702224398408147), (3720, 0.010663309147266152), (3660, 0.010655682869673094), (2432, 0.010650843355800452), (2918, 0.010645599820089068), (3980, 0.01063878632076802), (1230, 0.01060597617210458), (689, 0.010601495500458646), (2774, 0.01059705079834045), (2680, 0.010591844966581073), (3126, 0.010582011568944644), (1478, 0.010581226060400527), (2024, 0.010581212795700973), (3605, 0.010563312853609346), (2206, 0.010561832025594041), (4481, 0.0105574684282386), (3085, 0.010555995784369356), (63, 0.010554431570348698), (1886, 0.010540572963947278), (3978, 0.010539506070664308), (2540, 0.010531291151646097), (2711, 0.010514064029497863), (2787, 0.010507043855225495), (644, 0.01049681440676875), (3465, 0.010495518517349495), (2224, 0.010485213889417998), (827, 0.010482615287412626), (2751, 0.010478466558558056), (2010, 0.010472843468806382), (3794, 0.010465885646855518), (2094, 0.010456382734712041), (878, 0.010436655870630276), (1054, 0.01043392392622725), (3723, 0.010428088441190787), (3734, 0.010421862245728733), (3466, 0.010402346327319994), (2899, 0.010387236114202647), (1651, 0.010380750741326907), (1749, 0.010363741494518748), (1665, 0.010346002102122434), (974, 0.010343998484105048), (1989, 0.010338414806055463), (963, 0.010328847000411243), (4328, 0.010322580725383146), (2682, 0.010309323342679942), (2992, 0.010302895940865028), (690, 0.010280782524879666), (4591, 0.010276891645794695), (866, 0.010272341700895641), (1900, 0.01026304046443568), (3143, 0.010262422946477431), (532, 0.010260632732271735), (868, 0.010259287156952047), (2742, 0.010259212038223126), (2365, 0.010253069008305147), (4325, 0.010249039319166745), (2429, 0.010242847763349456), (627, 0.010212172671171757), (3993, 0.010209212499631103), (672, 0.010200693876489813), (669, 0.01016703802174244), (2791, 0.010133802033014026), (4274, 0.010132038482752768), (160, 0.010128171819928897), (1259, 0.010099513671243406), (1065, 0.01009944518591489), (1281, 0.010085409794437988), (1796, 0.010081894715232232), (1680, 0.010035367444584288), (148, 0.010027276250653019), (4044, 0.010025914455453786), (3860, 0.010018522181382505), (170, 0.01001174554913336), (3247, 0.00999365211976989), (452, 0.00998818655524881), (981, 0.009947859129558468), (334, 0.009942847451057502), (1000, 0.009938606431268891), (804, 0.009938411394085172), (997, 0.009937794672032913), (800, 0.009931899881755819), (2715, 0.00992848536592054), (4418, 0.009905030270064803), (4590, 0.009894436733286363), (3556, 0.009879947155153335), (803, 0.009875980340281228), (3070, 0.009870499907898504), (191, 0.009858876272136522), (1154, 0.009848995896929337), (775, 0.009847331472446277), (4664, 0.009838892431352494), (1384, 0.009834423462979486), (333, 0.009828561305728298), (4450, 0.00979512050466133), (3439, 0.009782031934805225), (2324, 0.009730619297711785), (4432, 0.009671574037395839), (2820, 0.009664868850226252), (3637, 0.009663227636879925), (4553, 0.009661916725028596), (1348, 0.009624891659763202), (653, 0.00961389560926429), (2412, 0.009594563874225203), (3684, 0.009589647481928264), (762, 0.009577713557241085), (3325, 0.009522829675728402), (3776, 0.009463465931718535), (779, 0.009445442699778955), (1627, 0.009445435673051353), (1781, 0.009401859225075289), (4095, 0.009377471302888813), (2622, 0.009374774074556294), (723, 0.009354154765467094), (621, 0.009349071024376234), (914, 0.00933792545353769), (3213, 0.00926247725425049), (4194, 0.009237246298724308), (1051, 0.009223517638535515), (4733, 0.009219793726588262), (1092, 0.009210024543515617), (44, 0.0091981450180998), (442, 0.009162175495933388), (2927, 0.009139233963942013), (3045, 0.009124991166298738), (88, 0.009113768176564672), (738, 0.009102792367229107), (751, 0.009100735144670788), (1948, 0.00908706994125208), (4455, 0.009075764839624438), (1137, 0.009072217273383096), (2573, 0.009057609748963595), (368, 0.009052674864246865), (2697, 0.009046005352742484), (1369, 0.009043913360639984), (76, 0.009016020013473899), (4570, 0.009015360392432116), (1164, 0.008984847130435292), (4341, 0.008946155592562694), (461, 0.008931072997494707), (1615, 0.00893107112293396), (1377, 0.008913516187888834), (3115, 0.008904302213842145), (2908, 0.008879656622820125), (719, 0.008877154367520177), (1576, 0.008850582045867915), (4031, 0.008816194916394076), (2078, 0.008787963322062074), (668, 0.008741902477649135), (1758, 0.00872096146056592), (3328, 0.008716638831244685), (4454, 0.00870079682830087), (3223, 0.008688052952133726), (4516, 0.008648139744166934), (3903, 0.008638466318864262), (1417, 0.008625398390168836), (4526, 0.008602000078370906), (3946, 0.008568987095614083), (3703, 0.008537388989958839), (1999, 0.008519178628992137), (2532, 0.008514161860451891), (266, 0.008502054694939275), (3587, 0.008495570477568243), (419, 0.008494009820604368), (271, 0.008468320764423613), (4160, 0.008455739948022525), (2956, 0.008441377160110414), (4535, 0.008441266900858826), (1069, 0.008438028682411867), (4401, 0.008426175835998098), (1474, 0.008410662045199059), (3877, 0.008396945466308743), (2830, 0.008393521374215646), (2218, 0.008384403212103715), (2657, 0.008378308430501406), (365, 0.008375048337824738), (4034, 0.008366978252786393), (2806, 0.008352333519798812), (3735, 0.008345515099482724), (1725, 0.008337626688600117), (686, 0.008335229602663257), (362, 0.008326749798078598), (296, 0.008281571313201166), (1844, 0.008280013928716665), (700, 0.008274384332875242), (332, 0.008273704397857294), (3695, 0.008249159046861543), (2575, 0.008243027186515428), (1276, 0.008241805319673102), (363, 0.008241067599936633), (2659, 0.008239052457728019), (1471, 0.008194081503299689), (4705, 0.00817782358235753), (4086, 0.008161020106998583), (2171, 0.008147463591932268), (1640, 0.008145597770493444), (4118, 0.008132863927385551), (340, 0.008103145094317515), (4492, 0.008101594132290058), (2451, 0.008099972289316675), (2637, 0.008097173202601999), (1228, 0.00809310008771981), (4269, 0.008089552305046868), (4351, 0.008087762593170478), (1731, 0.008085643001983979), (4347, 0.008070419856884356), (2725, 0.008065656967504692), (2609, 0.008044207783782478), (1333, 0.008042469074264891), (3461, 0.008039027111820226), (1926, 0.008013840088019572), (361, 0.008005705224243875), (4202, 0.007997906437363695), (2337, 0.007984663755612567), (297, 0.007978810761545926), (301, 0.007977758041407207), (2755, 0.007974755033321389), (2989, 0.007970036803894286), (1013, 0.00796888638398405), (1401, 0.007963730510547346), (4323, 0.007943897214900941), (1389, 0.007941705966739357), (3208, 0.007927969219952449), (1955, 0.007921868434097708), (4354, 0.007889488090959264), (2249, 0.007887032485816998), (298, 0.007878196753217548), (1965, 0.007877513695408686), (2605, 0.0078727891666486), (3871, 0.007871551700161036), (1475, 0.007862151404979388), (586, 0.007856055446050843), (1911, 0.007831901522192004), (1932, 0.007831209871243146), (1195, 0.007817592423454593), (1165, 0.007812145134620487), (3287, 0.007796571293122887), (2667, 0.007794026573099571), (2922, 0.007782635453672694), (2332, 0.007771865374332112), (1961, 0.007769397906713379), (472, 0.007764267211997983), (2048, 0.0077623977991513925), (4643, 0.007757695987562808), (871, 0.007749020893891657), (542, 0.007748613469541), (1153, 0.007747430275449871), (2172, 0.0077233225755970695), (4663, 0.007717166043945689), (4168, 0.0077132406954395615), (1686, 0.00771031684398195), (2990, 0.007699844638549571), (1085, 0.007688487787625065), (219, 0.007673406063031349), (1495, 0.007672842373507538), (1087, 0.007667348744320978), (2551, 0.007662949291444181), (1889, 0.007656747837215021), (4221, 0.007647361043491861), (401, 0.007643685843327401), (2887, 0.007641775056473123), (484, 0.007625024556542955), (909, 0.0076225075396010745), (4501, 0.007619524680259074), (1175, 0.007611145558105376), (2414, 0.007602204518801479), (182, 0.007601900733059694), (4300, 0.007600713266616222), (3482, 0.007587936585287309), (1908, 0.007581843383337401), (1388, 0.0075746016062687785), (4364, 0.007548925454878785), (2804, 0.007544069345115194), (299, 0.007540545686921339), (3492, 0.007532482615624523), (2547, 0.007532073833242511), (3346, 0.007521714506481552), (4016, 0.007520998949267239), (3805, 0.007519829451219613), (79, 0.0075182462261985245), (4457, 0.007513964278896531), (3429, 0.007512769755244333), (1022, 0.007507268892090996), (1238, 0.0074903513984894265), (2019, 0.007490034203877226), (724, 0.0074897570444615695), (2512, 0.007487645459567684), (4482, 0.007480076007118148), (3058, 0.007474197227072266), (2569, 0.007452162712116697), (2948, 0.0074486414153389835), (1126, 0.007447173926770349), (2521, 0.007446649481556736), (1598, 0.007444811339328213), (3685, 0.0073987606132251), (2329, 0.00739738022140581), (4218, 0.007377058894407474), (4036, 0.0073689810325253), (2763, 0.007365277042001491), (2504, 0.007363429885035158), (3709, 0.007350772845136369), (1607, 0.007344418774767795), (3286, 0.007322145649408359), (4440, 0.007314818468765805), (4134, 0.007314588974795774), (345, 0.007309401048382488), (1373, 0.007306448063945787), (4588, 0.00730394766259401), (3366, 0.0072836929788871645), (546, 0.0072766108378468555), (1287, 0.007266160174048724), (3141, 0.007265972675672129), (720, 0.007253454304058547), (2100, 0.007252036656268157), (3826, 0.007250460621102805), (179, 0.007249154708948587), (3472, 0.0072464015706749044), (1118, 0.007246338359465773), (4303, 0.007242095569681376), (4606, 0.007241245533408951), (1548, 0.007240158701521741), (1231, 0.00722690977281793), (3567, 0.007225699058011267), (1912, 0.007220560910973228), (4691, 0.007219517748919402), (2600, 0.007216265340155202), (1810, 0.007210327997159929), (1490, 0.007205834795107305), (948, 0.007201919272725398), (3105, 0.007201593298720716), (4152, 0.007195452450505541), (1067, 0.007193050445066825), (2050, 0.007191268322522445), (300, 0.007185056391918732), (2473, 0.007182538751640035), (1327, 0.007171658330782647), (4428, 0.007161293516672718), (1738, 0.007159594412993295), (45, 0.007157683824624815), (2581, 0.007147571723220174), (53, 0.007146500505171531), (1664, 0.0071427523733187505), (185, 0.00712998198939196), (3991, 0.007112305774293336), (4122, 0.007103573273836484), (1307, 0.007097258750291223), (3566, 0.007084229985683335), (4569, 0.007079603144155995), (3721, 0.007070669605816368), (903, 0.007069407228748832), (2363, 0.007068486193525139), (2544, 0.007068043043179697), (2655, 0.007063417626704342), (650, 0.007061217861267531), (1855, 0.00705412057736802), (2932, 0.0070470932634051926), (3121, 0.00704324309363439), (2590, 0.007020636866188236), (921, 0.00701899574924554), (935, 0.007014792199425496), (2450, 0.007010930930036968), (2615, 0.0070057786698996885), (2183, 0.006993602844858895), (4723, 0.006993406458026604), (3718, 0.006993309542506523), (4725, 0.006982341869228476), (1514, 0.006979658282467802), (2077, 0.006975632101221339), (745, 0.006972953808012322), (4009, 0.006968472882646314), (3975, 0.006947306953330846), (1114, 0.006946438114395033), (4631, 0.006945892728619755), (2415, 0.006940569925134912), (4537, 0.0069380938163423325), (1079, 0.006935356342955743), (3395, 0.0069282029165868815), (3554, 0.006923947135419592), (920, 0.006923460875164773), (457, 0.006921905986383685), (1308, 0.00691927005833567), (2920, 0.0069004296812188734), (1242, 0.006899273521037128), (4546, 0.006889555672568548), (218, 0.006885280651298988), (2255, 0.006876572033434374), (1288, 0.0068619662673498425), (4405, 0.006854189658373788), (4219, 0.0068519714023179525), (1503, 0.006837871931448644), (2154, 0.006827149880669024), (428, 0.006808964033688285), (3726, 0.006802599060350549), (4403, 0.006793469156379031), (2741, 0.006790517617663897), (4074, 0.006787056810657852), (699, 0.006782195973376288), (4464, 0.006777061655872373), (2772, 0.006775529573284735), (1016, 0.006774325037258296), (3397, 0.006768276461589169), (1219, 0.006765747653990126), (3327, 0.006764699592063876), (795, 0.006760445218545902), (3231, 0.006753581672156303), (594, 0.006740956525889346), (3828, 0.0067408180413551025), (4710, 0.006737220829152984), (4047, 0.0067367820828787344), (3865, 0.006725819846058029), (2720, 0.0067037332164796935), (1601, 0.0066942811211762035), (882, 0.00668528145362218), (4477, 0.006682355914696129), (1540, 0.006681695722468702), (252, 0.0066803713284713725), (3844, 0.0066791035754898), (91, 0.006676697520059948), (3598, 0.006676150829668002), (4208, 0.006669285553472811), (3785, 0.006665678141051214), (2939, 0.006638352547841691), (4612, 0.006635323412170241), (4721, 0.006633662384062725), (277, 0.0066293434199116525), (4597, 0.006627184309920735), (1014, 0.006626751842439682), (4276, 0.006625169485649686), (545, 0.0066251677025608025), (4242, 0.006621578520790661), (3049, 0.006617888068082793), (1090, 0.00661644617391117), (3803, 0.006598493858273561), (1194, 0.006589253345783307), (257, 0.0065846434960231065), (3394, 0.006577166931298152), (4660, 0.006572516632854795), (2625, 0.006571522702129608), (4724, 0.006570300818452988), (3165, 0.006569621755236738), (3521, 0.006566284754401232), (614, 0.006562629731062302), (2676, 0.006558825298786155), (2539, 0.00654696206702386), (2328, 0.0065418444623656065), (2180, 0.006538270475172874), (38, 0.006536624089885867), (1058, 0.00653291965256832), (242, 0.0065296870950299025), (73, 0.006529306817115901), (3154, 0.006523602634138374), (1397, 0.006521850755425028), (4741, 0.0065178588521082916), (1521, 0.006513562228025591), (1850, 0.006504984555828337), (3253, 0.006504444784633385), (3942, 0.006501689011603063), (2864, 0.006501675891316344), (3123, 0.0065012687571497285), (2879, 0.006491089498516061), (364, 0.006488217685369586), (2177, 0.006483679058476037), (3383, 0.006476584895070567), (286, 0.0064717292777886895), (2688, 0.006470310307365485), (4518, 0.006470286191678206), (3228, 0.006468324928986925), (2470, 0.006460066755804724), (1833, 0.006457920025522118), (1064, 0.006457453810939208), (683, 0.006457228064797364), (4393, 0.006452424872788857), (3502, 0.006451339872167862), (4514, 0.006446986537383267), (1560, 0.006445511266573615), (2352, 0.006445395017489035), (3373, 0.006437748026232141), (2006, 0.006431760810476403), (1023, 0.006429442056173648), (3901, 0.006427959815677391), (2182, 0.006425616005471079), (1050, 0.006425014652036306), (139, 0.0064174796244675526), (4185, 0.006414137831347181), (2727, 0.006410726826351153), (2810, 0.006410421561599806), (1429, 0.006407575734527007), (3221, 0.006397352446864174), (4453, 0.006386381510095825), (3593, 0.006385011749280016), (4293, 0.006382593201158795), (951, 0.006366665574226838), (4524, 0.006360439916303298), (3766, 0.00635617102755995), (3675, 0.006353567663131124), (4701, 0.006352461080710394), (4549, 0.0063451644444384205), (4144, 0.0063412464259984536), (1343, 0.006336091997836856), (4554, 0.00633574279128936), (75, 0.006334424496922431), (4637, 0.006324557792252709), (58, 0.006323674645002708), (2493, 0.006312703118780805), (3091, 0.006312564084839591), (3535, 0.006311400798627091), (4619, 0.006310847267467212), (4735, 0.006307136200944004), (3097, 0.006307080535445891), (726, 0.0063060818385387496), (1486, 0.006299136174352313), (3453, 0.006291244454641494), (2273, 0.006290956924532134), (162, 0.0062822641880530125), (1221, 0.006270041795194687), (3424, 0.006266751933692825), (2811, 0.006263705860643048), (2089, 0.006262964177472914), (2406, 0.0062607112281978326), (123, 0.0062578945934615325), (4412, 0.006243628086624418), (3044, 0.006234833688184402), (3181, 0.006232844647089482), (1940, 0.006229462508028228), (937, 0.00622715407477838), (3064, 0.0062238239026270814), (1056, 0.006223206938661004), (1883, 0.006217763907111405), (1265, 0.006216560742722429), (1511, 0.006211028978035491), (2082, 0.006205151370082255), (3019, 0.0062047659728963886), (4163, 0.006179490348124402), (860, 0.0061755252137881645), (4659, 0.006172332430876546), (443, 0.006164842701534138), (2880, 0.006164692183639647), (4281, 0.006160224972341984), (381, 0.006159771520735814), (4726, 0.006150977289246399), (1770, 0.006150303147015897), (1275, 0.006150015168808806), (4727, 0.006144565152825286), (1708, 0.006143343648822372), (4331, 0.006139567569004265), (2243, 0.006135186817121899), (4162, 0.006134748538644263), (4527, 0.006128546473876057), (3059, 0.006127601083062132), (380, 0.006123106805025222), (2670, 0.006122331749676567), (4131, 0.006120909537675335), (237, 0.006118469880953623), (760, 0.006114449255148171), (180, 0.0061121870746998095), (3117, 0.0061102440789589174), (10, 0.006095452712451726), (1924, 0.006089197310937421), (855, 0.0060858651954596886), (2486, 0.006085428662728236), (876, 0.00608371294340898), (2499, 0.006081450892931056), (1031, 0.006081414215062648), (1184, 0.0060806011198193885), (3661, 0.006078820126093771), (3883, 0.006075560486349124), (913, 0.0060671667427851916), (2361, 0.006066987925351156), (3464, 0.006061969540751332), (4233, 0.006058164692327106), (2638, 0.0060559410718094096), (4519, 0.006050470139555436), (4746, 0.006045356076317103), (107, 0.006045072426202266), (4045, 0.006042739415296016), (3960, 0.006042542724783868), (4389, 0.006038955379769191), (1822, 0.006037936893850729), (4731, 0.006034662171242947), (4033, 0.00603421367154242), (3043, 0.006033756584373125), (3259, 0.006032199682146497), (4092, 0.0060317351000937144), (4494, 0.00602132204932711), (207, 0.006020298985864871), (4410, 0.006019394108746621), (1148, 0.006017901634385357), (1383, 0.006016634953157132), (4699, 0.006013722075899825), (89, 0.0060096544191850735), (656, 0.006009135060271401), (1393, 0.006005840872681479), (143, 0.006000175921105103), (2754, 0.0059966307188525), (3110, 0.005995916773252329), (1734, 0.005993276470538085), (1489, 0.005989110648866407), (2217, 0.005987932217146507), (1736, 0.005987820610642148), (2700, 0.005987687669296306), (2083, 0.0059858500324381754), (4307, 0.00598410019652454), (3470, 0.0059826284335244544), (1716, 0.005977531400669062), (3196, 0.005976780100040843), (3012, 0.005975714043257466), (4100, 0.005974875192935614), (3158, 0.0059738734284465415), (3385, 0.005973723672098495), (4512, 0.005972133949768008), (2683, 0.005970164486276836), (3591, 0.005969687460292223), (3241, 0.005967224480538663), (3310, 0.005966957418259511), (3032, 0.00596598437016525), (250, 0.005964205281089557), (436, 0.005963334445116877), (516, 0.005962102461701628), (2085, 0.005959313752152039), (1513, 0.005958325897092612), (386, 0.00595591457817251), (701, 0.005949733759098985), (1536, 0.005947892292949826), (2241, 0.005947863053998383), (1727, 0.005947021768332865), (1391, 0.005946351188681741), (3640, 0.005944163880739353), (517, 0.0059440346378816815), (4390, 0.0059437450456284145), (4120, 0.005941154868251718), (4043, 0.005940879573820933), (1962, 0.005937707484812766), (4515, 0.005931027137089244), (3180, 0.005929808417282617), (4486, 0.005928654824070608), (4716, 0.005928086913943423), (4593, 0.005926772078902456), (1498, 0.0059256070608884135), (2238, 0.005923486767422637), (2733, 0.005920719794049739), (4337, 0.005918130136951568), (888, 0.005907227380683892), (4531, 0.005906878956414974), (1847, 0.005905497778774844), (1960, 0.005901309887752257), (4745, 0.0059005695418252214), (1735, 0.005898631419202072), (3797, 0.005898131004089768), (1516, 0.005890599615096647), (2231, 0.00588997908450107), (3652, 0.005889331289379401), (4050, 0.005887818709159023), (3152, 0.005885218797065211), (967, 0.005884597434291891), (4227, 0.005883883150602351), (3961, 0.005882991849178109), (2112, 0.005882811941062474), (2867, 0.005881523538028099), (2996, 0.005865620951810554), (371, 0.005865057079657083), (869, 0.0058644737198699365), (3169, 0.005863707209536292), (2314, 0.00586334307189529), (3225, 0.005861345157556107), (1564, 0.0058580278058089595), (3445, 0.005857803383374181), (3522, 0.005853969227650307), (4093, 0.005850916640556615), (450, 0.005848526558586822), (908, 0.005843285160390682), (1167, 0.005839316598528767), (4601, 0.005833901899351149), (421, 0.005832709036396994), (802, 0.005831992735478687), (70, 0.005829696519535821), (3603, 0.0058289572740489555), (2229, 0.005824778214238993), (1122, 0.005823265641870485), (896, 0.005822615370867627), (3707, 0.005821451181501652), (1866, 0.005819929151657578), (4240, 0.005818513266193109), (994, 0.005812692071389626), (675, 0.005812536836194737), (4133, 0.005811751961016086), (678, 0.005810573200306969), (353, 0.005809173337723044), (3659, 0.005809068500128557), (2037, 0.005808595661643037), (4522, 0.005808479892212388), (4669, 0.005805063429554319), (4013, 0.005802920699922446), (1829, 0.005801704823801598), (481, 0.005796394672359253), (2978, 0.005795539982588559), (2214, 0.005795168194491504), (1599, 0.005791170052884984), (1997, 0.005790842287012218), (3332, 0.005788290285466792), (1751, 0.005787016962329365), (2474, 0.005786168417447408), (3002, 0.005780288464120072), (3676, 0.0057801596199522545), (3938, 0.005779041836670988), (1897, 0.0057790002541665405), (1325, 0.005777067587310408), (848, 0.005768425586388437), (3694, 0.005768265257807564), (4595, 0.005767358084433736), (952, 0.005761647711705986), (2599, 0.00576071331847008), (3704, 0.00575986137584226), (2477, 0.005758636786376498), (3086, 0.005757804226410579), (1512, 0.00575705231287903), (2815, 0.005753547316767784), (2084, 0.0057521854644586425), (4435, 0.005747082041527183), (494, 0.005746050964917567), (4579, 0.005745054420084549), (2252, 0.005742761651526806), (1661, 0.005739656393008642), (1724, 0.0057389357337464895), (420, 0.005731342849645826), (4001, 0.0057294236477484425), (3768, 0.005727348246569415), (1172, 0.005726745962141943), (2081, 0.0057258449570667495), (3584, 0.005724201191814557), (3095, 0.005722249603831203), (991, 0.005721343596042721), (2254, 0.005719580150221607), (3343, 0.005714009377138489), (3955, 0.005707974034445622), (3774, 0.005707441258001304), (2212, 0.005707395046099177), (1140, 0.005706941507611223), (1575, 0.005706889376249814), (3174, 0.005704524349434647), (1581, 0.0057031505148693274), (1614, 0.005701913764154248), (4431, 0.005700092807764131), (21, 0.005699805657313349), (2943, 0.005699237619545997), (2949, 0.005694964295778292), (2104, 0.005692252716365975), (3780, 0.005690943583274592), (1119, 0.005690642394338526), (1071, 0.005687910953092801), (259, 0.005687044010767062), (4231, 0.0056856677430056285), (3270, 0.005682603372440926), (181, 0.005681720544419551), (2096, 0.005681067859664704), (3698, 0.005680851673939416), (2562, 0.005678395649547916), (1102, 0.0056767820445325565), (2630, 0.00567676032838232), (1779, 0.00567464666879407), (3441, 0.005672815686641866), (3340, 0.005669896343343873), (1407, 0.0056641925152429275), (622, 0.005663558370128027), (1692, 0.005659310269561817), (493, 0.005659059272939194), (930, 0.005657307184475137), (4241, 0.005656836019185902), (3897, 0.0056510958004673045), (2825, 0.005650472048956407), (3618, 0.005649710025652513), (1426, 0.005646929614925091), (3483, 0.005643318850288806), (4265, 0.005640785585332792), (1253, 0.005639972106710445), (2196, 0.00563643663803128), (1452, 0.005633725216469928), (765, 0.005633052292861753), (1531, 0.00563162839508234), (3777, 0.005631483336845793), (1918, 0.005629949846196658), (4123, 0.005627773575828828), (3546, 0.005626733141921221), (1338, 0.005625680109089825), (1859, 0.005620225417916919), (1400, 0.005618390777117843), (976, 0.005617797116642871), (4695, 0.00561718980843532), (1975, 0.005614055463258409), (4474, 0.005612041254044432), (4020, 0.005611378258609274), (1104, 0.005610054539496502), (3334, 0.005607881074615866), (51, 0.005607766142526842), (2790, 0.005604040603356939), (667, 0.005603703478695473), (523, 0.005602878338150712), (1902, 0.005602363394738714), (1527, 0.005597803143715581), (4757, 0.005597259565289582), (4178, 0.005596584992644413), (1643, 0.005595717350316658), (1188, 0.0055943586606105045), (4624, 0.005589100471921247), (429, 0.005585964009604112), (1192, 0.005584361097018716), (3368, 0.005584342969033132), (3706, 0.005582114552531109), (255, 0.0055813748383059265), (4743, 0.005580918759278852), (502, 0.005579897324265043), (3437, 0.005579788648033862), (2239, 0.00557937605738046), (4639, 0.005577225590797637), (217, 0.005574999841073535), (3769, 0.00557290560101719), (230, 0.00557021688090154), (4621, 0.005569662504834382), (580, 0.005569615495575243), (1588, 0.005569113242389253), (660, 0.0055675917069529105), (1096, 0.005564575465347922), (1224, 0.005563801182246587), (482, 0.005563278991892446), (879, 0.005560684864899375), (3488, 0.005556648287702749), (1047, 0.0055532275545314425), (543, 0.005551246560502272), (1983, 0.005551083591789576), (4682, 0.005550100210235627), (4089, 0.00554969609286436), (554, 0.005548414212553495), (3531, 0.005547788043890318), (34, 0.005546213209470996), (1083, 0.005545623881415931), (4573, 0.005544860552570631), (447, 0.00553449682900593), (3666, 0.00553418552800634), (3349, 0.00552975444529945), (4275, 0.005526369963927199), (3995, 0.005525950988329442), (313, 0.005523727090879023), (651, 0.005522183276089593), (637, 0.005519429515351912), (283, 0.005519078812095479), (1542, 0.005518395349558021), (584, 0.005515049202549259), (1076, 0.005513549462663514), (3998, 0.005510483445009591), (980, 0.005508673867301137), (223, 0.005507874882051813), (2919, 0.005506150444952168), (606, 0.005503863979348), (2053, 0.005502779266787477), (1629, 0.005501857771046655), (2988, 0.005497265688851365), (3398, 0.005497044709248899), (4470, 0.0054951551949274915), (1544, 0.00549068020674901), (3153, 0.005488487536798691), (137, 0.005487504835325487), (2334, 0.005486003077557069), (1545, 0.0054849129455684055), (3233, 0.00548326739167696), (743, 0.005477043293999222), (2235, 0.005476897478550575), (1285, 0.00547606830669975), (685, 0.005475263693992224), (3446, 0.005473851726785191), (3179, 0.0054730062652913), (3595, 0.005472512175459069), (4377, 0.005469899872941771), (509, 0.005466001342418998), (4251, 0.005464501774220768), (854, 0.005458705089575052), (1431, 0.005457816175674527), (4189, 0.005451975123219959), (652, 0.005451752818471422), (3571, 0.005450218202375024), (1435, 0.0054491873659793496), (1003, 0.005448016350879129), (2784, 0.005447852527201996), (4678, 0.005447578457343286), (1761, 0.005446801500174576), (3699, 0.005444018805414845), (1832, 0.005443566518203656), (2962, 0.00544297668794762), (1958, 0.005440424998280835), (406, 0.005438000457498683), (2706, 0.0054377901980380925), (238, 0.005436204619713091), (3815, 0.005434073314619271), (145, 0.0054335373742556295), (3653, 0.005433204169735403), (1274, 0.005431997167306989), (3810, 0.005431165232832588), (1970, 0.005430540214203507), (750, 0.005430053858631639), (4345, 0.0054254793606607595), (4380, 0.005424203630390533), (3303, 0.005423990393740989), (1942, 0.005422694559400867), (1818, 0.005420214892395759), (832, 0.005419437308207921), (4037, 0.005418469862298045), (3501, 0.0054178840524789764), (2295, 0.005414722592807754), (3576, 0.005413357679136941), (3833, 0.005412821280030377), (4375, 0.005411853912762382), (336, 0.005408854894002134), (2278, 0.005407262169046286), (1991, 0.00540698256915525), (4004, 0.00540533387158547), (811, 0.005403674110148286), (2374, 0.005401738229476619), (83, 0.005401156615950404), (2991, 0.005400959844779373), (641, 0.005400642200147193), (763, 0.005399863201857614), (4012, 0.005398268484497741), (1998, 0.005394293734951399), (1472, 0.00539194873881132), (1930, 0.005388074837854381), (4677, 0.005387175843613343), (3005, 0.005387115838295868), (2166, 0.005386803497864032), (636, 0.00538285712541635), (1973, 0.005380695047051465), (3609, 0.005378267239579169), (3670, 0.0053755480242725475), (628, 0.005373806891083715), (2184, 0.005372981887162807), (1232, 0.005371097039035753), (30, 0.0053709329702152885), (2606, 0.005366792175336934), (696, 0.005364923918825037), (3436, 0.005364250254125557), (4690, 0.0053640347588357245), (553, 0.005363346073079347), (2885, 0.00536214550481876), (2284, 0.005358739158859642), (4360, 0.005358416067104528), (3125, 0.00535630829080342), (2205, 0.00535397648341062), (1191, 0.0053510020913651824), (1223, 0.005350596975470358), (4383, 0.005348597367300893), (347, 0.005348028959147901), (4568, 0.005346235725134902), (2634, 0.005344479888260759), (4715, 0.005343732023000613), (1488, 0.005343382341904085), (2344, 0.005341060185139205), (492, 0.005340225829203758), (2695, 0.005336556350808472), (1873, 0.005335256724133142), (2052, 0.0053342654352747905), (761, 0.0053307729895154185), (2558, 0.00533068327540483), (2862, 0.005330547055149116), (2958, 0.0053287005876572775), (931, 0.0053263016629236165), (370, 0.005321347754043835), (2246, 0.00531996615136522), (3330, 0.005311829825820368), (4623, 0.005310735072823419), (1420, 0.005308285606880234), (389, 0.005306299890909666), (460, 0.005305206740436086), (2513, 0.005304857890219646), (2336, 0.005300064934238212), (988, 0.005294043837642539), (2777, 0.005292490993845378), (1823, 0.005292093936895853), (1811, 0.005287119076975398), (4000, 0.005286781645153994), (4665, 0.005286327264794842), (3727, 0.005284628887574911), (2480, 0.005284171121198752), (2174, 0.005283161439333738), (3553, 0.005282498274550488), (3624, 0.005280591426472953), (2280, 0.005279881822510115), (2399, 0.005279817075236302), (3435, 0.005278176273390729), (2315, 0.0052720601069602534), (1357, 0.0052710606124976534), (122, 0.005268962279120171), (3528, 0.005268936350984087), (1066, 0.005267948513550278), (2674, 0.005265214827493846), (2274, 0.005262900083867378), (769, 0.005260206539856603), (1852, 0.005256057788567857), (1621, 0.005254413253618941), (880, 0.0052534440769536495), (4649, 0.005252832957454649), (1573, 0.005250864993596961), (1927, 0.005250808587213555), (411, 0.005250015930655423), (1857, 0.005247159601254127), (530, 0.005246716204972122), (2961, 0.0052464007311433065), (3195, 0.005245207961701309), (3306, 0.005243802004328484), (989, 0.005242437621937189), (1622, 0.0052393757103412625), (1551, 0.005238516781538528), (2069, 0.005236796356179071), (3499, 0.00523610749523212), (634, 0.00523596928162976), (4186, 0.005235872314418903), (4600, 0.0052344184079060295), (3738, 0.005231719232040949), (4284, 0.005229703865470635), (1714, 0.005229474880266655), (927, 0.005228147807223472), (1635, 0.005227184593193746), (2216, 0.0052236679251754636), (1773, 0.005222106032851793), (633, 0.0052215869167278745), (4362, 0.005218872670708805), (3130, 0.0052180639497996645), (870, 0.005211754432729378), (2632, 0.0052046973524531226), (3953, 0.005204206511251449), (4299, 0.005203187561890805), (2033, 0.00520277796708796), (4309, 0.005202219807793075), (3459, 0.005197345573257598), (4387, 0.005197127489145998), (799, 0.005195919131836079), (2759, 0.0051936156988895065), (3267, 0.005189996592243853), (4447, 0.005189284205183638), (2424, 0.005184437808924607), (2008, 0.005183376788879466), (1953, 0.005178798084187105), (1967, 0.005177923522951349), (4576, 0.005176908907682389), (3583, 0.005175356251717932), (3311, 0.00517403143871861), (3370, 0.00517364541314981), (273, 0.00517226175033217), (329, 0.005170495941091949), (632, 0.005169488014083726), (2057, 0.005168963776907197), (676, 0.005167292633883469), (790, 0.005165989311664665), (1657, 0.005165866687769836), (643, 0.0051648948058862975), (2808, 0.005164653516173321), (2058, 0.005161643788074466), (2062, 0.005160954240837996), (1671, 0.005160327778533676), (1030, 0.005159373951237871), (1481, 0.005158691462444582), (515, 0.005155750702161202), (1146, 0.0051535661320245224), (4216, 0.005150906027165416), (3336, 0.00514826436575457), (1347, 0.005148226188980777), (2245, 0.005148055939707735), (3011, 0.005146866163095474), (87, 0.005145284685800646), (4143, 0.005141482527450936), (3696, 0.005140109874390333), (1493, 0.0051385840791903685), (1421, 0.0051382841182483685), (2716, 0.005133946396319116), (112, 0.0051313557195542545), (1864, 0.005126478426850497), (3487, 0.005124601732809826), (4658, 0.005124150582509648), (3664, 0.005123247175983943), (1996, 0.005121332009001298), (1248, 0.005120981730451594), (3886, 0.0051187471952405085), (138, 0.005117708401711793), (1870, 0.005112234095791664), (18, 0.005110854767182689), (1632, 0.0051103167118969365), (4438, 0.005109961753093087), (4670, 0.00510560395406812), (3504, 0.0051051757336117885), (3970, 0.005097724230181805), (52, 0.005096233705554619), (1633, 0.00509289396633525), (1977, 0.0050926287476552035), (3498, 0.005092576942252737), (4614, 0.0050910796818546995), (1993, 0.0050889378701436975), (3824, 0.005087146622958183), (3122, 0.005084641139695648), (356, 0.005084035167107396), (3881, 0.005082865806234106), (2935, 0.005079915386894225), (4587, 0.005079881885600121), (2618, 0.005076261055137465), (4608, 0.005075770271274499), (2736, 0.00507511144761442), (2121, 0.005074224549057657), (3035, 0.005074100352862479), (1290, 0.005067339423522417), (1375, 0.005065855680350003), (1123, 0.0050655638521346575), (1132, 0.005065427003464935), (1255, 0.005064297122992238), (4441, 0.00506312282213005), (4374, 0.005059423789629347), (495, 0.005058941888233856), (360, 0.005057478090145738), (1630, 0.005057350930367402), (1631, 0.005056844319062138), (1428, 0.005052492949588674), (1211, 0.005050447040874712), (4124, 0.0050433484163907765), (4071, 0.0050431024017106914), (2598, 0.005042744169780557), (3853, 0.00503272905727797), (3819, 0.005032506407594367), (276, 0.00502557970497288), (1177, 0.005020857913961077), (2348, 0.005020406693246455), (3433, 0.005018671806364429), (1181, 0.005018111203132669), (31, 0.005012693540770542), (694, 0.005012166067378776), (3823, 0.005011390577646758), (851, 0.005010747521147139), (742, 0.005010169457307789), (1914, 0.005009240748305854), (236, 0.005006535292187219), (1451, 0.005006522761992743), (1723, 0.005003558087651863), (4548, 0.004996347634541157), (4585, 0.0049873513079487), (2496, 0.004984464954240198), (900, 0.00498345137715535), (3788, 0.004982260450112209), (810, 0.004979748652776933), (1992, 0.004979450201947616), (2971, 0.004976848832084012), (3525, 0.004972651627301015), (3966, 0.004970940119860932), (3452, 0.004970098832000046), (1662, 0.0049676340758811645), (4353, 0.004967229717749952), (4429, 0.004966263953512544), (3338, 0.004965690404908099), (1819, 0.00496562150387228), (4114, 0.004964137798399584), (1555, 0.0049618227211642), (1107, 0.004959055944139072), (1433, 0.004958697910030544), (1430, 0.004956032159774696), (4697, 0.004954418559975553), (3775, 0.004946217717631553), (3118, 0.004946171669073145), (2119, 0.004944434523989991), (2294, 0.004941331629050087), (463, 0.004939672429956526), (916, 0.004938745516070058), (1562, 0.0049369151201066365), (1623, 0.0049355718933783805), (1828, 0.004935395613862495), (1212, 0.0049344050896157265), (240, 0.004933441367547478), (1068, 0.004929164781080227), (744, 0.004929090551672962), (3854, 0.0049288867121773565), (1519, 0.004928794539379903), (4402, 0.004928467780893616), (1760, 0.004927911921752858), (1448, 0.004924940742254422), (4165, 0.004915219666188054), (304, 0.004913957714556813), (590, 0.004912449978527045), (1667, 0.004912150352371342), (3079, 0.004912133066686444), (3711, 0.004910786867694401), (695, 0.004909256020238918), (4282, 0.004906289137140742), (3958, 0.004905053136722497), (604, 0.004901935954011923), (3460, 0.004901195963702674), (4176, 0.004900989538609944), (1197, 0.004900606048115714), (829, 0.004896274140398687), (2984, 0.004893418302177564), (3876, 0.004892573803770729), (2110, 0.0048903265904248925), (1462, 0.004888769665110001), (394, 0.0048881488622374136), (1270, 0.0048863276510951025), (4235, 0.004883617774294815), (801, 0.004882375860237923), (3284, 0.004881547961593199), (4322, 0.00488017632293517), (910, 0.004879051158267652), (2020, 0.004878948164939751), (354, 0.0048776242520032894), (863, 0.004872046283583594), (4339, 0.004868753767869448), (4164, 0.004867596133482561), (124, 0.004866874786230909), (1568, 0.00486392233767137), (4689, 0.004863513207992726), (199, 0.0048599587208379424), (291, 0.004858320971664267), (1046, 0.004858178902169656), (1990, 0.004855916762463117), (511, 0.004854216396124964), (1360, 0.004850921080843265), (1840, 0.0048495054542393385), (1971, 0.004848087393217295), (1236, 0.004847243003591407), (3474, 0.004843179846659763), (3668, 0.004841353691671392), (1784, 0.004839873374794121), (1892, 0.004839867057678602), (1237, 0.004838336653939613), (1010, 0.004837748241825065), (1865, 0.004835320718734107), (968, 0.004828172638382178), (1595, 0.0048234740733981395), (3705, 0.004823014623005229), (1964, 0.004818073957420104), (4154, 0.004816239737039487), (2114, 0.004815383823982674), (1220, 0.004810659278790793), (4290, 0.004810587236213401), (2031, 0.0048096777322494885), (1535, 0.004809668389927978), (3658, 0.004806385273066832), (893, 0.004806180226908473), (563, 0.00480615627316098), (3318, 0.004803734305859733), (581, 0.00480316670009725), (898, 0.00480145989181433), (1061, 0.0047984106368318), (3974, 0.004797296051297247), (1214, 0.004796154608438463), (4475, 0.004792977822459226), (1739, 0.0047924490487546816), (4366, 0.004792441510085035), (3108, 0.004783779771957218), (1817, 0.0047832489229134465), (2191, 0.004780043558799257), (3841, 0.0047798424516356805), (2607, 0.004777504233401078), (3801, 0.004775293130120894), (4106, 0.004771864909208435), (932, 0.0047646116401190335), (2580, 0.004759856495209713), (732, 0.004758073660829784), (1414, 0.004755000475867265), (4582, 0.004754280309143714), (2929, 0.004753687997005877), (2227, 0.004752854857246028), (559, 0.004748500938089388), (2969, 0.004743932405852529), (3495, 0.004739495565308863), (2871, 0.004739242533499495), (2724, 0.004736208807128044), (1694, 0.0047322928584858474), (47, 0.004730933896324286), (1009, 0.004728366446043523), (2844, 0.0047240350328049486), (2025, 0.004718339854317518), (4015, 0.00471828113841095), (979, 0.004713081476571153), (200, 0.004709604810639304), (166, 0.004707200260413024), (2074, 0.0047053831568712335), (1608, 0.00470468495520167), (555, 0.004704594199250227), (1241, 0.004702114546937284), (1296, 0.004701107105314284), (2617, 0.004699214080829572), (808, 0.00469881644215076), (2439, 0.004696029718207955), (4365, 0.004694673108472969), (2913, 0.0046915139502622365), (222, 0.0046912380401224986), (319, 0.0046866169190232666), (4679, 0.00468589840431226), (3160, 0.004681811692547216), (3910, 0.00467938238275662), (3619, 0.0046762936145633175), (187, 0.004675180959512318), (3403, 0.00466966143979988), (4468, 0.004653703825325267), (1925, 0.004652869593222478), (1018, 0.0046478858915387535), (1590, 0.004647076427205926), (3852, 0.004644143935138849), (440, 0.004633936591477112), (2692, 0.004628370144810393), (4488, 0.004620897654667229), (4096, 0.00461759744335297), (1559, 0.0046128845089717894), (733, 0.0046116445305455995), (1699, 0.004611464738215304), (147, 0.004611297333264954), (99, 0.004609621420286326), (642, 0.004603845087273251), (629, 0.004602515011139597), (4426, 0.00459893679427784), (1838, 0.004593297182844189), (861, 0.004589781251905812), (625, 0.004586760474568807), (1753, 0.004581483281021483), (4158, 0.004576478753476579), (2801, 0.004572192028733984), (2447, 0.004571386661830023), (3279, 0.004567193302969009), (1215, 0.004562268945011956), (2070, 0.0045589788066293015), (4344, 0.004556148034647844), (2981, 0.004553111875677987), (190, 0.004548400801543971), (1120, 0.004544164504874196), (3344, 0.004526553326166462), (2541, 0.004523036398451161), (2771, 0.004522645812951234), (1202, 0.004521010709021007), (1845, 0.004507277841131911), (1300, 0.00450689155300506), (970, 0.004503239375563999), (1910, 0.0045027683862274275), (617, 0.004500051509822949), (1467, 0.0044997189487093366), (3674, 0.004499174404295525), (3806, 0.004496501395250349), (1320, 0.004490048311241878), (159, 0.0044765980669390715), (2113, 0.00447593180466707), (2767, 0.0044624272159244135), (3713, 0.004443857701804906), (2355, 0.004443581454004479), (3331, 0.004443023011372071), (16, 0.004442473169560236), (3484, 0.004432561121966746), (2789, 0.004430366639898749), (2602, 0.004422549553432679), (1728, 0.004418462366829233), (4513, 0.004409033484948808), (149, 0.00440142533073831), (2318, 0.004400813707128842), (3957, 0.0043932310334447375), (1005, 0.004371910080256863), (3317, 0.0043655411115977195), (433, 0.004359892344022461), (3756, 0.004359821943171094), (438, 0.004357301544752684), (942, 0.004333096438244791), (3645, 0.004311258200738242), (4373, 0.004305795028958946), (3944, 0.004296447832399759), (2524, 0.0042948742420023615), (4445, 0.004293904704285183), (3989, 0.004293855567141934), (953, 0.0042914653602810805), (1395, 0.004290336041183014), (4674, 0.004280875223580846), (2925, 0.004279421097345938), (877, 0.004262403661001099), (4261, 0.004243633676091641), (3471, 0.004237887915711001), (561, 0.004217798888649296), (1701, 0.004208796454329292), (2917, 0.004198198903190734), (684, 0.00419710605434477), (2326, 0.004185259957705061), (929, 0.004126057926557299), (853, 0.004121019132769627), (571, 0.0041094985645234484), (4752, 0.004097127312703989), (1774, 0.004069668228679016), (562, 0.004043590244567088), (77, 0.00401705517764103), (1351, 0.003930712343962958), (831, 0.003762740196477922), (243, 0.0037524694202751515), (1506, 0.003650040739531033), (1509, 0.0036411711668963807), (3456, 0.003640213053957379), (2443, 0.0035004315761613457), (0, 0.0), (2, 0.0), (3, 0.0), (4, 0.0), (5, 0.0), (7, 0.0), (8, 0.0), (11, 0.0), (12, 0.0), (13, 0.0), (14, 0.0), (15, 0.0), (20, 0.0), (22, 0.0), (23, 0.0), (24, 0.0), (25, 0.0), (28, 0.0), (29, 0.0), (33, 0.0), (42, 0.0), (43, 0.0), (49, 0.0), (50, 0.0), (60, 0.0), (61, 0.0), (62, 0.0), (64, 0.0), (66, 0.0), (71, 0.0), (74, 0.0), (81, 0.0), (82, 0.0), (86, 0.0), (96, 0.0), (97, 0.0), (98, 0.0), (100, 0.0), (103, 0.0), (104, 0.0), (105, 0.0), (106, 0.0), (108, 0.0), (109, 0.0), (111, 0.0), (113, 0.0), (114, 0.0), (115, 0.0), (117, 0.0), (120, 0.0), (121, 0.0), (126, 0.0), (127, 0.0), (129, 0.0), (131, 0.0), (132, 0.0), (133, 0.0), (134, 0.0), (136, 0.0), (140, 0.0), (141, 0.0), (142, 0.0), (146, 0.0), (154, 0.0), (155, 0.0), (156, 0.0), (157, 0.0), (158, 0.0), (161, 0.0), (163, 0.0), (164, 0.0), (167, 0.0), (168, 0.0), (169, 0.0), (172, 0.0), (173, 0.0), (174, 0.0), (175, 0.0), (176, 0.0), (177, 0.0), (178, 0.0), (183, 0.0), (184, 0.0), (186, 0.0), (188, 0.0), (192, 0.0), (193, 0.0), (194, 0.0), (195, 0.0), (196, 0.0), (197, 0.0), (198, 0.0), (202, 0.0), (203, 0.0), (204, 0.0), (205, 0.0), (206, 0.0), (209, 0.0), (211, 0.0), (212, 0.0), (213, 0.0), (214, 0.0), (215, 0.0), (216, 0.0), (221, 0.0), (224, 0.0), (225, 0.0), (226, 0.0), (227, 0.0), (228, 0.0), (229, 0.0), (235, 0.0), (245, 0.0), (246, 0.0), (248, 0.0), (249, 0.0), (251, 0.0), (253, 0.0), (254, 0.0), (256, 0.0), (262, 0.0), (265, 0.0), (267, 0.0), (268, 0.0), (270, 0.0), (272, 0.0), (274, 0.0), (275, 0.0), (278, 0.0), (279, 0.0), (280, 0.0), (281, 0.0), (282, 0.0), (285, 0.0), (287, 0.0), (293, 0.0), (302, 0.0), (307, 0.0), (308, 0.0), (309, 0.0), (311, 0.0), (312, 0.0), (317, 0.0), (324, 0.0), (325, 0.0), (326, 0.0), (330, 0.0), (331, 0.0), (335, 0.0), (337, 0.0), (339, 0.0), (342, 0.0), (343, 0.0), (344, 0.0), (346, 0.0), (348, 0.0), (349, 0.0), (351, 0.0), (352, 0.0), (355, 0.0), (357, 0.0), (358, 0.0), (359, 0.0), (366, 0.0), (367, 0.0), (369, 0.0), (372, 0.0), (373, 0.0), (374, 0.0), (376, 0.0), (377, 0.0), (378, 0.0), (383, 0.0), (384, 0.0), (385, 0.0), (387, 0.0), (388, 0.0), (391, 0.0), (392, 0.0), (393, 0.0), (395, 0.0), (396, 0.0), (398, 0.0), (399, 0.0), (400, 0.0), (402, 0.0), (403, 0.0), (404, 0.0), (405, 0.0), (407, 0.0), (408, 0.0), (410, 0.0), (412, 0.0), (414, 0.0), (415, 0.0), (416, 0.0), (422, 0.0), (423, 0.0), (427, 0.0), (430, 0.0), (431, 0.0), (432, 0.0), (434, 0.0), (437, 0.0), (439, 0.0), (441, 0.0), (444, 0.0), (445, 0.0), (446, 0.0), (448, 0.0), (449, 0.0), (453, 0.0), (454, 0.0), (455, 0.0), (456, 0.0), (459, 0.0), (464, 0.0), (465, 0.0), (466, 0.0), (471, 0.0), (473, 0.0), (474, 0.0), (475, 0.0), (476, 0.0), (478, 0.0), (479, 0.0), (480, 0.0), (483, 0.0), (485, 0.0), (486, 0.0), (487, 0.0), (488, 0.0), (489, 0.0), (490, 0.0), (499, 0.0), (503, 0.0), (504, 0.0), (505, 0.0), (506, 0.0), (507, 0.0), (508, 0.0), (510, 0.0), (518, 0.0), (520, 0.0), (521, 0.0), (522, 0.0), (524, 0.0), (525, 0.0), (526, 0.0), (527, 0.0), (529, 0.0), (531, 0.0), (535, 0.0), (536, 0.0), (538, 0.0), (541, 0.0), (544, 0.0), (547, 0.0), (549, 0.0), (551, 0.0), (552, 0.0), (556, 0.0), (557, 0.0), (558, 0.0), (564, 0.0), (566, 0.0), (573, 0.0), (574, 0.0), (575, 0.0), (576, 0.0), (577, 0.0), (578, 0.0), (579, 0.0), (582, 0.0), (583, 0.0), (585, 0.0), (587, 0.0), (588, 0.0), (589, 0.0), (593, 0.0), (596, 0.0), (597, 0.0), (598, 0.0), (605, 0.0), (607, 0.0), (609, 0.0), (611, 0.0), (612, 0.0), (616, 0.0), (618, 0.0), (620, 0.0), (623, 0.0), (624, 0.0), (626, 0.0), (630, 0.0), (638, 0.0), (645, 0.0), (646, 0.0), (647, 0.0), (648, 0.0), (649, 0.0), (655, 0.0), (657, 0.0), (658, 0.0), (659, 0.0), (662, 0.0), (663, 0.0), (664, 0.0), (665, 0.0), (671, 0.0), (679, 0.0), (680, 0.0), (691, 0.0), (693, 0.0), (697, 0.0), (698, 0.0), (702, 0.0), (703, 0.0), (704, 0.0), (705, 0.0), (706, 0.0), (707, 0.0), (708, 0.0), (709, 0.0), (710, 0.0), (711, 0.0), (712, 0.0), (717, 0.0), (718, 0.0), (721, 0.0), (722, 0.0), (730, 0.0), (731, 0.0), (734, 0.0), (735, 0.0), (736, 0.0), (737, 0.0), (739, 0.0), (740, 0.0), (741, 0.0), (747, 0.0), (752, 0.0), (754, 0.0), (755, 0.0), (757, 0.0), (758, 0.0), (759, 0.0), (764, 0.0), (766, 0.0), (767, 0.0), (768, 0.0), (770, 0.0), (771, 0.0), (772, 0.0), (773, 0.0), (774, 0.0), (776, 0.0), (777, 0.0), (778, 0.0), (780, 0.0), (781, 0.0), (782, 0.0), (783, 0.0), (784, 0.0), (785, 0.0), (786, 0.0), (787, 0.0), (788, 0.0), (789, 0.0), (791, 0.0), (792, 0.0), (794, 0.0), (796, 0.0), (797, 0.0), (798, 0.0), (805, 0.0), (806, 0.0), (807, 0.0), (812, 0.0), (814, 0.0), (815, 0.0), (816, 0.0), (817, 0.0), (818, 0.0), (819, 0.0), (820, 0.0), (822, 0.0), (823, 0.0), (824, 0.0), (828, 0.0), (830, 0.0), (833, 0.0), (834, 0.0), (835, 0.0), (836, 0.0), (837, 0.0), (839, 0.0), (840, 0.0), (843, 0.0), (844, 0.0), (846, 0.0), (847, 0.0), (850, 0.0), (858, 0.0), (859, 0.0), (862, 0.0), (865, 0.0), (867, 0.0), (873, 0.0), (874, 0.0), (881, 0.0), (883, 0.0), (884, 0.0), (885, 0.0), (886, 0.0), (887, 0.0), (889, 0.0), (890, 0.0), (892, 0.0), (894, 0.0), (895, 0.0), (897, 0.0), (899, 0.0), (901, 0.0), (906, 0.0), (907, 0.0), (912, 0.0), (917, 0.0), (922, 0.0), (924, 0.0), (925, 0.0), (933, 0.0), (934, 0.0), (938, 0.0), (939, 0.0), (940, 0.0), (941, 0.0), (944, 0.0), (950, 0.0), (955, 0.0), (957, 0.0), (958, 0.0), (959, 0.0), (960, 0.0), (961, 0.0), (962, 0.0), (964, 0.0), (969, 0.0), (971, 0.0), (972, 0.0), (973, 0.0), (975, 0.0), (978, 0.0), (982, 0.0), (983, 0.0), (984, 0.0), (985, 0.0), (987, 0.0), (993, 0.0), (995, 0.0), (998, 0.0), (999, 0.0), (1002, 0.0), (1004, 0.0), (1006, 0.0), (1008, 0.0), (1019, 0.0), (1020, 0.0), (1021, 0.0), (1025, 0.0), (1026, 0.0), (1027, 0.0), (1028, 0.0), (1029, 0.0), (1032, 0.0), (1033, 0.0), (1034, 0.0), (1036, 0.0), (1037, 0.0), (1038, 0.0), (1040, 0.0), (1042, 0.0), (1043, 0.0), (1048, 0.0), (1049, 0.0), (1052, 0.0), (1053, 0.0), (1055, 0.0), (1059, 0.0), (1060, 0.0), (1062, 0.0), (1070, 0.0), (1072, 0.0), (1073, 0.0), (1075, 0.0), (1077, 0.0), (1078, 0.0), (1080, 0.0), (1081, 0.0), (1084, 0.0), (1086, 0.0), (1088, 0.0), (1089, 0.0), (1093, 0.0), (1094, 0.0), (1095, 0.0), (1097, 0.0), (1098, 0.0), (1100, 0.0), (1103, 0.0), (1105, 0.0), (1106, 0.0), (1109, 0.0), (1110, 0.0), (1112, 0.0), (1116, 0.0), (1117, 0.0), (1121, 0.0), (1124, 0.0), (1125, 0.0), (1128, 0.0), (1130, 0.0), (1131, 0.0), (1133, 0.0), (1136, 0.0), (1139, 0.0), (1142, 0.0), (1143, 0.0), (1144, 0.0), (1149, 0.0), (1152, 0.0), (1155, 0.0), (1156, 0.0), (1157, 0.0), (1159, 0.0), (1160, 0.0), (1161, 0.0), (1163, 0.0), (1166, 0.0), (1168, 0.0), (1169, 0.0), (1170, 0.0), (1171, 0.0), (1176, 0.0), (1178, 0.0), (1180, 0.0), (1182, 0.0), (1186, 0.0), (1187, 0.0), (1189, 0.0), (1190, 0.0), (1193, 0.0), (1196, 0.0), (1199, 0.0), (1200, 0.0), (1201, 0.0), (1203, 0.0), (1204, 0.0), (1205, 0.0), (1208, 0.0), (1209, 0.0), (1213, 0.0), (1216, 0.0), (1217, 0.0), (1218, 0.0), (1222, 0.0), (1227, 0.0), (1233, 0.0), (1234, 0.0), (1235, 0.0), (1239, 0.0), (1243, 0.0), (1245, 0.0), (1246, 0.0), (1247, 0.0), (1249, 0.0), (1250, 0.0), (1251, 0.0), (1256, 0.0), (1260, 0.0), (1261, 0.0), (1264, 0.0), (1267, 0.0), (1268, 0.0), (1277, 0.0), (1278, 0.0), (1282, 0.0), (1284, 0.0), (1286, 0.0), (1289, 0.0), (1291, 0.0), (1295, 0.0), (1297, 0.0), (1298, 0.0), (1299, 0.0), (1304, 0.0), (1305, 0.0), (1306, 0.0), (1311, 0.0), (1312, 0.0), (1313, 0.0), (1316, 0.0), (1317, 0.0), (1318, 0.0), (1319, 0.0), (1322, 0.0), (1323, 0.0), (1329, 0.0), (1330, 0.0), (1331, 0.0), (1334, 0.0), (1336, 0.0), (1339, 0.0), (1340, 0.0), (1344, 0.0), (1345, 0.0), (1349, 0.0), (1353, 0.0), (1355, 0.0), (1359, 0.0), (1361, 0.0), (1362, 0.0), (1363, 0.0), (1364, 0.0), (1365, 0.0), (1367, 0.0), (1370, 0.0), (1371, 0.0), (1372, 0.0), (1376, 0.0), (1378, 0.0), (1382, 0.0), (1392, 0.0), (1394, 0.0), (1399, 0.0), (1402, 0.0), (1403, 0.0), (1404, 0.0), (1405, 0.0), (1409, 0.0), (1410, 0.0), (1411, 0.0), (1415, 0.0), (1416, 0.0), (1422, 0.0), (1423, 0.0), (1424, 0.0), (1425, 0.0), (1427, 0.0), (1434, 0.0), (1438, 0.0), (1439, 0.0), (1441, 0.0), (1444, 0.0), (1445, 0.0), (1446, 0.0), (1447, 0.0), (1450, 0.0), (1453, 0.0), (1456, 0.0), (1457, 0.0), (1461, 0.0), (1463, 0.0), (1464, 0.0), (1465, 0.0), (1473, 0.0), (1476, 0.0), (1477, 0.0), (1479, 0.0), (1482, 0.0), (1485, 0.0), (1487, 0.0), (1491, 0.0), (1492, 0.0), (1494, 0.0), (1496, 0.0), (1497, 0.0), (1499, 0.0), (1500, 0.0), (1501, 0.0), (1505, 0.0), (1507, 0.0), (1508, 0.0), (1517, 0.0), (1518, 0.0), (1520, 0.0), (1523, 0.0), (1524, 0.0), (1525, 0.0), (1526, 0.0), (1528, 0.0), (1532, 0.0), (1533, 0.0), (1534, 0.0), (1538, 0.0), (1539, 0.0), (1541, 0.0), (1543, 0.0), (1549, 0.0), (1550, 0.0), (1553, 0.0), (1556, 0.0), (1557, 0.0), (1558, 0.0), (1561, 0.0), (1563, 0.0), (1565, 0.0), (1569, 0.0), (1571, 0.0), (1574, 0.0), (1578, 0.0), (1580, 0.0), (1583, 0.0), (1584, 0.0), (1585, 0.0), (1586, 0.0), (1589, 0.0), (1593, 0.0), (1594, 0.0), (1596, 0.0), (1597, 0.0), (1602, 0.0), (1605, 0.0), (1606, 0.0), (1609, 0.0), (1610, 0.0), (1612, 0.0), (1613, 0.0), (1616, 0.0), (1617, 0.0), (1618, 0.0), (1619, 0.0), (1620, 0.0), (1624, 0.0), (1625, 0.0), (1626, 0.0), (1628, 0.0), (1634, 0.0), (1636, 0.0), (1637, 0.0), (1638, 0.0), (1639, 0.0), (1641, 0.0), (1642, 0.0), (1644, 0.0), (1646, 0.0), (1647, 0.0), (1648, 0.0), (1652, 0.0), (1654, 0.0), (1655, 0.0), (1656, 0.0), (1658, 0.0), (1660, 0.0), (1663, 0.0), (1668, 0.0), (1669, 0.0), (1670, 0.0), (1672, 0.0), (1673, 0.0), (1674, 0.0), (1676, 0.0), (1677, 0.0), (1679, 0.0), (1682, 0.0), (1683, 0.0), (1684, 0.0), (1685, 0.0), (1688, 0.0), (1689, 0.0), (1690, 0.0), (1691, 0.0), (1693, 0.0), (1695, 0.0), (1698, 0.0), (1702, 0.0), (1703, 0.0), (1704, 0.0), (1707, 0.0), (1710, 0.0), (1712, 0.0), (1715, 0.0), (1717, 0.0), (1718, 0.0), (1719, 0.0), (1720, 0.0), (1722, 0.0), (1726, 0.0), (1729, 0.0), (1730, 0.0), (1733, 0.0), (1737, 0.0), (1741, 0.0), (1742, 0.0), (1743, 0.0), (1744, 0.0), (1746, 0.0), (1747, 0.0), (1748, 0.0), (1750, 0.0), (1752, 0.0), (1754, 0.0), (1756, 0.0), (1757, 0.0), (1759, 0.0), (1762, 0.0), (1763, 0.0), (1765, 0.0), (1766, 0.0), (1767, 0.0), (1768, 0.0), (1769, 0.0), (1771, 0.0), (1775, 0.0), (1776, 0.0), (1777, 0.0), (1778, 0.0), (1780, 0.0), (1782, 0.0), (1783, 0.0), (1785, 0.0), (1786, 0.0), (1787, 0.0), (1790, 0.0), (1792, 0.0), (1793, 0.0), (1794, 0.0), (1795, 0.0), (1800, 0.0), (1801, 0.0), (1803, 0.0), (1804, 0.0), (1805, 0.0), (1806, 0.0), (1807, 0.0), (1808, 0.0), (1813, 0.0), (1814, 0.0), (1816, 0.0), (1820, 0.0), (1821, 0.0), (1824, 0.0), (1825, 0.0), (1826, 0.0), (1827, 0.0), (1830, 0.0), (1831, 0.0), (1834, 0.0), (1835, 0.0), (1836, 0.0), (1837, 0.0), (1839, 0.0), (1842, 0.0), (1843, 0.0), (1848, 0.0), (1849, 0.0), (1851, 0.0), (1854, 0.0), (1856, 0.0), (1858, 0.0), (1860, 0.0), (1861, 0.0), (1862, 0.0), (1863, 0.0), (1867, 0.0), (1868, 0.0), (1869, 0.0), (1871, 0.0), (1872, 0.0), (1874, 0.0), (1875, 0.0), (1877, 0.0), (1878, 0.0), (1879, 0.0), (1880, 0.0), (1882, 0.0), (1884, 0.0), (1885, 0.0), (1887, 0.0), (1888, 0.0), (1890, 0.0), (1891, 0.0), (1893, 0.0), (1899, 0.0), (1903, 0.0), (1905, 0.0), (1906, 0.0), (1907, 0.0), (1909, 0.0), (1913, 0.0), (1915, 0.0), (1916, 0.0), (1917, 0.0), (1920, 0.0), (1921, 0.0), (1922, 0.0), (1923, 0.0), (1928, 0.0), (1929, 0.0), (1935, 0.0), (1938, 0.0), (1943, 0.0), (1944, 0.0), (1946, 0.0), (1947, 0.0), (1950, 0.0), (1951, 0.0), (1954, 0.0), (1956, 0.0), (1957, 0.0), (1959, 0.0), (1963, 0.0), (1966, 0.0), (1969, 0.0), (1972, 0.0), (1974, 0.0), (1978, 0.0), (1979, 0.0), (1980, 0.0), (1981, 0.0), (1984, 0.0), (1986, 0.0), (1988, 0.0), (1994, 0.0), (1995, 0.0), (2000, 0.0), (2001, 0.0), (2002, 0.0), (2003, 0.0), (2004, 0.0), (2005, 0.0), (2007, 0.0), (2009, 0.0), (2011, 0.0), (2017, 0.0), (2018, 0.0), (2023, 0.0), (2026, 0.0), (2027, 0.0), (2029, 0.0), (2030, 0.0), (2032, 0.0), (2035, 0.0), (2036, 0.0), (2038, 0.0), (2039, 0.0), (2041, 0.0), (2042, 0.0), (2043, 0.0), (2046, 0.0), (2047, 0.0), (2049, 0.0), (2051, 0.0), (2054, 0.0), (2056, 0.0), (2059, 0.0), (2060, 0.0), (2063, 0.0), (2064, 0.0), (2068, 0.0), (2071, 0.0), (2072, 0.0), (2073, 0.0), (2076, 0.0), (2079, 0.0), (2080, 0.0), (2086, 0.0), (2087, 0.0), (2090, 0.0), (2092, 0.0), (2097, 0.0), (2098, 0.0), (2099, 0.0), (2101, 0.0), (2102, 0.0), (2105, 0.0), (2106, 0.0), (2107, 0.0), (2108, 0.0), (2109, 0.0), (2111, 0.0), (2116, 0.0), (2118, 0.0), (2120, 0.0), (2122, 0.0), (2123, 0.0), (2126, 0.0), (2128, 0.0), (2129, 0.0), (2131, 0.0), (2132, 0.0), (2133, 0.0), (2134, 0.0), (2135, 0.0), (2137, 0.0), (2138, 0.0), (2140, 0.0), (2141, 0.0), (2142, 0.0), (2143, 0.0), (2144, 0.0), (2145, 0.0), (2146, 0.0), (2147, 0.0), (2148, 0.0), (2149, 0.0), (2151, 0.0), (2152, 0.0), (2155, 0.0), (2156, 0.0), (2157, 0.0), (2158, 0.0), (2159, 0.0), (2160, 0.0), (2162, 0.0), (2163, 0.0), (2165, 0.0), (2167, 0.0), (2168, 0.0), (2169, 0.0), (2170, 0.0), (2173, 0.0), (2175, 0.0), (2176, 0.0), (2179, 0.0), (2186, 0.0), (2187, 0.0), (2189, 0.0), (2190, 0.0), (2192, 0.0), (2193, 0.0), (2194, 0.0), (2195, 0.0), (2199, 0.0), (2200, 0.0), (2201, 0.0), (2202, 0.0), (2203, 0.0), (2204, 0.0), (2207, 0.0), (2209, 0.0), (2211, 0.0), (2213, 0.0), (2215, 0.0), (2219, 0.0), (2220, 0.0), (2222, 0.0), (2223, 0.0), (2225, 0.0), (2226, 0.0), (2228, 0.0), (2230, 0.0), (2234, 0.0), (2236, 0.0), (2240, 0.0), (2242, 0.0), (2244, 0.0), (2247, 0.0), (2248, 0.0), (2250, 0.0), (2251, 0.0), (2253, 0.0), (2256, 0.0), (2257, 0.0), (2258, 0.0), (2260, 0.0), (2261, 0.0), (2262, 0.0), (2263, 0.0), (2264, 0.0), (2265, 0.0), (2266, 0.0), (2267, 0.0), (2268, 0.0), (2269, 0.0), (2270, 0.0), (2271, 0.0), (2272, 0.0), (2279, 0.0), (2281, 0.0), (2282, 0.0), (2286, 0.0), (2288, 0.0), (2289, 0.0), (2290, 0.0), (2291, 0.0), (2292, 0.0), (2293, 0.0), (2297, 0.0), (2299, 0.0), (2300, 0.0), (2301, 0.0), (2302, 0.0), (2303, 0.0), (2304, 0.0), (2305, 0.0), (2306, 0.0), (2307, 0.0), (2308, 0.0), (2309, 0.0), (2310, 0.0), (2311, 0.0), (2312, 0.0), (2313, 0.0), (2317, 0.0), (2319, 0.0), (2320, 0.0), (2321, 0.0), (2322, 0.0), (2323, 0.0), (2325, 0.0), (2327, 0.0), (2331, 0.0), (2333, 0.0), (2335, 0.0), (2338, 0.0), (2339, 0.0), (2340, 0.0), (2341, 0.0), (2342, 0.0), (2343, 0.0), (2345, 0.0), (2346, 0.0), (2347, 0.0), (2349, 0.0), (2350, 0.0), (2351, 0.0), (2354, 0.0), (2357, 0.0), (2358, 0.0), (2359, 0.0), (2360, 0.0), (2362, 0.0), (2366, 0.0), (2367, 0.0), (2368, 0.0), (2369, 0.0), (2370, 0.0), (2371, 0.0), (2373, 0.0), (2375, 0.0), (2376, 0.0), (2377, 0.0), (2379, 0.0), (2380, 0.0), (2382, 0.0), (2384, 0.0), (2385, 0.0), (2386, 0.0), (2387, 0.0), (2388, 0.0), (2390, 0.0), (2391, 0.0), (2392, 0.0), (2393, 0.0), (2394, 0.0), (2395, 0.0), (2396, 0.0), (2397, 0.0), (2398, 0.0), (2400, 0.0), (2401, 0.0), (2402, 0.0), (2403, 0.0), (2404, 0.0), (2405, 0.0), (2407, 0.0), (2408, 0.0), (2410, 0.0), (2411, 0.0), (2416, 0.0), (2417, 0.0), (2418, 0.0), (2419, 0.0), (2420, 0.0), (2422, 0.0), (2423, 0.0), (2425, 0.0), (2430, 0.0), (2431, 0.0), (2434, 0.0), (2435, 0.0), (2436, 0.0), (2438, 0.0), (2440, 0.0), (2441, 0.0), (2445, 0.0), (2446, 0.0), (2448, 0.0), (2449, 0.0), (2452, 0.0), (2453, 0.0), (2454, 0.0), (2455, 0.0), (2456, 0.0), (2457, 0.0), (2460, 0.0), (2461, 0.0), (2462, 0.0), (2463, 0.0), (2464, 0.0), (2465, 0.0), (2466, 0.0), (2467, 0.0), (2469, 0.0), (2471, 0.0), (2475, 0.0), (2478, 0.0), (2481, 0.0), (2482, 0.0), (2483, 0.0), (2484, 0.0), (2485, 0.0), (2487, 0.0), (2488, 0.0), (2489, 0.0), (2490, 0.0), (2491, 0.0), (2492, 0.0), (2494, 0.0), (2495, 0.0), (2497, 0.0), (2498, 0.0), (2500, 0.0), (2502, 0.0), (2503, 0.0), (2505, 0.0), (2507, 0.0), (2508, 0.0), (2509, 0.0), (2510, 0.0), (2511, 0.0), (2514, 0.0), (2515, 0.0), (2516, 0.0), (2517, 0.0), (2518, 0.0), (2520, 0.0), (2523, 0.0), (2525, 0.0), (2526, 0.0), (2527, 0.0), (2528, 0.0), (2531, 0.0), (2533, 0.0), (2534, 0.0), (2535, 0.0), (2536, 0.0), (2537, 0.0), (2538, 0.0), (2542, 0.0), (2543, 0.0), (2545, 0.0), (2546, 0.0), (2548, 0.0), (2550, 0.0), (2552, 0.0), (2553, 0.0), (2556, 0.0), (2557, 0.0), (2560, 0.0), (2561, 0.0), (2563, 0.0), (2564, 0.0), (2565, 0.0), (2566, 0.0), (2568, 0.0), (2570, 0.0), (2571, 0.0), (2572, 0.0), (2577, 0.0), (2578, 0.0), (2579, 0.0), (2582, 0.0), (2583, 0.0), (2585, 0.0), (2586, 0.0), (2587, 0.0), (2588, 0.0), (2589, 0.0), (2591, 0.0), (2592, 0.0), (2593, 0.0), (2594, 0.0), (2595, 0.0), (2596, 0.0), (2597, 0.0), (2601, 0.0), (2603, 0.0), (2604, 0.0), (2608, 0.0), (2610, 0.0), (2611, 0.0), (2612, 0.0), (2613, 0.0), (2614, 0.0), (2619, 0.0), (2620, 0.0), (2623, 0.0), (2624, 0.0), (2627, 0.0), (2628, 0.0), (2629, 0.0), (2631, 0.0), (2633, 0.0), (2635, 0.0), (2636, 0.0), (2639, 0.0), (2643, 0.0), (2644, 0.0), (2648, 0.0), (2649, 0.0), (2650, 0.0), (2651, 0.0), (2652, 0.0), (2653, 0.0), (2654, 0.0), (2656, 0.0), (2658, 0.0), (2660, 0.0), (2661, 0.0), (2662, 0.0), (2663, 0.0), (2664, 0.0), (2665, 0.0), (2666, 0.0), (2669, 0.0), (2671, 0.0), (2673, 0.0), (2675, 0.0), (2677, 0.0), (2678, 0.0), (2679, 0.0), (2681, 0.0), (2684, 0.0), (2685, 0.0), (2686, 0.0), (2687, 0.0), (2690, 0.0), (2693, 0.0), (2694, 0.0), (2696, 0.0), (2698, 0.0), (2699, 0.0), (2701, 0.0), (2702, 0.0), (2703, 0.0), (2704, 0.0), (2705, 0.0), (2708, 0.0), (2709, 0.0), (2712, 0.0), (2717, 0.0), (2719, 0.0), (2721, 0.0), (2722, 0.0), (2723, 0.0), (2726, 0.0), (2728, 0.0), (2730, 0.0), (2731, 0.0), (2732, 0.0), (2734, 0.0), (2735, 0.0), (2737, 0.0), (2738, 0.0), (2739, 0.0), (2743, 0.0), (2744, 0.0), (2745, 0.0), (2746, 0.0), (2747, 0.0), (2748, 0.0), (2750, 0.0), (2752, 0.0), (2753, 0.0), (2756, 0.0), (2757, 0.0), (2758, 0.0), (2760, 0.0), (2761, 0.0), (2762, 0.0), (2764, 0.0), (2765, 0.0), (2766, 0.0), (2769, 0.0), (2770, 0.0), (2773, 0.0), (2775, 0.0), (2776, 0.0), (2779, 0.0), (2781, 0.0), (2782, 0.0), (2783, 0.0), (2785, 0.0), (2786, 0.0), (2792, 0.0), (2793, 0.0), (2794, 0.0), (2796, 0.0), (2797, 0.0), (2798, 0.0), (2799, 0.0), (2802, 0.0), (2805, 0.0), (2807, 0.0), (2809, 0.0), (2812, 0.0), (2813, 0.0), (2814, 0.0), (2816, 0.0), (2817, 0.0), (2818, 0.0), (2821, 0.0), (2823, 0.0), (2824, 0.0), (2827, 0.0), (2828, 0.0), (2829, 0.0), (2831, 0.0), (2832, 0.0), (2833, 0.0), (2834, 0.0), (2835, 0.0), (2836, 0.0), (2837, 0.0), (2838, 0.0), (2839, 0.0), (2841, 0.0), (2845, 0.0), (2846, 0.0), (2848, 0.0), (2849, 0.0), (2851, 0.0), (2852, 0.0), (2853, 0.0), (2855, 0.0), (2856, 0.0), (2857, 0.0), (2858, 0.0), (2859, 0.0), (2861, 0.0), (2863, 0.0), (2865, 0.0), (2866, 0.0), (2868, 0.0), (2869, 0.0), (2870, 0.0), (2872, 0.0), (2873, 0.0), (2874, 0.0), (2875, 0.0), (2876, 0.0), (2877, 0.0), (2878, 0.0), (2882, 0.0), (2883, 0.0), (2884, 0.0), (2886, 0.0), (2889, 0.0), (2890, 0.0), (2891, 0.0), (2892, 0.0), (2893, 0.0), (2894, 0.0), (2896, 0.0), (2897, 0.0), (2900, 0.0), (2901, 0.0), (2902, 0.0), (2904, 0.0), (2905, 0.0), (2906, 0.0), (2907, 0.0), (2909, 0.0), (2912, 0.0), (2914, 0.0), (2915, 0.0), (2916, 0.0), (2921, 0.0), (2923, 0.0), (2924, 0.0), (2926, 0.0), (2928, 0.0), (2930, 0.0), (2931, 0.0), (2933, 0.0), (2934, 0.0), (2936, 0.0), (2938, 0.0), (2941, 0.0), (2942, 0.0), (2945, 0.0), (2951, 0.0), (2952, 0.0), (2953, 0.0), (2954, 0.0), (2957, 0.0), (2964, 0.0), (2965, 0.0), (2966, 0.0), (2967, 0.0), (2968, 0.0), (2970, 0.0), (2972, 0.0), (2973, 0.0), (2974, 0.0), (2976, 0.0), (2977, 0.0), (2980, 0.0), (2982, 0.0), (2983, 0.0), (2985, 0.0), (2986, 0.0), (2987, 0.0), (2993, 0.0), (2994, 0.0), (2995, 0.0), (2997, 0.0), (2999, 0.0), (3000, 0.0), (3001, 0.0), (3003, 0.0), (3004, 0.0), (3006, 0.0), (3007, 0.0), (3008, 0.0), (3009, 0.0), (3010, 0.0), (3013, 0.0), (3014, 0.0), (3015, 0.0), (3016, 0.0), (3017, 0.0), (3018, 0.0), (3020, 0.0), (3021, 0.0), (3023, 0.0), (3025, 0.0), (3026, 0.0), (3027, 0.0), (3028, 0.0), (3029, 0.0), (3030, 0.0), (3031, 0.0), (3033, 0.0), (3034, 0.0), (3036, 0.0), (3037, 0.0), (3038, 0.0), (3039, 0.0), (3040, 0.0), (3041, 0.0), (3042, 0.0), (3046, 0.0), (3047, 0.0), (3048, 0.0), (3050, 0.0), (3051, 0.0), (3052, 0.0), (3053, 0.0), (3054, 0.0), (3055, 0.0), (3056, 0.0), (3057, 0.0), (3060, 0.0), (3061, 0.0), (3063, 0.0), (3066, 0.0), (3067, 0.0), (3068, 0.0), (3069, 0.0), (3071, 0.0), (3072, 0.0), (3073, 0.0), (3074, 0.0), (3075, 0.0), (3076, 0.0), (3077, 0.0), (3078, 0.0), (3080, 0.0), (3081, 0.0), (3082, 0.0), (3083, 0.0), (3084, 0.0), (3087, 0.0), (3088, 0.0), (3089, 0.0), (3090, 0.0), (3092, 0.0), (3093, 0.0), (3094, 0.0), (3098, 0.0), (3101, 0.0), (3102, 0.0), (3103, 0.0), (3104, 0.0), (3106, 0.0), (3107, 0.0), (3109, 0.0), (3111, 0.0), (3113, 0.0), (3116, 0.0), (3119, 0.0), (3120, 0.0), (3127, 0.0), (3128, 0.0), (3137, 0.0), (3138, 0.0), (3139, 0.0), (3140, 0.0), (3142, 0.0), (3144, 0.0), (3145, 0.0), (3146, 0.0), (3147, 0.0), (3148, 0.0), (3149, 0.0), (3150, 0.0), (3151, 0.0), (3155, 0.0), (3157, 0.0), (3159, 0.0), (3162, 0.0), (3164, 0.0), (3166, 0.0), (3167, 0.0), (3170, 0.0), (3171, 0.0), (3173, 0.0), (3175, 0.0), (3176, 0.0), (3177, 0.0), (3178, 0.0), (3182, 0.0), (3183, 0.0), (3184, 0.0), (3186, 0.0), (3187, 0.0), (3188, 0.0), (3189, 0.0), (3190, 0.0), (3194, 0.0), (3197, 0.0), (3198, 0.0), (3199, 0.0), (3200, 0.0), (3201, 0.0), (3203, 0.0), (3204, 0.0), (3207, 0.0), (3209, 0.0), (3211, 0.0), (3212, 0.0), (3214, 0.0), (3216, 0.0), (3217, 0.0), (3218, 0.0), (3219, 0.0), (3220, 0.0), (3222, 0.0), (3224, 0.0), (3226, 0.0), (3229, 0.0), (3230, 0.0), (3234, 0.0), (3235, 0.0), (3236, 0.0), (3237, 0.0), (3238, 0.0), (3239, 0.0), (3240, 0.0), (3242, 0.0), (3243, 0.0), (3244, 0.0), (3245, 0.0), (3246, 0.0), (3248, 0.0), (3249, 0.0), (3250, 0.0), (3251, 0.0), (3254, 0.0), (3255, 0.0), (3256, 0.0), (3257, 0.0), (3258, 0.0), (3260, 0.0), (3261, 0.0), (3262, 0.0), (3264, 0.0), (3265, 0.0), (3266, 0.0), (3268, 0.0), (3269, 0.0), (3271, 0.0), (3273, 0.0), (3274, 0.0), (3277, 0.0), (3278, 0.0), (3280, 0.0), (3281, 0.0), (3282, 0.0), (3283, 0.0), (3285, 0.0), (3288, 0.0), (3289, 0.0), (3290, 0.0), (3291, 0.0), (3292, 0.0), (3293, 0.0), (3294, 0.0), (3295, 0.0), (3296, 0.0), (3298, 0.0), (3299, 0.0), (3301, 0.0), (3302, 0.0), (3304, 0.0), (3305, 0.0), (3307, 0.0), (3308, 0.0), (3309, 0.0), (3313, 0.0), (3314, 0.0), (3315, 0.0), (3316, 0.0), (3319, 0.0), (3320, 0.0), (3321, 0.0), (3322, 0.0), (3324, 0.0), (3326, 0.0), (3329, 0.0), (3333, 0.0), (3335, 0.0), (3337, 0.0), (3341, 0.0), (3347, 0.0), (3348, 0.0), (3350, 0.0), (3351, 0.0), (3352, 0.0), (3353, 0.0), (3354, 0.0), (3355, 0.0), (3356, 0.0), (3357, 0.0), (3358, 0.0), (3359, 0.0), (3362, 0.0), (3363, 0.0), (3364, 0.0), (3369, 0.0), (3371, 0.0), (3372, 0.0), (3375, 0.0), (3376, 0.0), (3378, 0.0), (3379, 0.0), (3380, 0.0), (3381, 0.0), (3382, 0.0), (3386, 0.0), (3388, 0.0), (3389, 0.0), (3390, 0.0), (3391, 0.0), (3392, 0.0), (3393, 0.0), (3396, 0.0), (3399, 0.0), (3400, 0.0), (3401, 0.0), (3402, 0.0), (3406, 0.0), (3407, 0.0), (3408, 0.0), (3409, 0.0), (3410, 0.0), (3411, 0.0), (3412, 0.0), (3413, 0.0), (3414, 0.0), (3415, 0.0), (3417, 0.0), (3418, 0.0), (3420, 0.0), (3421, 0.0), (3422, 0.0), (3423, 0.0), (3425, 0.0), (3428, 0.0), (3430, 0.0), (3431, 0.0), (3434, 0.0), (3442, 0.0), (3447, 0.0), (3449, 0.0), (3457, 0.0), (3458, 0.0), (3462, 0.0), (3473, 0.0), (3475, 0.0), (3476, 0.0), (3477, 0.0), (3478, 0.0), (3479, 0.0), (3480, 0.0), (3481, 0.0), (3485, 0.0), (3489, 0.0), (3490, 0.0), (3491, 0.0), (3493, 0.0), (3494, 0.0), (3496, 0.0), (3497, 0.0), (3500, 0.0), (3503, 0.0), (3505, 0.0), (3506, 0.0), (3508, 0.0), (3509, 0.0), (3510, 0.0), (3511, 0.0), (3512, 0.0), (3515, 0.0), (3517, 0.0), (3518, 0.0), (3519, 0.0), (3523, 0.0), (3524, 0.0), (3526, 0.0), (3527, 0.0), (3530, 0.0), (3533, 0.0), (3534, 0.0), (3536, 0.0), (3537, 0.0), (3538, 0.0), (3540, 0.0), (3541, 0.0), (3542, 0.0), (3543, 0.0), (3544, 0.0), (3545, 0.0), (3547, 0.0), (3548, 0.0), (3549, 0.0), (3550, 0.0), (3551, 0.0), (3552, 0.0), (3557, 0.0), (3558, 0.0), (3559, 0.0), (3561, 0.0), (3563, 0.0), (3564, 0.0), (3565, 0.0), (3569, 0.0), (3570, 0.0), (3572, 0.0), (3573, 0.0), (3575, 0.0), (3577, 0.0), (3579, 0.0), (3580, 0.0), (3581, 0.0), (3585, 0.0), (3589, 0.0), (3590, 0.0), (3592, 0.0), (3594, 0.0), (3596, 0.0), (3599, 0.0), (3601, 0.0), (3606, 0.0), (3607, 0.0), (3608, 0.0), (3610, 0.0), (3611, 0.0), (3612, 0.0), (3613, 0.0), (3614, 0.0), (3615, 0.0), (3616, 0.0), (3617, 0.0), (3620, 0.0), (3621, 0.0), (3622, 0.0), (3625, 0.0), (3626, 0.0), (3627, 0.0), (3631, 0.0), (3632, 0.0), (3633, 0.0), (3634, 0.0), (3636, 0.0), (3639, 0.0), (3643, 0.0), (3644, 0.0), (3646, 0.0), (3647, 0.0), (3648, 0.0), (3649, 0.0), (3650, 0.0), (3651, 0.0), (3654, 0.0), (3655, 0.0), (3656, 0.0), (3662, 0.0), (3663, 0.0), (3665, 0.0), (3667, 0.0), (3669, 0.0), (3671, 0.0), (3672, 0.0), (3673, 0.0), (3677, 0.0), (3678, 0.0), (3681, 0.0), (3682, 0.0), (3683, 0.0), (3686, 0.0), (3687, 0.0), (3688, 0.0), (3689, 0.0), (3691, 0.0), (3701, 0.0), (3702, 0.0), (3712, 0.0), (3714, 0.0), (3716, 0.0), (3717, 0.0), (3719, 0.0), (3725, 0.0), (3728, 0.0), (3729, 0.0), (3730, 0.0), (3731, 0.0), (3732, 0.0), (3733, 0.0), (3736, 0.0), (3737, 0.0), (3739, 0.0), (3740, 0.0), (3745, 0.0), (3748, 0.0), (3749, 0.0), (3750, 0.0), (3751, 0.0), (3752, 0.0), (3753, 0.0), (3754, 0.0), (3755, 0.0), (3757, 0.0), (3758, 0.0), (3759, 0.0), (3760, 0.0), (3761, 0.0), (3762, 0.0), (3763, 0.0), (3764, 0.0), (3765, 0.0), (3767, 0.0), (3770, 0.0), (3772, 0.0), (3778, 0.0), (3779, 0.0), (3781, 0.0), (3784, 0.0), (3789, 0.0), (3790, 0.0), (3791, 0.0), (3792, 0.0), (3796, 0.0), (3799, 0.0), (3800, 0.0), (3804, 0.0), (3808, 0.0), (3809, 0.0), (3811, 0.0), (3812, 0.0), (3813, 0.0), (3816, 0.0), (3818, 0.0), (3820, 0.0), (3821, 0.0), (3822, 0.0), (3825, 0.0), (3827, 0.0), (3829, 0.0), (3830, 0.0), (3831, 0.0), (3832, 0.0), (3835, 0.0), (3836, 0.0), (3837, 0.0), (3838, 0.0), (3839, 0.0), (3842, 0.0), (3843, 0.0), (3845, 0.0), (3847, 0.0), (3848, 0.0), (3851, 0.0), (3855, 0.0), (3856, 0.0), (3857, 0.0), (3858, 0.0), (3859, 0.0), (3861, 0.0), (3863, 0.0), (3864, 0.0), (3866, 0.0), (3867, 0.0), (3868, 0.0), (3872, 0.0), (3873, 0.0), (3874, 0.0), (3875, 0.0), (3878, 0.0), (3879, 0.0), (3880, 0.0), (3882, 0.0), (3884, 0.0), (3885, 0.0), (3887, 0.0), (3888, 0.0), (3889, 0.0), (3890, 0.0), (3891, 0.0), (3892, 0.0), (3893, 0.0), (3894, 0.0), (3895, 0.0), (3896, 0.0), (3898, 0.0), (3899, 0.0), (3900, 0.0), (3902, 0.0), (3904, 0.0), (3905, 0.0), (3906, 0.0), (3909, 0.0), (3911, 0.0), (3912, 0.0), (3913, 0.0), (3914, 0.0), (3915, 0.0), (3916, 0.0), (3918, 0.0), (3919, 0.0), (3921, 0.0), (3922, 0.0), (3924, 0.0), (3925, 0.0), (3927, 0.0), (3928, 0.0), (3929, 0.0), (3930, 0.0), (3931, 0.0), (3932, 0.0), (3933, 0.0), (3934, 0.0), (3935, 0.0), (3936, 0.0), (3939, 0.0), (3940, 0.0), (3941, 0.0), (3943, 0.0), (3945, 0.0), (3948, 0.0), (3949, 0.0), (3950, 0.0), (3951, 0.0), (3952, 0.0), (3954, 0.0), (3956, 0.0), (3962, 0.0), (3964, 0.0), (3967, 0.0), (3971, 0.0), (3973, 0.0), (3976, 0.0), (3981, 0.0), (3983, 0.0), (3984, 0.0), (3985, 0.0), (3986, 0.0), (3987, 0.0), (3988, 0.0), (3990, 0.0), (3992, 0.0), (3994, 0.0), (3996, 0.0), (3999, 0.0), (4002, 0.0), (4003, 0.0), (4006, 0.0), (4007, 0.0), (4008, 0.0), (4010, 0.0), (4011, 0.0), (4014, 0.0), (4017, 0.0), (4018, 0.0), (4019, 0.0), (4021, 0.0), (4022, 0.0), (4023, 0.0), (4024, 0.0), (4025, 0.0), (4026, 0.0), (4027, 0.0), (4028, 0.0), (4029, 0.0), (4030, 0.0), (4032, 0.0), (4035, 0.0), (4040, 0.0), (4042, 0.0), (4048, 0.0), (4051, 0.0), (4052, 0.0), (4053, 0.0), (4054, 0.0), (4057, 0.0), (4058, 0.0), (4059, 0.0), (4060, 0.0), (4061, 0.0), (4062, 0.0), (4063, 0.0), (4064, 0.0), (4065, 0.0), (4066, 0.0), (4067, 0.0), (4069, 0.0), (4072, 0.0), (4073, 0.0), (4075, 0.0), (4078, 0.0), (4079, 0.0), (4080, 0.0), (4081, 0.0), (4082, 0.0), (4083, 0.0), (4084, 0.0), (4085, 0.0), (4087, 0.0), (4097, 0.0), (4101, 0.0), (4102, 0.0), (4105, 0.0), (4107, 0.0), (4108, 0.0), (4109, 0.0), (4110, 0.0), (4111, 0.0), (4113, 0.0), (4115, 0.0), (4117, 0.0), (4125, 0.0), (4126, 0.0), (4127, 0.0), (4129, 0.0), (4132, 0.0), (4135, 0.0), (4136, 0.0), (4137, 0.0), (4138, 0.0), (4139, 0.0), (4140, 0.0), (4141, 0.0), (4145, 0.0), (4146, 0.0), (4147, 0.0), (4149, 0.0), (4150, 0.0), (4151, 0.0), (4155, 0.0), (4156, 0.0), (4157, 0.0), (4159, 0.0), (4161, 0.0), (4166, 0.0), (4167, 0.0), (4169, 0.0), (4170, 0.0), (4171, 0.0), (4172, 0.0), (4173, 0.0), (4174, 0.0), (4175, 0.0), (4177, 0.0), (4179, 0.0), (4180, 0.0), (4182, 0.0), (4183, 0.0), (4184, 0.0), (4187, 0.0), (4190, 0.0), (4191, 0.0), (4192, 0.0), (4197, 0.0), (4198, 0.0), (4200, 0.0), (4201, 0.0), (4203, 0.0), (4204, 0.0), (4205, 0.0), (4206, 0.0), (4207, 0.0), (4209, 0.0), (4212, 0.0), (4213, 0.0), (4214, 0.0), (4215, 0.0), (4222, 0.0), (4223, 0.0), (4225, 0.0), (4226, 0.0), (4228, 0.0), (4229, 0.0), (4230, 0.0), (4232, 0.0), (4234, 0.0), (4237, 0.0), (4239, 0.0), (4243, 0.0), (4245, 0.0), (4246, 0.0), (4250, 0.0), (4252, 0.0), (4253, 0.0), (4254, 0.0), (4256, 0.0), (4257, 0.0), (4258, 0.0), (4259, 0.0), (4260, 0.0), (4262, 0.0), (4263, 0.0), (4266, 0.0), (4267, 0.0), (4268, 0.0), (4271, 0.0), (4273, 0.0), (4277, 0.0), (4278, 0.0), (4279, 0.0), (4280, 0.0), (4286, 0.0), (4287, 0.0), (4291, 0.0), (4295, 0.0), (4296, 0.0), (4297, 0.0), (4298, 0.0), (4301, 0.0), (4302, 0.0), (4304, 0.0), (4306, 0.0), (4308, 0.0), (4311, 0.0), (4313, 0.0), (4314, 0.0), (4315, 0.0), (4316, 0.0), (4317, 0.0), (4318, 0.0), (4319, 0.0), (4320, 0.0), (4321, 0.0), (4324, 0.0), (4326, 0.0), (4327, 0.0), (4329, 0.0), (4330, 0.0), (4332, 0.0), (4333, 0.0), (4334, 0.0), (4336, 0.0), (4340, 0.0), (4342, 0.0), (4343, 0.0), (4346, 0.0), (4348, 0.0), (4349, 0.0), (4350, 0.0), (4352, 0.0), (4355, 0.0), (4356, 0.0), (4357, 0.0), (4358, 0.0), (4359, 0.0), (4361, 0.0), (4363, 0.0), (4367, 0.0), (4368, 0.0), (4369, 0.0), (4370, 0.0), (4371, 0.0), (4372, 0.0), (4381, 0.0), (4382, 0.0), (4385, 0.0), (4386, 0.0), (4391, 0.0), (4394, 0.0), (4395, 0.0), (4396, 0.0), (4397, 0.0), (4398, 0.0), (4399, 0.0), (4400, 0.0), (4404, 0.0), (4406, 0.0), (4407, 0.0), (4408, 0.0), (4409, 0.0), (4411, 0.0), (4413, 0.0), (4415, 0.0), (4416, 0.0), (4417, 0.0), (4420, 0.0), (4421, 0.0), (4422, 0.0), (4423, 0.0), (4424, 0.0), (4425, 0.0), (4427, 0.0), (4434, 0.0), (4437, 0.0), (4442, 0.0), (4446, 0.0), (4448, 0.0), (4449, 0.0), (4451, 0.0), (4452, 0.0), (4458, 0.0), (4459, 0.0), (4460, 0.0), (4461, 0.0), (4463, 0.0), (4465, 0.0), (4469, 0.0), (4471, 0.0), (4472, 0.0), (4473, 0.0), (4476, 0.0), (4479, 0.0), (4480, 0.0), (4483, 0.0), (4484, 0.0), (4485, 0.0), (4487, 0.0), (4489, 0.0), (4495, 0.0), (4496, 0.0), (4497, 0.0), (4498, 0.0), (4499, 0.0), (4500, 0.0), (4502, 0.0), (4504, 0.0), (4505, 0.0), (4506, 0.0), (4507, 0.0), (4508, 0.0), (4511, 0.0), (4520, 0.0), (4521, 0.0), (4528, 0.0), (4529, 0.0), (4530, 0.0), (4536, 0.0), (4538, 0.0), (4539, 0.0), (4540, 0.0), (4541, 0.0), (4542, 0.0), (4544, 0.0), (4545, 0.0), (4547, 0.0), (4551, 0.0), (4555, 0.0), (4556, 0.0), (4558, 0.0), (4559, 0.0), (4560, 0.0), (4561, 0.0), (4562, 0.0), (4563, 0.0), (4565, 0.0), (4566, 0.0), (4567, 0.0), (4571, 0.0), (4572, 0.0), (4574, 0.0), (4575, 0.0), (4577, 0.0), (4578, 0.0), (4580, 0.0), (4583, 0.0), (4584, 0.0), (4592, 0.0), (4594, 0.0), (4596, 0.0), (4598, 0.0), (4599, 0.0), (4602, 0.0), (4603, 0.0), (4604, 0.0), (4605, 0.0), (4607, 0.0), (4611, 0.0), (4615, 0.0), (4616, 0.0), (4620, 0.0), (4622, 0.0), (4625, 0.0), (4627, 0.0), (4628, 0.0), (4632, 0.0), (4633, 0.0), (4634, 0.0), (4635, 0.0), (4636, 0.0), (4638, 0.0), (4640, 0.0), (4641, 0.0), (4644, 0.0), (4645, 0.0), (4648, 0.0), (4650, 0.0), (4651, 0.0), (4652, 0.0), (4654, 0.0), (4657, 0.0), (4662, 0.0), (4668, 0.0), (4671, 0.0), (4672, 0.0), (4675, 0.0), (4680, 0.0), (4681, 0.0), (4683, 0.0), (4685, 0.0), (4686, 0.0), (4687, 0.0), (4688, 0.0), (4692, 0.0), (4693, 0.0), (4694, 0.0), (4696, 0.0), (4700, 0.0), (4702, 0.0), (4704, 0.0), (4706, 0.0), (4707, 0.0), (4711, 0.0), (4712, 0.0), (4713, 0.0), (4714, 0.0), (4717, 0.0), (4718, 0.0), (4719, 0.0), (4720, 0.0), (4722, 0.0), (4728, 0.0), (4729, 0.0), (4730, 0.0), (4732, 0.0), (4734, 0.0), (4736, 0.0), (4737, 0.0), (4738, 0.0), (4740, 0.0), (4744, 0.0), (4748, 0.0), (4749, 0.0), (4750, 0.0), (4751, 0.0), (4753, 0.0), (4755, 0.0), (4756, 0.0), (4758, 0.0)]\n"
          ]
        }
      ]
    },
    {
      "cell_type": "code",
      "source": [
        "\n",
        "print('Top 30 Movies Suggested for You : \\n')\n",
        "\n",
        "i = 1\n",
        "for movie in Sorted_Similar_Movies:\n",
        "  index = movie[0]\n",
        "  title_from_index = df[df.index==index]['Movie_Title'].values[0]\n",
        "  if (i<31):\n",
        "    print(i, '.',title_from_index)\n",
        "    i+=1\n"
      ],
      "metadata": {
        "colab": {
          "base_uri": "https://localhost:8080/"
        },
        "id": "RKbyL_ftcvjm",
        "outputId": "b23892da-33d6-4cdb-9f91-bbf8977a2341"
      },
      "execution_count": null,
      "outputs": [
        {
          "output_type": "stream",
          "name": "stdout",
          "text": [
            "Top 30 Movies Suggested for You : \n",
            "\n",
            "1 . Ong Bak 2\n",
            "2 . The Protector\n",
            "3 . Skin Trade\n",
            "4 . The Legend of Suriyothai\n",
            "5 . The Scorpion King\n",
            "6 . Conan the Destroyer\n",
            "7 . Red Sonja\n",
            "8 . Hercules\n",
            "9 . Flyboys\n",
            "10 . Life or Something Like It\n",
            "11 . Bleeding Hearts\n",
            "12 . Against the Ropes\n",
            "13 . Black Water Transit\n",
            "14 . Enemy of the State\n",
            "15 . The Bourne Legacy\n",
            "16 . The Mechanic\n",
            "17 . Dogtown and Z-Boys\n",
            "18 . Impostor\n",
            "19 . Days of Thunder\n",
            "20 . The Hunchback of Notre Dame\n",
            "21 . Pain & Gain\n",
            "22 . Beverly Hills Cop II\n",
            "23 . Crimson Tide\n",
            "24 . To Be Frank, Sinatra at 100\n",
            "25 . Timber Falls\n",
            "26 . Man on Fire\n",
            "27 . The Siege\n",
            "28 . Underworld: Evolution\n",
            "29 . Close Range\n",
            "30 . Three Kingdoms: Resurrection of the Dragon\n"
          ]
        }
      ]
    },
    {
      "cell_type": "markdown",
      "source": [
        "Top 10 Movie Recommendation System"
      ],
      "metadata": {
        "id": "DcDBxcU1dNfF"
      }
    },
    {
      "cell_type": "code",
      "source": [
        "Movie_Name = input('Enter Your Favourite Movie Name: ')\n",
        "\n",
        "list_of_all_titles = df['Movie_Title'].tolist()\n",
        "\n",
        "Find_Close_Match = difflib.get_close_matches(Movie_Name, list_of_all_titles)\n",
        "\n",
        "Close_Match = Find_Close_Match[0]\n",
        "\n",
        "Index_of_Movie = df[df.Movie_Title == Close_Match]['Movie_ID'].values[0]\n",
        "\n",
        "Recommendation_Score = list(enumerate(Similarity_Score[Index_of_Movie]))\n",
        "\n",
        "sorted_similar_movies = sorted(Recommendation_Score, key = lambda x:x[1], reverse = True)\n",
        "\n",
        "print('Top 10 Movies Suggested For You : \\n')\n",
        "\n",
        "i = 1\n",
        "for movie in Sorted_Similar_Movies:\n",
        "  index = movie[0]\n",
        "  title_from_index = df[df.Movie_ID==index]['Movie_Title'].values\n",
        "  if (i<11):\n",
        "    print(i, '.',title_from_index)\n",
        "    i+=1\n"
      ],
      "metadata": {
        "colab": {
          "base_uri": "https://localhost:8080/"
        },
        "id": "z8IoQRondOxE",
        "outputId": "702feff7-347f-4bb8-9b42-dfafa5396716"
      },
      "execution_count": null,
      "outputs": [
        {
          "output_type": "stream",
          "name": "stdout",
          "text": [
            "Enter Your Favourite Movie Name: hulk\n",
            "Top 10 Movies Suggested For You : \n",
            "\n",
            "1 . ['Ararat']\n",
            "2 . ['Dear Frankie']\n",
            "3 . ['Subconscious']\n",
            "4 . ['Love Jones']\n",
            "5 . ['Clear and Present Danger']\n",
            "6 . ['Super Mario Bros.']\n",
            "7 . ['The Glimmer Man']\n",
            "8 . ['Kevin Hart: Let Me Explain']\n",
            "9 . ['The Triplets of Belleville']\n",
            "10 . ['Days of Heaven']\n"
          ]
        }
      ]
    }
  ]
}